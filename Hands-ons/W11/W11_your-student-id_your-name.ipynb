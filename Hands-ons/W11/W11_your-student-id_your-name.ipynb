{
 "cells": [
  {
   "cell_type": "markdown",
   "metadata": {},
   "source": [
    "# Week 10 Handson\n",
    "\n",
    "In this week, we will teach you how to implement regression model from-the-scratch. In this week, a mathematical derivation of regression will be carried in the class before hands-on. Then, you are expected to implement the final derivation formula into a python code."
   ]
  },
  {
   "cell_type": "markdown",
   "metadata": {},
   "source": [
    "#### Used Data "
   ]
  },
  {
   "cell_type": "code",
   "execution_count": 1,
   "metadata": {},
   "outputs": [
    {
     "data": {
      "image/png": "[encoded data removed]",
      "text/plain": [
       "<Figure size 432x288 with 1 Axes>"
      ]
     },
     "metadata": {
      "needs_background": "light"
     },
     "output_type": "display_data"
    }
   ],
   "source": [
    "%matplotlib inline\n",
    "import numpy as np\n",
    "from matplotlib import pyplot as plt\n",
    "\n",
    "x =np.array([0,1.2,2,2.9,4.3,7,7.8,9.2]) # input of regression model\n",
    "y = np.array([3,8,10,9.5,1.5,-8,-3.4,2.3]) # target (ground truth) \n",
    "                                           # of regression model\n",
    "\n",
    "plt.figure(\"original data\")\n",
    "plt.plot(x,y,c='blue',label='ground truth')\n",
    "plt.legend()\n",
    "plt.show()"
   ]
  },
  {
   "cell_type": "markdown",
   "metadata": {},
   "source": [
    "**Notes:** before you start to work on M01-M04, we want to inform that you may make usable fuctions, since they (M01-M04) are basically quite similar."
   ]
  },
  {
   "cell_type": "markdown",
   "metadata": {},
   "source": [
    "## Milestone (M01)\n",
    "a. Make a linear regression model, i.e., find linear regression coefficient $\\mathbf{a}$ ($\\mathbf{a}$ is notation used in the `Week11 - Pengantar Regresi.pdf`).<br>\n",
    "b. Calculate regression prediction using regression coefficient $\\mathbf{a}$ you get in M01.a.<br>\n",
    "c. Plot prediction output you get in M01.b together (in the same plot) with the ground truth. (Please put label/legend to differ plots of prediction and ground truth)"
   ]
  },
  {
   "cell_type": "code",
   "execution_count": 2,
   "metadata": {},
   "outputs": [],
   "source": [
    "# write code for M01.a here"
   ]
  },
  {
   "cell_type": "code",
   "execution_count": 3,
   "metadata": {},
   "outputs": [],
   "source": [
    "# write code for M01.b here"
   ]
  },
  {
   "cell_type": "code",
   "execution_count": 4,
   "metadata": {},
   "outputs": [],
   "source": [
    "# write code for M01.c here"
   ]
  },
  {
   "cell_type": "markdown",
   "metadata": {},
   "source": [
    "## M02 (same with M01, but 2nd order polynomial)\n",
    "a. Make a polynomial regression model with $order=2$, i.e., find linear regression coefficient $\\mathbf{a}$ ($\\mathbf{a}$ is notation used in the `Week11 - Pengantar Regresi.pdf`).<br>\n",
    "b. Calculate regression prediction using regression coefficient $\\mathbf{a}$ you get in M02.a.<br>\n",
    "c. Plot prediction output you get in M02.b together (in the same plot) with the ground truth. (Please put label/legend to differ plots of prediction and ground truth)"
   ]
  },
  {
   "cell_type": "code",
   "execution_count": 5,
   "metadata": {},
   "outputs": [],
   "source": [
    "# write code for M02.a here"
   ]
  },
  {
   "cell_type": "code",
   "execution_count": 6,
   "metadata": {},
   "outputs": [],
   "source": [
    "# write code for M02.b here"
   ]
  },
  {
   "cell_type": "code",
   "execution_count": 7,
   "metadata": {},
   "outputs": [],
   "source": [
    "# write code for M02.c here"
   ]
  },
  {
   "cell_type": "markdown",
   "metadata": {},
   "source": [
    "## M03 (same with Q02, but 4th order polynomial)\n",
    "a. Make a polynomial regression model with $order=4$, i.e., find linear regression coefficient $\\mathbf{a}$ ($\\mathbf{a}$ is notation used in the `Week11 - Pengantar Regresi.pdf`).<br>\n",
    "b. Calculate regression prediction using regression coefficient $\\mathbf{a}$ you get in M03.a.<br>\n",
    "c. Plot prediction output you get in M03.b together (in the same plot) with the ground truth. (Please put label/legend to differ plots of prediction and ground truth)"
   ]
  },
  {
   "cell_type": "code",
   "execution_count": 8,
   "metadata": {},
   "outputs": [],
   "source": [
    "# write code for Q03.a here"
   ]
  },
  {
   "cell_type": "code",
   "execution_count": 9,
   "metadata": {},
   "outputs": [],
   "source": [
    "# write code for Q03.b here"
   ]
  },
  {
   "cell_type": "code",
   "execution_count": 10,
   "metadata": {},
   "outputs": [],
   "source": [
    "# write code for Q03.c here"
   ]
  },
  {
   "cell_type": "markdown",
   "metadata": {},
   "source": [
    "## M04 (same with M03, but with regularization)\n",
    "a. Make a **regularized** polynomial regression model with $order=4$ and regularization constant $\\lambda=0.5$ (find the regression coefficient $\\mathbf{a}$).<br>\n",
    "b. Calculate regression prediction using regression coefficient $\\mathbf{a}$ you get in M04.a.<br>\n",
    "c. Plot prediction output you get in M04.b together (in the same plot) with the ground truth. (Please put label/legend to differ plots of prediction and grount truth)"
   ]
  },
  {
   "cell_type": "code",
   "execution_count": 11,
   "metadata": {},
   "outputs": [],
   "source": [
    "# write code for Q04.a here"
   ]
  },
  {
   "cell_type": "code",
   "execution_count": 12,
   "metadata": {},
   "outputs": [],
   "source": [
    "# write code for Q04.b here"
   ]
  },
  {
   "cell_type": "code",
   "execution_count": 13,
   "metadata": {},
   "outputs": [],
   "source": [
    "# write code for Q04.c here"
   ]
  }
 ],
 "metadata": {
  "kernelspec": {
   "display_name": "Python 3",
   "language": "python",
   "name": "python3"
  },
  "language_info": {
   "codemirror_mode": {
    "name": "ipython",
    "version": 3
   },
   "file_extension": ".py",
   "mimetype": "text/x-python",
   "name": "python",
   "nbconvert_exporter": "python",
   "pygments_lexer": "ipython3",
   "version": "3.7.9"
  }
 },
 "nbformat": 4,
 "nbformat_minor": 2
}
