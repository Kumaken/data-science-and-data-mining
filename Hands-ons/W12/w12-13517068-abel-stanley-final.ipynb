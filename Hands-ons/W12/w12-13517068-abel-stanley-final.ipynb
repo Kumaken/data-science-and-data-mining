{
 "cells": [
  {
   "cell_type": "markdown",
   "metadata": {
    "papermill": {
     "duration": 0.043752,
     "end_time": "2020-11-17T04:11:16.332854",
     "exception": false,
     "start_time": "2020-11-17T04:11:16.289102",
     "status": "completed"
    },
    "tags": []
   },
   "source": [
    "# Week 12 Handson - Assignment/Project 2: Regression #02\n",
    "\n",
    "As the previous assignment, the objective of this project is to explore your capability as data analyst. You are challenged to implement data mining methods, given a raw dataset. Then, you need to propose several regression methods for the data, analyze and evaluate it. \n",
    "\n",
    "Basic tasks you need to perform in this project: (Note: you can add additional tasks that you think necessary for this project)\n",
    "\n",
    "1.\tBuild regression models to predict the price for second hand cars. This step should include EDA, pre-processing, creating model and evaluation. You may use several regression methods, do benchmarking, employ additional techniques, such as ensemble method, to improve the prediction accuracy, etc.\n",
    "2.\tPlease use the most appropriate evaluation metrics for this regression project.\n",
    "\n",
    "Deadline: 17 November 2020, 11:59 a.m. \n",
    " \n",
    "Deliverables: \n",
    "1. Jupyter notebook (your code)\n",
    "2.\tPresentation <br>\n",
    "**Nb**: In the end of slide and report, please write members’ names and their own contribution during this project."
   ]
  },
  {
   "cell_type": "code",
   "execution_count": 1,
   "metadata": {
    "execution": {
     "iopub.execute_input": "2020-11-17T04:11:16.423226Z",
     "iopub.status.busy": "2020-11-17T04:11:16.422463Z",
     "iopub.status.idle": "2020-11-17T04:11:16.425551Z",
     "shell.execute_reply": "2020-11-17T04:11:16.426159Z"
    },
    "papermill": {
     "duration": 0.05112,
     "end_time": "2020-11-17T04:11:16.426363",
     "exception": false,
     "start_time": "2020-11-17T04:11:16.375243",
     "status": "completed"
    },
    "tags": []
   },
   "outputs": [],
   "source": [
    "import numpy as np\n",
    "import matplotlib.pyplot as plt"
   ]
  },
  {
   "cell_type": "markdown",
   "metadata": {
    "papermill": {
     "duration": 0.04214,
     "end_time": "2020-11-17T04:11:16.511045",
     "exception": false,
     "start_time": "2020-11-17T04:11:16.468905",
     "status": "completed"
    },
    "tags": []
   },
   "source": [
    "## Read dataset"
   ]
  },
  {
   "cell_type": "code",
   "execution_count": 2,
   "metadata": {
    "execution": {
     "iopub.execute_input": "2020-11-17T04:11:16.604652Z",
     "iopub.status.busy": "2020-11-17T04:11:16.603489Z",
     "iopub.status.idle": "2020-11-17T04:11:16.612741Z",
     "shell.execute_reply": "2020-11-17T04:11:16.611803Z"
    },
    "papermill": {
     "duration": 0.059623,
     "end_time": "2020-11-17T04:11:16.612921",
     "exception": false,
     "start_time": "2020-11-17T04:11:16.553298",
     "status": "completed"
    },
    "tags": []
   },
   "outputs": [
    {
     "name": "stdout",
     "output_type": "stream",
     "text": [
      "/kaggle/input/dsdmw12/data.csv\n"
     ]
    }
   ],
   "source": [
    "# Input data files are available in the read-only \"../input/\" directory\n",
    "# For example, running this (by clicking run or pressing Shift+Enter) will list all files under the input directory\n",
    "\n",
    "import os\n",
    "for dirname, _, filenames in os.walk('/kaggle/input'):\n",
    "    for filename in filenames:\n",
    "        print(os.path.join(dirname, filename))"
   ]
  },
  {
   "cell_type": "code",
   "execution_count": 3,
   "metadata": {
    "execution": {
     "iopub.execute_input": "2020-11-17T04:11:16.707801Z",
     "iopub.status.busy": "2020-11-17T04:11:16.707014Z",
     "iopub.status.idle": "2020-11-17T04:11:16.986096Z",
     "shell.execute_reply": "2020-11-17T04:11:16.985354Z"
    },
    "papermill": {
     "duration": 0.329535,
     "end_time": "2020-11-17T04:11:16.986237",
     "exception": false,
     "start_time": "2020-11-17T04:11:16.656702",
     "status": "completed"
    },
    "tags": []
   },
   "outputs": [
    {
     "name": "stdout",
     "output_type": "stream",
     "text": [
      "Shape: (36575, 20)\n"
     ]
    },
    {
     "data": {
      "text/html": [
       "<div>\n",
       "<style scoped>\n",
       "    .dataframe tbody tr th:only-of-type {\n",
       "        vertical-align: middle;\n",
       "    }\n",
       "\n",
       "    .dataframe tbody tr th {\n",
       "        vertical-align: top;\n",
       "    }\n",
       "\n",
       "    .dataframe thead th {\n",
       "        text-align: right;\n",
       "    }\n",
       "</style>\n",
       "<table border=\"1\" class=\"dataframe\">\n",
       "  <thead>\n",
       "    <tr style=\"text-align: right;\">\n",
       "      <th></th>\n",
       "      <th>Tahun</th>\n",
       "      <th>Kapasitas mesin</th>\n",
       "      <th>Warna</th>\n",
       "      <th>Tipe bodi</th>\n",
       "      <th>Varian</th>\n",
       "      <th>STATE</th>\n",
       "      <th>Merek</th>\n",
       "      <th>Transmisi</th>\n",
       "      <th>Model</th>\n",
       "      <th>Fitur tambahan</th>\n",
       "      <th>Nama Bursa Mobil</th>\n",
       "      <th>Tipe bahan bakar</th>\n",
       "      <th>Tipe Penjual</th>\n",
       "      <th>CITY</th>\n",
       "      <th>COUNTRY</th>\n",
       "      <th>Jarak tempuh</th>\n",
       "      <th>phone</th>\n",
       "      <th>Sistem Penggerak</th>\n",
       "      <th>price</th>\n",
       "      <th>NEIGHBOURHOOD</th>\n",
       "    </tr>\n",
       "  </thead>\n",
       "  <tbody>\n",
       "    <tr>\n",
       "      <th>0</th>\n",
       "      <td>2008</td>\n",
       "      <td>&gt;1.500 - 2.000 cc</td>\n",
       "      <td>Abu-abu</td>\n",
       "      <td>Pick-up</td>\n",
       "      <td>G Luxury</td>\n",
       "      <td>Jawa Barat</td>\n",
       "      <td>Toyota</td>\n",
       "      <td>Automatic</td>\n",
       "      <td>Innova</td>\n",
       "      <td>['Sensor Parkir', 'Electric Window']</td>\n",
       "      <td>NaN</td>\n",
       "      <td>Bensin</td>\n",
       "      <td>Individu</td>\n",
       "      <td>Bandung Kota</td>\n",
       "      <td>Indonesia</td>\n",
       "      <td>120.000-125.000</td>\n",
       "      <td>6.282282e+12</td>\n",
       "      <td>Rear Wheel Drive (RWD)</td>\n",
       "      <td>125000000</td>\n",
       "      <td>Bojongloa Kidul</td>\n",
       "    </tr>\n",
       "    <tr>\n",
       "      <th>1</th>\n",
       "      <td>2018</td>\n",
       "      <td>&gt;1.000 - 1.500 cc</td>\n",
       "      <td>Silver</td>\n",
       "      <td>Hatchback</td>\n",
       "      <td>E CVT</td>\n",
       "      <td>Jakarta D.K.I.</td>\n",
       "      <td>Honda</td>\n",
       "      <td>Automatic</td>\n",
       "      <td>HR-V</td>\n",
       "      <td>['Airbag', 'Bluetooth Audio', 'Electric Window...</td>\n",
       "      <td>Bursa Mobil Blok M Square</td>\n",
       "      <td>Bensin</td>\n",
       "      <td>Diler</td>\n",
       "      <td>Jakarta Selatan</td>\n",
       "      <td>Indonesia</td>\n",
       "      <td>10.000-15.000</td>\n",
       "      <td>6.289655e+12</td>\n",
       "      <td>4X2</td>\n",
       "      <td>240000000</td>\n",
       "      <td>Kebayoran Baru</td>\n",
       "    </tr>\n",
       "    <tr>\n",
       "      <th>2</th>\n",
       "      <td>2017</td>\n",
       "      <td>&gt;1.000 - 1.500 cc</td>\n",
       "      <td>Putih</td>\n",
       "      <td>Hatchback</td>\n",
       "      <td>Panca T</td>\n",
       "      <td>Sumatra Selatan</td>\n",
       "      <td>Datsun</td>\n",
       "      <td>Manual</td>\n",
       "      <td>Go</td>\n",
       "      <td>['Airbag', 'Electric Window', 'Sensor Parkir']</td>\n",
       "      <td>NaN</td>\n",
       "      <td>Bensin</td>\n",
       "      <td>Diler</td>\n",
       "      <td>Palembang Kota</td>\n",
       "      <td>Indonesia</td>\n",
       "      <td>15.000-20.000</td>\n",
       "      <td>6.281279e+12</td>\n",
       "      <td>Front Wheel Drive (FWD)</td>\n",
       "      <td>80000000</td>\n",
       "      <td>Kemuning</td>\n",
       "    </tr>\n",
       "    <tr>\n",
       "      <th>3</th>\n",
       "      <td>2013</td>\n",
       "      <td>&gt;1.000 - 1.500 cc</td>\n",
       "      <td>Silver</td>\n",
       "      <td>NaN</td>\n",
       "      <td>E</td>\n",
       "      <td>Jawa Timur</td>\n",
       "      <td>Honda</td>\n",
       "      <td>Automatic</td>\n",
       "      <td>Freed</td>\n",
       "      <td>NaN</td>\n",
       "      <td>NaN</td>\n",
       "      <td>Bensin</td>\n",
       "      <td>NaN</td>\n",
       "      <td>Surabaya Kota</td>\n",
       "      <td>Indonesia</td>\n",
       "      <td>85.000-90.000</td>\n",
       "      <td>6.283832e+12</td>\n",
       "      <td>NaN</td>\n",
       "      <td>170000000</td>\n",
       "      <td>Gubeng</td>\n",
       "    </tr>\n",
       "    <tr>\n",
       "      <th>4</th>\n",
       "      <td>2016</td>\n",
       "      <td>&gt;1.000 - 1.500 cc</td>\n",
       "      <td>Putih</td>\n",
       "      <td>MPV</td>\n",
       "      <td>GL Sporty</td>\n",
       "      <td>Jakarta D.K.I.</td>\n",
       "      <td>Suzuki</td>\n",
       "      <td>Manual</td>\n",
       "      <td>Ertiga</td>\n",
       "      <td>['Airbag', 'Electric Window', 'Sensor Parkir']</td>\n",
       "      <td>Bursa Mobil MGK Kemayoran</td>\n",
       "      <td>Bensin</td>\n",
       "      <td>Diler</td>\n",
       "      <td>Jakarta Pusat</td>\n",
       "      <td>Indonesia</td>\n",
       "      <td>60.000-65.000</td>\n",
       "      <td>6.281912e+12</td>\n",
       "      <td>4X2</td>\n",
       "      <td>125000000</td>\n",
       "      <td>Kemayoran</td>\n",
       "    </tr>\n",
       "  </tbody>\n",
       "</table>\n",
       "</div>"
      ],
      "text/plain": [
       "  Tahun    Kapasitas mesin    Warna  Tipe bodi     Varian            STATE  \\\n",
       "0  2008  >1.500 - 2.000 cc  Abu-abu    Pick-up   G Luxury       Jawa Barat   \n",
       "1  2018  >1.000 - 1.500 cc   Silver  Hatchback      E CVT   Jakarta D.K.I.   \n",
       "2  2017  >1.000 - 1.500 cc    Putih  Hatchback    Panca T  Sumatra Selatan   \n",
       "3  2013  >1.000 - 1.500 cc   Silver        NaN          E       Jawa Timur   \n",
       "4  2016  >1.000 - 1.500 cc    Putih        MPV  GL Sporty   Jakarta D.K.I.   \n",
       "\n",
       "    Merek  Transmisi   Model  \\\n",
       "0  Toyota  Automatic  Innova   \n",
       "1   Honda  Automatic    HR-V   \n",
       "2  Datsun     Manual      Go   \n",
       "3   Honda  Automatic   Freed   \n",
       "4  Suzuki     Manual  Ertiga   \n",
       "\n",
       "                                      Fitur tambahan  \\\n",
       "0               ['Sensor Parkir', 'Electric Window']   \n",
       "1  ['Airbag', 'Bluetooth Audio', 'Electric Window...   \n",
       "2     ['Airbag', 'Electric Window', 'Sensor Parkir']   \n",
       "3                                                NaN   \n",
       "4     ['Airbag', 'Electric Window', 'Sensor Parkir']   \n",
       "\n",
       "            Nama Bursa Mobil Tipe bahan bakar Tipe Penjual             CITY  \\\n",
       "0                        NaN           Bensin     Individu     Bandung Kota   \n",
       "1  Bursa Mobil Blok M Square           Bensin        Diler  Jakarta Selatan   \n",
       "2                        NaN           Bensin        Diler   Palembang Kota   \n",
       "3                        NaN           Bensin          NaN    Surabaya Kota   \n",
       "4  Bursa Mobil MGK Kemayoran           Bensin        Diler    Jakarta Pusat   \n",
       "\n",
       "     COUNTRY     Jarak tempuh         phone         Sistem Penggerak  \\\n",
       "0  Indonesia  120.000-125.000  6.282282e+12   Rear Wheel Drive (RWD)   \n",
       "1  Indonesia    10.000-15.000  6.289655e+12                      4X2   \n",
       "2  Indonesia    15.000-20.000  6.281279e+12  Front Wheel Drive (FWD)   \n",
       "3  Indonesia    85.000-90.000  6.283832e+12                      NaN   \n",
       "4  Indonesia    60.000-65.000  6.281912e+12                      4X2   \n",
       "\n",
       "       price    NEIGHBOURHOOD  \n",
       "0  125000000  Bojongloa Kidul  \n",
       "1  240000000   Kebayoran Baru  \n",
       "2   80000000         Kemuning  \n",
       "3  170000000           Gubeng  \n",
       "4  125000000        Kemayoran  "
      ]
     },
     "execution_count": 3,
     "metadata": {},
     "output_type": "execute_result"
    }
   ],
   "source": [
    "import pandas as pd\n",
    "\n",
    "df = pd.read_csv('/kaggle/input/dsdmw12/data.csv')\n",
    "print('Shape:', df.shape)\n",
    "df.head()\n",
    "\n",
    "# credit to prev. year DSDM students: Felix Septianus Darmawan, Maulana Akmal, Steven Sukma limanus, Ricky Kennedy"
   ]
  },
  {
   "cell_type": "code",
   "execution_count": 4,
   "metadata": {
    "execution": {
     "iopub.execute_input": "2020-11-17T04:11:17.084901Z",
     "iopub.status.busy": "2020-11-17T04:11:17.084004Z",
     "iopub.status.idle": "2020-11-17T04:11:17.201285Z",
     "shell.execute_reply": "2020-11-17T04:11:17.200501Z"
    },
    "papermill": {
     "duration": 0.169034,
     "end_time": "2020-11-17T04:11:17.201414",
     "exception": false,
     "start_time": "2020-11-17T04:11:17.032380",
     "status": "completed"
    },
    "tags": []
   },
   "outputs": [
    {
     "data": {
      "text/plain": [
       "(36575, 20)"
      ]
     },
     "metadata": {},
     "output_type": "display_data"
    },
    {
     "data": {
      "text/html": [
       "<div>\n",
       "<style scoped>\n",
       "    .dataframe tbody tr th:only-of-type {\n",
       "        vertical-align: middle;\n",
       "    }\n",
       "\n",
       "    .dataframe tbody tr th {\n",
       "        vertical-align: top;\n",
       "    }\n",
       "\n",
       "    .dataframe thead th {\n",
       "        text-align: right;\n",
       "    }\n",
       "</style>\n",
       "<table border=\"1\" class=\"dataframe\">\n",
       "  <thead>\n",
       "    <tr style=\"text-align: right;\">\n",
       "      <th></th>\n",
       "      <th>phone</th>\n",
       "      <th>price</th>\n",
       "    </tr>\n",
       "  </thead>\n",
       "  <tbody>\n",
       "    <tr>\n",
       "      <th>count</th>\n",
       "      <td>3.404300e+04</td>\n",
       "      <td>3.657500e+04</td>\n",
       "    </tr>\n",
       "    <tr>\n",
       "      <th>mean</th>\n",
       "      <td>5.926282e+12</td>\n",
       "      <td>1.712408e+08</td>\n",
       "    </tr>\n",
       "    <tr>\n",
       "      <th>std</th>\n",
       "      <td>5.689054e+12</td>\n",
       "      <td>5.410271e+08</td>\n",
       "    </tr>\n",
       "    <tr>\n",
       "      <th>min</th>\n",
       "      <td>6.281110e+10</td>\n",
       "      <td>1.234500e+04</td>\n",
       "    </tr>\n",
       "    <tr>\n",
       "      <th>25%</th>\n",
       "      <td>6.281268e+12</td>\n",
       "      <td>8.500000e+07</td>\n",
       "    </tr>\n",
       "    <tr>\n",
       "      <th>50%</th>\n",
       "      <td>6.281703e+12</td>\n",
       "      <td>1.200000e+08</td>\n",
       "    </tr>\n",
       "    <tr>\n",
       "      <th>75%</th>\n",
       "      <td>6.285215e+12</td>\n",
       "      <td>1.747250e+08</td>\n",
       "    </tr>\n",
       "    <tr>\n",
       "      <th>max</th>\n",
       "      <td>6.289581e+13</td>\n",
       "      <td>8.975000e+10</td>\n",
       "    </tr>\n",
       "  </tbody>\n",
       "</table>\n",
       "</div>"
      ],
      "text/plain": [
       "              phone         price\n",
       "count  3.404300e+04  3.657500e+04\n",
       "mean   5.926282e+12  1.712408e+08\n",
       "std    5.689054e+12  5.410271e+08\n",
       "min    6.281110e+10  1.234500e+04\n",
       "25%    6.281268e+12  8.500000e+07\n",
       "50%    6.281703e+12  1.200000e+08\n",
       "75%    6.285215e+12  1.747250e+08\n",
       "max    6.289581e+13  8.975000e+10"
      ]
     },
     "metadata": {},
     "output_type": "display_data"
    },
    {
     "name": "stdout",
     "output_type": "stream",
     "text": [
      "<class 'pandas.core.frame.DataFrame'>\n",
      "RangeIndex: 36575 entries, 0 to 36574\n",
      "Data columns (total 20 columns):\n",
      " #   Column            Non-Null Count  Dtype  \n",
      "---  ------            --------------  -----  \n",
      " 0   Tahun             36575 non-null  object \n",
      " 1   Kapasitas mesin   32192 non-null  object \n",
      " 2   Warna             36575 non-null  object \n",
      " 3   Tipe bodi         30986 non-null  object \n",
      " 4   Varian            34989 non-null  object \n",
      " 5   STATE             36575 non-null  object \n",
      " 6   Merek             36575 non-null  object \n",
      " 7   Transmisi         36575 non-null  object \n",
      " 8   Model             36575 non-null  object \n",
      " 9   Fitur tambahan    24915 non-null  object \n",
      " 10  Nama Bursa Mobil  4959 non-null   object \n",
      " 11  Tipe bahan bakar  36575 non-null  object \n",
      " 12  Tipe Penjual      30141 non-null  object \n",
      " 13  CITY              36575 non-null  object \n",
      " 14  COUNTRY           36575 non-null  object \n",
      " 15  Jarak tempuh      36575 non-null  object \n",
      " 16  phone             34043 non-null  float64\n",
      " 17  Sistem Penggerak  28782 non-null  object \n",
      " 18  price             36575 non-null  int64  \n",
      " 19  NEIGHBOURHOOD     36573 non-null  object \n",
      "dtypes: float64(1), int64(1), object(18)\n",
      "memory usage: 5.6+ MB\n"
     ]
    },
    {
     "data": {
      "text/plain": [
       "None"
      ]
     },
     "metadata": {},
     "output_type": "display_data"
    }
   ],
   "source": [
    "display(df.shape)\n",
    "display(df.describe())\n",
    "display(df.info())"
   ]
  },
  {
   "cell_type": "raw",
   "metadata": {
    "papermill": {
     "duration": 0.048074,
     "end_time": "2020-11-17T04:11:17.295814",
     "exception": false,
     "start_time": "2020-11-17T04:11:17.247740",
     "status": "completed"
    },
    "tags": []
   },
   "source": [
    "Outlier detected in Price!"
   ]
  },
  {
   "cell_type": "markdown",
   "metadata": {
    "papermill": {
     "duration": 0.047323,
     "end_time": "2020-11-17T04:11:17.389823",
     "exception": false,
     "start_time": "2020-11-17T04:11:17.342500",
     "status": "completed"
    },
    "tags": []
   },
   "source": [
    "## Pre-processing"
   ]
  },
  {
   "cell_type": "markdown",
   "metadata": {
    "papermill": {
     "duration": 0.045925,
     "end_time": "2020-11-17T04:11:17.482189",
     "exception": false,
     "start_time": "2020-11-17T04:11:17.436264",
     "status": "completed"
    },
    "tags": []
   },
   "source": [
    "Check Variance of every features"
   ]
  },
  {
   "cell_type": "code",
   "execution_count": 5,
   "metadata": {
    "execution": {
     "iopub.execute_input": "2020-11-17T04:11:17.613499Z",
     "iopub.status.busy": "2020-11-17T04:11:17.602776Z",
     "iopub.status.idle": "2020-11-17T04:11:17.897271Z",
     "shell.execute_reply": "2020-11-17T04:11:17.898381Z"
    },
    "papermill": {
     "duration": 0.37056,
     "end_time": "2020-11-17T04:11:17.898659",
     "exception": false,
     "start_time": "2020-11-17T04:11:17.528099",
     "status": "completed"
    },
    "tags": []
   },
   "outputs": [
    {
     "name": "stdout",
     "output_type": "stream",
     "text": [
      "------- Tahun -------\n",
      "2014     3276\n",
      "2013     3233\n",
      "2012     2867\n",
      "2016     2788\n",
      "2015     2752\n",
      "2017     2195\n",
      "2011     2157\n",
      "2010     1977\n",
      "2018     1733\n",
      "2008     1601\n",
      "2019     1177\n",
      "2009     1166\n",
      "2005     1112\n",
      "2007     1093\n",
      "2004      995\n",
      "2006      763\n",
      "2003      715\n",
      "2001      598\n",
      "2000      583\n",
      "2002      563\n",
      "1997      501\n",
      "1996      345\n",
      "1995      331\n",
      "<1986     325\n",
      "1994      320\n",
      "1993      207\n",
      "1991      200\n",
      "1990      187\n",
      "1992      170\n",
      "1998      161\n",
      "1999      142\n",
      "1989      106\n",
      "1986       85\n",
      "1988       78\n",
      "1987       73\n",
      "Name: Tahun, dtype: int64\n",
      "------- Kapasitas mesin -------\n",
      ">1.000 - 1.500 cc    15778\n",
      ">1.500 - 2.000 cc     7220\n",
      ">2.000 - 3.000 cc     6804\n",
      "<1.000 cc             1396\n",
      ">3.000 cc              994\n",
      "Name: Kapasitas mesin, dtype: int64\n",
      "------- Warna -------\n",
      "Hitam      10591\n",
      "Putih       7162\n",
      "Silver      6832\n",
      "Abu-abu     4393\n",
      "Merah       2128\n",
      "Biru        1909\n",
      "Hijau        838\n",
      "Lainnya      675\n",
      "Coklat       620\n",
      "Marun        455\n",
      "Kuning       336\n",
      "Oranye       275\n",
      "Emas         246\n",
      "Ungu         115\n",
      "Name: Warna, dtype: int64\n",
      "------- Tipe bodi -------\n",
      "Minibus               6468\n",
      "MPV                   5912\n",
      "Sedan                 5228\n",
      "SUV                   3880\n",
      "Compact & City Car    2631\n",
      "Hatchback             2428\n",
      "Jeep                  1976\n",
      "Pick-up                689\n",
      "Double Cabin           317\n",
      "Van                    266\n",
      "Truk                   266\n",
      "Wagon                  196\n",
      "Classic Car            181\n",
      "Bus                    173\n",
      "Sports & Super Car     170\n",
      "Coupe                  114\n",
      "Offroad                 49\n",
      "Convertible             42\n",
      "Name: Tipe bodi, dtype: int64\n",
      "------- Varian -------\n",
      "Lain-lain        6127\n",
      "G                4569\n",
      "E                1912\n",
      "S                 842\n",
      "GX                636\n",
      "                 ... \n",
      "350G                1\n",
      "330i 3.0            1\n",
      "MkVII 1.2 TSI       1\n",
      "A/J Limited         1\n",
      "G G                 1\n",
      "Name: Varian, Length: 774, dtype: int64\n",
      "------- STATE -------\n",
      "Jakarta D.K.I.         9049\n",
      "Jawa Barat             6928\n",
      "Jawa Timur             5243\n",
      "Jawa Tengah            3025\n",
      "Banten                 3005\n",
      "Yogyakarta D.I.        1361\n",
      "Sumatra Utara          1358\n",
      "Bali                   1224\n",
      "Sumatra Selatan         935\n",
      "Riau                    757\n",
      "Sulawesi Selatan        597\n",
      "Lampung                 592\n",
      "Kalimantan Selatan      567\n",
      "Sumatra Barat           536\n",
      "Kalimantan Timur        328\n",
      "Aceh D.I.               244\n",
      "Kalimantan Barat        231\n",
      "Kepulauan Riau          163\n",
      "Jambi                   136\n",
      "Nusa Tenggara Barat      92\n",
      "Bangka Belitung          67\n",
      "Kalimantan Tengah        37\n",
      "Sulawesi Utara           29\n",
      "Bengkulu                 18\n",
      "Sulawesi Tenggara        17\n",
      "Sulawesi Tengah          17\n",
      "Nusa Tenggara Timur       6\n",
      "Papua                     5\n",
      "Sulawesi Barat            3\n",
      "Maluku                    2\n",
      "Gorontalo                 2\n",
      "Kalimantan Utara          1\n",
      "Name: STATE, dtype: int64\n",
      "------- Merek -------\n",
      "Toyota                   12152\n",
      "Honda                     6603\n",
      "Daihatsu                  3691\n",
      "Suzuki                    3191\n",
      "Nissan                    2412\n",
      "Mitsubishi                2208\n",
      "Mercedes-Benz              990\n",
      "BMW                        713\n",
      "Isuzu                      589\n",
      "Mazda                      578\n",
      "Chevrolet                  563\n",
      "Hyundai                    505\n",
      "Ford                       428\n",
      "KIA                        417\n",
      "Datsun                     269\n",
      "Jeep                       165\n",
      "Volkswagen                 115\n",
      "Lexus                       98\n",
      "Peugeot                     90\n",
      "Land Rover                  88\n",
      "Wuling                      72\n",
      "Mini Cooper                 70\n",
      "Proton                      66\n",
      "Timor                       61\n",
      "Porsche                     57\n",
      "Hino                        51\n",
      "Audi                        44\n",
      "Volvo                       38\n",
      "Opel                        29\n",
      "Klasik dan Antik            23\n",
      "Lain-lain                   23\n",
      "Chery                       17\n",
      "Subaru                      16\n",
      "Geely                       13\n",
      "Ferrari                     13\n",
      "Jaguar                      13\n",
      "Fiat                        12\n",
      "Hummer                      12\n",
      "Dodge                       11\n",
      "Chrysler                    10\n",
      "Tata                         7\n",
      "Renault                      6\n",
      "Lamborghini                  5\n",
      "Maserati                     5\n",
      "Smart                        5\n",
      "Bentley                      5\n",
      "Aston Martin                 5\n",
      "Mobil CBU                    4\n",
      "Daewoo                       3\n",
      "DFSK (Dongfeng Sokon)        3\n",
      "Holden                       2\n",
      "Citroen                      2\n",
      "Ssang Yong                   2\n",
      "Cadillac                     2\n",
      "Foton                        2\n",
      "Infiniti                     1\n",
      "Name: Merek, dtype: int64\n",
      "------- Transmisi -------\n",
      "Manual                 18405\n",
      "Automatic              14200\n",
      "Automatic Triptonic     3970\n",
      "Name: Transmisi, dtype: int64\n",
      "------- Model -------\n",
      "Avanza       2538\n",
      "Innova       2231\n",
      "Jazz         1358\n",
      "Xenia        1169\n",
      "CR-V         1086\n",
      "             ... \n",
      "CLC-Class       1\n",
      "Audi Q5         1\n",
      "Matiz           1\n",
      "Nexia           1\n",
      "308             1\n",
      "Name: Model, Length: 451, dtype: int64\n",
      "------- Fitur tambahan -------\n",
      "['Electric Window']                                                                                                    1287\n",
      "['Jok kulit']                                                                                                          1222\n",
      "['Airbag', 'Bluetooth Audio', 'Electric Window', 'Sensor Parkir']                                                      1042\n",
      "['Airbag', 'Electric Window', 'Sensor Parkir']                                                                          987\n",
      "['Airbag', 'Bluetooth Audio', 'Electric Window', 'Jok kulit', 'Sensor Parkir']                                          813\n",
      "                                                                                                                       ... \n",
      "['Airbag', 'Bluetooth Audio', 'Electric Window', 'GPS', 'Jok kulit', 'Sunroof', 'Sensor Parkir', 'Kamera Belakang']       1\n",
      "['Jok kulit', 'Airbag', 'Electric Window', 'Sunroof', 'Kamera Belakang', 'Sensor Parkir', 'Bluetooth Audio']              1\n",
      "['Kamera Belakang', 'Bluetooth Audio', 'Airbag', 'Jok kulit', 'Sensor Parkir', 'Electric Window', 'GPS']                  1\n",
      "['Airbag', 'Bluetooth Audio', 'Electric Window', 'Jok kulit', 'Sunroof', 'Kamera Belakang', 'GPS']                        1\n",
      "['Airbag', 'Electric Window', 'GPS', 'Jok kulit', 'Moonroof', 'Sensor Parkir', 'Kamera Belakang']                         1\n",
      "Name: Fitur tambahan, Length: 2415, dtype: int64\n",
      "------- Nama Bursa Mobil -------\n",
      "Bursa Mobil WTC Mangga Dua          745\n",
      "Bursa Otomotif Sunter               670\n",
      "Bursa Mobil Summarecon Serpong      435\n",
      "Bursa Mobil Mangga Dua Square       403\n",
      "Bursa Mobil DTC                     361\n",
      "Bursa Mobil Bintaro                 347\n",
      "Bursa Gading Auto Center            273\n",
      "Pasar Mobil Kemayoran               248\n",
      "Bursa Mobil Karawaci                202\n",
      "Bursa Mobil POSH Bekasi             177\n",
      "Bursa Mobil BG Junction Surabaya    166\n",
      "Bursa Mobil MGK Kemayoran           163\n",
      "Bursa Mobil Blok M Square           131\n",
      "Carsentro Yogyakarta                126\n",
      "Carsentro Solo                       96\n",
      "Carsentro Semarang                   92\n",
      "Carsentro Makassar                   81\n",
      "Bursa Mobil Kelapa Gading            77\n",
      "Bursa Mobil Lenmarc Surabaya         75\n",
      "Bursa Mobil Permata Hijau            68\n",
      "Bursa Mobil Blok M Plaza             23\n",
      "Name: Nama Bursa Mobil, dtype: int64\n",
      "------- Tipe bahan bakar -------\n",
      "Bensin     32093\n",
      "Diesel      4443\n",
      "Hybrid        32\n",
      "Listrik        7\n",
      "Name: Tipe bahan bakar, dtype: int64\n",
      "------- Tipe Penjual -------\n",
      "Individu    21656\n",
      "Diler        8485\n",
      "Name: Tipe Penjual, dtype: int64\n",
      "------- CITY -------\n",
      "Jakarta Selatan         2573\n",
      "Surabaya Kota           2514\n",
      "Jakarta Timur           2191\n",
      "Bandung Kota            2082\n",
      "Jakarta Utara           1756\n",
      "                        ... \n",
      "Lombok Utara Kab.          1\n",
      "Aceh Timur Kab.            1\n",
      "Gorontalo Utara Kab.       1\n",
      "Kepahiang Kab.             1\n",
      "Padang Lawas Kab.          1\n",
      "Name: CITY, Length: 321, dtype: int64\n",
      "------- COUNTRY -------\n",
      "Indonesia    36575\n",
      "Name: COUNTRY, dtype: int64\n",
      "------- Jarak tempuh -------\n",
      "0-5.000            1606\n",
      "40.000-45.000      1279\n",
      "50.000-55.000      1237\n",
      "25.000-30.000      1226\n",
      "100.000-105.000    1200\n",
      "                   ... \n",
      "255.000-260.000      20\n",
      "265.000-270.000      19\n",
      "290.000-295.000      18\n",
      "285.000-290.000       6\n",
      ">300.000              1\n",
      "Name: Jarak tempuh, Length: 61, dtype: int64\n",
      "------- phone -------\n",
      "6.285219e+12    132\n",
      "6.287712e+12     90\n",
      "6.282114e+12     86\n",
      "6.281908e+12     74\n",
      "6.287782e+12     66\n",
      "               ... \n",
      "6.285648e+12      1\n",
      "6.285711e+12      1\n",
      "6.281357e+12      1\n",
      "6.281212e+11      1\n",
      "6.281617e+12      1\n",
      "Name: phone, Length: 19837, dtype: int64\n",
      "------- Sistem Penggerak -------\n",
      "4X2                        13479\n",
      "Front Wheel Drive (FWD)     8570\n",
      "Rear Wheel Drive (RWD)      4244\n",
      "All Wheel Drive (AWD)       1273\n",
      "4X4                         1216\n",
      "Name: Sistem Penggerak, dtype: int64\n",
      "------- price -------\n",
      "125000000    759\n",
      "85000000     669\n",
      "115000000    642\n",
      "105000000    599\n",
      "120000000    592\n",
      "            ... \n",
      "108000079      1\n",
      "164400000      1\n",
      "67800000       1\n",
      "51999999       1\n",
      "139100000      1\n",
      "Name: price, Length: 1952, dtype: int64\n",
      "------- NEIGHBOURHOOD -------\n",
      "Pademangan        837\n",
      "Duren Sawit       781\n",
      "Gubeng            582\n",
      "Kebayoran Baru    545\n",
      "Kelapa Gading     516\n",
      "                 ... \n",
      "Sagalaherang        1\n",
      "Duduk Sampeyan      1\n",
      "Sukasada            1\n",
      "Tatah Makmur        1\n",
      "Lempuing            1\n",
      "Name: NEIGHBOURHOOD, Length: 1867, dtype: int64\n",
      "------- Tahun -------\n",
      "Uniques: 35\n",
      "uniques/len: 0.0009569377990430622\n",
      "['2008' '2018' '2017' '2013' '2016']\n",
      "------- Kapasitas mesin -------\n",
      "Uniques: 6\n",
      "uniques/len: 0.00016404647983595352\n",
      "['>1.500 - 2.000 cc' '>1.000 - 1.500 cc' nan '>2.000 - 3.000 cc'\n",
      " '<1.000 cc']\n",
      "------- Warna -------\n",
      "Uniques: 14\n",
      "uniques/len: 0.0003827751196172249\n",
      "['Abu-abu' 'Silver' 'Putih' 'Lainnya' 'Coklat']\n",
      "------- Tipe bodi -------\n",
      "Uniques: 19\n",
      "uniques/len: 0.0005194805194805195\n",
      "['Pick-up' 'Hatchback' nan 'MPV' 'Minibus']\n",
      "------- Varian -------\n",
      "Uniques: 775\n",
      "uniques/len: 0.021189336978810664\n",
      "['G Luxury' 'E CVT' 'Panca T' 'E' 'GL Sporty']\n",
      "------- STATE -------\n",
      "Uniques: 32\n",
      "uniques/len: 0.0008749145591250854\n",
      "['Jawa Barat' 'Jakarta D.K.I.' 'Sumatra Selatan' 'Jawa Timur' 'Bali']\n",
      "------- Merek -------\n",
      "Uniques: 56\n",
      "uniques/len: 0.0015311004784688996\n",
      "['Toyota' 'Honda' 'Datsun' 'Suzuki' 'Nissan']\n",
      "------- Transmisi -------\n",
      "Uniques: 3\n",
      "uniques/len: 8.202323991797676e-05\n",
      "['Automatic' 'Manual' 'Automatic Triptonic']\n",
      "------- Model -------\n",
      "Uniques: 451\n",
      "uniques/len: 0.012330827067669173\n",
      "['Innova' 'HR-V' 'Go' 'Freed' 'Ertiga']\n",
      "------- Fitur tambahan -------\n",
      "Uniques: 2416\n",
      "uniques/len: 0.06605604921394395\n",
      "[\"['Sensor Parkir', 'Electric Window']\"\n",
      " \"['Airbag', 'Bluetooth Audio', 'Electric Window', 'Kamera Belakang']\"\n",
      " \"['Airbag', 'Electric Window', 'Sensor Parkir']\" nan\n",
      " \"['Bluetooth Audio']\"]\n",
      "------- Nama Bursa Mobil -------\n",
      "Uniques: 22\n",
      "uniques/len: 0.0006015037593984962\n",
      "[nan 'Bursa Mobil Blok M Square' 'Bursa Mobil MGK Kemayoran'\n",
      " 'Carsentro Yogyakarta' 'Bursa Mobil WTC Mangga Dua']\n",
      "------- Tipe bahan bakar -------\n",
      "Uniques: 4\n",
      "uniques/len: 0.00010936431989063567\n",
      "['Bensin' 'Diesel' 'Hybrid' 'Listrik']\n",
      "------- Tipe Penjual -------\n",
      "Uniques: 3\n",
      "uniques/len: 8.202323991797676e-05\n",
      "['Individu' 'Diler' nan]\n",
      "------- CITY -------\n",
      "Uniques: 321\n",
      "uniques/len: 0.008776486671223513\n",
      "['Bandung Kota' 'Jakarta Selatan' 'Palembang Kota' 'Surabaya Kota'\n",
      " 'Jakarta Pusat']\n",
      "------- COUNTRY -------\n",
      "Uniques: 1\n",
      "uniques/len: 2.734107997265892e-05\n",
      "['Indonesia']\n",
      "------- Jarak tempuh -------\n",
      "Uniques: 61\n",
      "uniques/len: 0.0016678058783321942\n",
      "['120.000-125.000' '10.000-15.000' '15.000-20.000' '85.000-90.000'\n",
      " '60.000-65.000']\n",
      "------- phone -------\n",
      "Uniques: 19838\n",
      "uniques/len: 0.5423923444976076\n",
      "[6.28228167e+12 6.28965484e+12 6.28127899e+12 6.28383171e+12\n",
      " 6.28191231e+12]\n",
      "------- Sistem Penggerak -------\n",
      "Uniques: 6\n",
      "uniques/len: 0.00016404647983595352\n",
      "['Rear Wheel Drive (RWD)' '4X2' 'Front Wheel Drive (FWD)' nan\n",
      " 'All Wheel Drive (AWD)']\n",
      "------- price -------\n",
      "Uniques: 1952\n",
      "uniques/len: 0.05336978810663021\n",
      "[125000000 240000000  80000000 170000000  86000000]\n",
      "------- NEIGHBOURHOOD -------\n",
      "Uniques: 1868\n",
      "uniques/len: 0.05107313738892686\n",
      "['Bojongloa Kidul' 'Kebayoran Baru' 'Kemuning' 'Gubeng' 'Kemayoran']\n"
     ]
    }
   ],
   "source": [
    "for column_name in df:\n",
    "    print('-------',column_name,'-------')\n",
    "    print(df[column_name].value_counts())\n",
    "    \n",
    "for column_name in df:\n",
    "    print('-------',column_name,'-------')\n",
    "    uniques = df[column_name].unique()\n",
    "    print('Uniques:',len(uniques))\n",
    "    print('uniques/len:', len(uniques)/len(df[column_name]))\n",
    "    print(uniques[:5])"
   ]
  },
  {
   "cell_type": "markdown",
   "metadata": {
    "papermill": {
     "duration": 0.04727,
     "end_time": "2020-11-17T04:11:17.999999",
     "exception": false,
     "start_time": "2020-11-17T04:11:17.952729",
     "status": "completed"
    },
    "tags": []
   },
   "source": [
    "Drop irrelevant feature"
   ]
  },
  {
   "cell_type": "code",
   "execution_count": 6,
   "metadata": {
    "execution": {
     "iopub.execute_input": "2020-11-17T04:11:18.122755Z",
     "iopub.status.busy": "2020-11-17T04:11:18.115133Z",
     "iopub.status.idle": "2020-11-17T04:11:18.129953Z",
     "shell.execute_reply": "2020-11-17T04:11:18.129251Z"
    },
    "papermill": {
     "duration": 0.080145,
     "end_time": "2020-11-17T04:11:18.130097",
     "exception": false,
     "start_time": "2020-11-17T04:11:18.049952",
     "status": "completed"
    },
    "tags": []
   },
   "outputs": [],
   "source": [
    "df.drop(['phone'], axis='columns', inplace=True)\n",
    "df.drop(['NEIGHBOURHOOD', 'STATE', 'CITY', 'Nama Bursa Mobil'], axis='columns', inplace=True)"
   ]
  },
  {
   "cell_type": "markdown",
   "metadata": {
    "papermill": {
     "duration": 0.050043,
     "end_time": "2020-11-17T04:11:18.227565",
     "exception": false,
     "start_time": "2020-11-17T04:11:18.177522",
     "status": "completed"
    },
    "tags": []
   },
   "source": [
    "Drop columns with low uniques count"
   ]
  },
  {
   "cell_type": "code",
   "execution_count": 7,
   "metadata": {
    "execution": {
     "iopub.execute_input": "2020-11-17T04:11:18.344871Z",
     "iopub.status.busy": "2020-11-17T04:11:18.336323Z",
     "iopub.status.idle": "2020-11-17T04:11:18.347860Z",
     "shell.execute_reply": "2020-11-17T04:11:18.348526Z"
    },
    "papermill": {
     "duration": 0.067018,
     "end_time": "2020-11-17T04:11:18.348719",
     "exception": false,
     "start_time": "2020-11-17T04:11:18.281701",
     "status": "completed"
    },
    "tags": []
   },
   "outputs": [],
   "source": [
    "df.drop(['COUNTRY'], axis='columns', inplace=True)"
   ]
  },
  {
   "cell_type": "markdown",
   "metadata": {
    "papermill": {
     "duration": 0.047431,
     "end_time": "2020-11-17T04:11:18.446586",
     "exception": false,
     "start_time": "2020-11-17T04:11:18.399155",
     "status": "completed"
    },
    "tags": []
   },
   "source": [
    "Remove rows with missing values"
   ]
  },
  {
   "cell_type": "code",
   "execution_count": 8,
   "metadata": {
    "execution": {
     "iopub.execute_input": "2020-11-17T04:11:18.598950Z",
     "iopub.status.busy": "2020-11-17T04:11:18.598106Z",
     "iopub.status.idle": "2020-11-17T04:11:18.606945Z",
     "shell.execute_reply": "2020-11-17T04:11:18.606267Z"
    },
    "papermill": {
     "duration": 0.112643,
     "end_time": "2020-11-17T04:11:18.607073",
     "exception": false,
     "start_time": "2020-11-17T04:11:18.494430",
     "status": "completed"
    },
    "tags": []
   },
   "outputs": [
    {
     "data": {
      "text/plain": [
       "Tahun                   0\n",
       "Kapasitas mesin      4383\n",
       "Warna                   0\n",
       "Tipe bodi            5589\n",
       "Varian               1586\n",
       "Merek                   0\n",
       "Transmisi               0\n",
       "Model                   0\n",
       "Fitur tambahan      11660\n",
       "Tipe bahan bakar        0\n",
       "Tipe Penjual         6434\n",
       "Jarak tempuh            0\n",
       "Sistem Penggerak     7793\n",
       "price                   0\n",
       "dtype: int64"
      ]
     },
     "metadata": {},
     "output_type": "display_data"
    }
   ],
   "source": [
    "display(df.isna().sum())"
   ]
  },
  {
   "cell_type": "markdown",
   "metadata": {
    "papermill": {
     "duration": 0.048521,
     "end_time": "2020-11-17T04:11:18.709226",
     "exception": false,
     "start_time": "2020-11-17T04:11:18.660705",
     "status": "completed"
    },
    "tags": []
   },
   "source": [
    "Missing value percentage"
   ]
  },
  {
   "cell_type": "code",
   "execution_count": 9,
   "metadata": {
    "execution": {
     "iopub.execute_input": "2020-11-17T04:11:18.866281Z",
     "iopub.status.busy": "2020-11-17T04:11:18.865374Z",
     "iopub.status.idle": "2020-11-17T04:11:18.959855Z",
     "shell.execute_reply": "2020-11-17T04:11:18.960430Z"
    },
    "papermill": {
     "duration": 0.20283,
     "end_time": "2020-11-17T04:11:18.960597",
     "exception": false,
     "start_time": "2020-11-17T04:11:18.757767",
     "status": "completed"
    },
    "tags": []
   },
   "outputs": [
    {
     "data": {
      "text/html": [
       "<div>\n",
       "<style scoped>\n",
       "    .dataframe tbody tr th:only-of-type {\n",
       "        vertical-align: middle;\n",
       "    }\n",
       "\n",
       "    .dataframe tbody tr th {\n",
       "        vertical-align: top;\n",
       "    }\n",
       "\n",
       "    .dataframe thead th {\n",
       "        text-align: right;\n",
       "    }\n",
       "</style>\n",
       "<table border=\"1\" class=\"dataframe\">\n",
       "  <thead>\n",
       "    <tr style=\"text-align: right;\">\n",
       "      <th></th>\n",
       "      <th>percent</th>\n",
       "      <th>count</th>\n",
       "    </tr>\n",
       "  </thead>\n",
       "  <tbody>\n",
       "    <tr>\n",
       "      <th>Fitur tambahan</th>\n",
       "      <td>31.879699</td>\n",
       "      <td>11660</td>\n",
       "    </tr>\n",
       "    <tr>\n",
       "      <th>Sistem Penggerak</th>\n",
       "      <td>21.306904</td>\n",
       "      <td>7793</td>\n",
       "    </tr>\n",
       "    <tr>\n",
       "      <th>Tipe Penjual</th>\n",
       "      <td>17.591251</td>\n",
       "      <td>6434</td>\n",
       "    </tr>\n",
       "    <tr>\n",
       "      <th>Tipe bodi</th>\n",
       "      <td>15.280930</td>\n",
       "      <td>5589</td>\n",
       "    </tr>\n",
       "    <tr>\n",
       "      <th>Kapasitas mesin</th>\n",
       "      <td>11.983595</td>\n",
       "      <td>4383</td>\n",
       "    </tr>\n",
       "    <tr>\n",
       "      <th>Varian</th>\n",
       "      <td>4.336295</td>\n",
       "      <td>1586</td>\n",
       "    </tr>\n",
       "  </tbody>\n",
       "</table>\n",
       "</div>"
      ],
      "text/plain": [
       "                    percent  count\n",
       "Fitur tambahan    31.879699  11660\n",
       "Sistem Penggerak  21.306904   7793\n",
       "Tipe Penjual      17.591251   6434\n",
       "Tipe bodi         15.280930   5589\n",
       "Kapasitas mesin   11.983595   4383\n",
       "Varian             4.336295   1586"
      ]
     },
     "execution_count": 9,
     "metadata": {},
     "output_type": "execute_result"
    }
   ],
   "source": [
    "miss_percent = (df.isnull().sum() / len(df)) * 100\n",
    "missing = pd.DataFrame({\"percent\":miss_percent, 'count':df.isnull().sum()}).sort_values(by=\"percent\", ascending=False)\n",
    "missing.loc[missing['percent'] > 0]"
   ]
  },
  {
   "cell_type": "markdown",
   "metadata": {
    "papermill": {
     "duration": 0.049593,
     "end_time": "2020-11-17T04:11:19.060230",
     "exception": false,
     "start_time": "2020-11-17T04:11:19.010637",
     "status": "completed"
    },
    "tags": []
   },
   "source": [
    "Low Missing value percentage columns could be imputed instead of dropped to avoid losing data volume"
   ]
  },
  {
   "cell_type": "code",
   "execution_count": 10,
   "metadata": {
    "execution": {
     "iopub.execute_input": "2020-11-17T04:11:19.215748Z",
     "iopub.status.busy": "2020-11-17T04:11:19.214571Z",
     "iopub.status.idle": "2020-11-17T04:11:19.261311Z",
     "shell.execute_reply": "2020-11-17T04:11:19.261880Z"
    },
    "papermill": {
     "duration": 0.151969,
     "end_time": "2020-11-17T04:11:19.262054",
     "exception": false,
     "start_time": "2020-11-17T04:11:19.110085",
     "status": "completed"
    },
    "tags": []
   },
   "outputs": [
    {
     "data": {
      "text/plain": [
       "Tahun               0\n",
       "Kapasitas mesin     0\n",
       "Warna               0\n",
       "Tipe bodi           0\n",
       "Varian              0\n",
       "Merek               0\n",
       "Transmisi           0\n",
       "Model               0\n",
       "Fitur tambahan      0\n",
       "Tipe bahan bakar    0\n",
       "Tipe Penjual        0\n",
       "Jarak tempuh        0\n",
       "Sistem Penggerak    0\n",
       "price               0\n",
       "dtype: int64"
      ]
     },
     "metadata": {},
     "output_type": "display_data"
    }
   ],
   "source": [
    "df_ = df.dropna().copy()\n",
    "display(df_.isna().sum())"
   ]
  },
  {
   "cell_type": "code",
   "execution_count": 11,
   "metadata": {
    "execution": {
     "iopub.execute_input": "2020-11-17T04:11:19.397243Z",
     "iopub.status.busy": "2020-11-17T04:11:19.396132Z",
     "iopub.status.idle": "2020-11-17T04:11:19.409879Z",
     "shell.execute_reply": "2020-11-17T04:11:19.410838Z"
    },
    "papermill": {
     "duration": 0.099294,
     "end_time": "2020-11-17T04:11:19.411078",
     "exception": false,
     "start_time": "2020-11-17T04:11:19.311784",
     "status": "completed"
    },
    "tags": []
   },
   "outputs": [
    {
     "name": "stdout",
     "output_type": "stream",
     "text": [
      "<class 'pandas.core.frame.DataFrame'>\n",
      "Int64Index: 19869 entries, 0 to 36574\n",
      "Data columns (total 14 columns):\n",
      " #   Column            Non-Null Count  Dtype \n",
      "---  ------            --------------  ----- \n",
      " 0   Tahun             19869 non-null  object\n",
      " 1   Kapasitas mesin   19869 non-null  object\n",
      " 2   Warna             19869 non-null  object\n",
      " 3   Tipe bodi         19869 non-null  object\n",
      " 4   Varian            19869 non-null  object\n",
      " 5   Merek             19869 non-null  object\n",
      " 6   Transmisi         19869 non-null  object\n",
      " 7   Model             19869 non-null  object\n",
      " 8   Fitur tambahan    19869 non-null  object\n",
      " 9   Tipe bahan bakar  19869 non-null  object\n",
      " 10  Tipe Penjual      19869 non-null  object\n",
      " 11  Jarak tempuh      19869 non-null  object\n",
      " 12  Sistem Penggerak  19869 non-null  object\n",
      " 13  price             19869 non-null  int64 \n",
      "dtypes: int64(1), object(13)\n",
      "memory usage: 2.3+ MB\n"
     ]
    },
    {
     "data": {
      "text/plain": [
       "None"
      ]
     },
     "metadata": {},
     "output_type": "display_data"
    }
   ],
   "source": [
    "display(df_.info())"
   ]
  },
  {
   "cell_type": "markdown",
   "metadata": {
    "papermill": {
     "duration": 0.050133,
     "end_time": "2020-11-17T04:11:19.511341",
     "exception": false,
     "start_time": "2020-11-17T04:11:19.461208",
     "status": "completed"
    },
    "tags": []
   },
   "source": [
    "Handle Outlier Price "
   ]
  },
  {
   "cell_type": "code",
   "execution_count": 12,
   "metadata": {
    "execution": {
     "iopub.execute_input": "2020-11-17T04:11:19.653395Z",
     "iopub.status.busy": "2020-11-17T04:11:19.652550Z",
     "iopub.status.idle": "2020-11-17T04:11:19.697139Z",
     "shell.execute_reply": "2020-11-17T04:11:19.696515Z"
    },
    "papermill": {
     "duration": 0.135323,
     "end_time": "2020-11-17T04:11:19.697272",
     "exception": false,
     "start_time": "2020-11-17T04:11:19.561949",
     "status": "completed"
    },
    "tags": []
   },
   "outputs": [
    {
     "data": {
      "text/html": [
       "<div>\n",
       "<style scoped>\n",
       "    .dataframe tbody tr th:only-of-type {\n",
       "        vertical-align: middle;\n",
       "    }\n",
       "\n",
       "    .dataframe tbody tr th {\n",
       "        vertical-align: top;\n",
       "    }\n",
       "\n",
       "    .dataframe thead th {\n",
       "        text-align: right;\n",
       "    }\n",
       "</style>\n",
       "<table border=\"1\" class=\"dataframe\">\n",
       "  <thead>\n",
       "    <tr style=\"text-align: right;\">\n",
       "      <th></th>\n",
       "      <th>percent</th>\n",
       "      <th>count</th>\n",
       "    </tr>\n",
       "  </thead>\n",
       "  <tbody>\n",
       "  </tbody>\n",
       "</table>\n",
       "</div>"
      ],
      "text/plain": [
       "Empty DataFrame\n",
       "Columns: [percent, count]\n",
       "Index: []"
      ]
     },
     "execution_count": 12,
     "metadata": {},
     "output_type": "execute_result"
    }
   ],
   "source": [
    "miss_percent = (df_.isnull().sum() / len(df_)) * 100\n",
    "missing = pd.DataFrame({\"percent\":miss_percent, 'count':df_.isnull().sum()}).sort_values(by=\"percent\", ascending=False)\n",
    "missing.loc[missing['percent'] > 0]"
   ]
  },
  {
   "cell_type": "markdown",
   "metadata": {
    "papermill": {
     "duration": 0.049618,
     "end_time": "2020-11-17T04:11:19.797934",
     "exception": false,
     "start_time": "2020-11-17T04:11:19.748316",
     "status": "completed"
    },
    "tags": []
   },
   "source": [
    "Drop duplicates:"
   ]
  },
  {
   "cell_type": "code",
   "execution_count": 13,
   "metadata": {
    "execution": {
     "iopub.execute_input": "2020-11-17T04:11:19.906518Z",
     "iopub.status.busy": "2020-11-17T04:11:19.905773Z",
     "iopub.status.idle": "2020-11-17T04:11:19.989064Z",
     "shell.execute_reply": "2020-11-17T04:11:19.989666Z"
    },
    "papermill": {
     "duration": 0.142099,
     "end_time": "2020-11-17T04:11:19.989822",
     "exception": false,
     "start_time": "2020-11-17T04:11:19.847723",
     "status": "completed"
    },
    "tags": []
   },
   "outputs": [
    {
     "name": "stdout",
     "output_type": "stream",
     "text": [
      "<class 'pandas.core.frame.DataFrame'>\n",
      "Int64Index: 19693 entries, 0 to 36574\n",
      "Data columns (total 14 columns):\n",
      " #   Column            Non-Null Count  Dtype \n",
      "---  ------            --------------  ----- \n",
      " 0   Tahun             19693 non-null  object\n",
      " 1   Kapasitas mesin   19693 non-null  object\n",
      " 2   Warna             19693 non-null  object\n",
      " 3   Tipe bodi         19693 non-null  object\n",
      " 4   Varian            19693 non-null  object\n",
      " 5   Merek             19693 non-null  object\n",
      " 6   Transmisi         19693 non-null  object\n",
      " 7   Model             19693 non-null  object\n",
      " 8   Fitur tambahan    19693 non-null  object\n",
      " 9   Tipe bahan bakar  19693 non-null  object\n",
      " 10  Tipe Penjual      19693 non-null  object\n",
      " 11  Jarak tempuh      19693 non-null  object\n",
      " 12  Sistem Penggerak  19693 non-null  object\n",
      " 13  price             19693 non-null  int64 \n",
      "dtypes: int64(1), object(13)\n",
      "memory usage: 2.3+ MB\n"
     ]
    },
    {
     "data": {
      "text/plain": [
       "None"
      ]
     },
     "metadata": {},
     "output_type": "display_data"
    }
   ],
   "source": [
    "df_2 = df_.drop_duplicates(keep=\"first\", inplace=False)\n",
    "display(df_2.info())"
   ]
  },
  {
   "cell_type": "markdown",
   "metadata": {
    "papermill": {
     "duration": 0.051213,
     "end_time": "2020-11-17T04:11:20.092941",
     "exception": false,
     "start_time": "2020-11-17T04:11:20.041728",
     "status": "completed"
    },
    "tags": []
   },
   "source": [
    "Reconstruct year to age of car"
   ]
  },
  {
   "cell_type": "code",
   "execution_count": 14,
   "metadata": {
    "execution": {
     "iopub.execute_input": "2020-11-17T04:11:20.222070Z",
     "iopub.status.busy": "2020-11-17T04:11:20.221283Z",
     "iopub.status.idle": "2020-11-17T04:11:20.238922Z",
     "shell.execute_reply": "2020-11-17T04:11:20.237888Z"
    },
    "papermill": {
     "duration": 0.094462,
     "end_time": "2020-11-17T04:11:20.239111",
     "exception": false,
     "start_time": "2020-11-17T04:11:20.144649",
     "status": "completed"
    },
    "tags": []
   },
   "outputs": [
    {
     "name": "stderr",
     "output_type": "stream",
     "text": [
      "/opt/conda/lib/python3.7/site-packages/ipykernel_launcher.py:1: SettingWithCopyWarning: \n",
      "A value is trying to be set on a copy of a slice from a DataFrame.\n",
      "Try using .loc[row_indexer,col_indexer] = value instead\n",
      "\n",
      "See the caveats in the documentation: https://pandas.pydata.org/pandas-docs/stable/user_guide/indexing.html#returning-a-view-versus-a-copy\n",
      "  \"\"\"Entry point for launching an IPython kernel.\n",
      "/opt/conda/lib/python3.7/site-packages/ipykernel_launcher.py:5: SettingWithCopyWarning: \n",
      "A value is trying to be set on a copy of a slice from a DataFrame.\n",
      "Try using .loc[row_indexer,col_indexer] = value instead\n",
      "\n",
      "See the caveats in the documentation: https://pandas.pydata.org/pandas-docs/stable/user_guide/indexing.html#returning-a-view-versus-a-copy\n",
      "  \"\"\"\n",
      "/opt/conda/lib/python3.7/site-packages/pandas/core/frame.py:4170: SettingWithCopyWarning: \n",
      "A value is trying to be set on a copy of a slice from a DataFrame\n",
      "\n",
      "See the caveats in the documentation: https://pandas.pydata.org/pandas-docs/stable/user_guide/indexing.html#returning-a-view-versus-a-copy\n",
      "  errors=errors,\n"
     ]
    }
   ],
   "source": [
    "df_2[\"Tahun\"] = df_2[\"Tahun\"].str.replace(\"<\", \"\")\n",
    "# for x in df_2['Tahun']:\n",
    "#     if '<1986' in x:\n",
    "#         print(x)\n",
    "df_2[\"umur_mobil\"] = 2020 - df_2[\"Tahun\"].astype(int)\n",
    "df_2.drop(['Tahun'], axis='columns', inplace=True)"
   ]
  },
  {
   "cell_type": "markdown",
   "metadata": {
    "papermill": {
     "duration": 0.060643,
     "end_time": "2020-11-17T04:11:20.364403",
     "exception": false,
     "start_time": "2020-11-17T04:11:20.303760",
     "status": "completed"
    },
    "tags": []
   },
   "source": [
    "add new column after taking logarithm for the dependent variable to avoid high skewness & kurtosis"
   ]
  },
  {
   "cell_type": "code",
   "execution_count": 15,
   "metadata": {
    "execution": {
     "iopub.execute_input": "2020-11-17T04:11:20.480564Z",
     "iopub.status.busy": "2020-11-17T04:11:20.479805Z",
     "iopub.status.idle": "2020-11-17T04:11:20.491387Z",
     "shell.execute_reply": "2020-11-17T04:11:20.490743Z"
    },
    "papermill": {
     "duration": 0.068893,
     "end_time": "2020-11-17T04:11:20.491520",
     "exception": false,
     "start_time": "2020-11-17T04:11:20.422627",
     "status": "completed"
    },
    "tags": []
   },
   "outputs": [
    {
     "name": "stderr",
     "output_type": "stream",
     "text": [
      "/opt/conda/lib/python3.7/site-packages/ipykernel_launcher.py:1: SettingWithCopyWarning: \n",
      "A value is trying to be set on a copy of a slice from a DataFrame.\n",
      "Try using .loc[row_indexer,col_indexer] = value instead\n",
      "\n",
      "See the caveats in the documentation: https://pandas.pydata.org/pandas-docs/stable/user_guide/indexing.html#returning-a-view-versus-a-copy\n",
      "  \"\"\"Entry point for launching an IPython kernel.\n"
     ]
    }
   ],
   "source": [
    "df_2['price_upd'] = np.log1p(df_2['price'].values)\n",
    "df_2.drop(columns=['price'], axis=1, inplace=True)"
   ]
  },
  {
   "cell_type": "markdown",
   "metadata": {
    "papermill": {
     "duration": 0.051804,
     "end_time": "2020-11-17T04:11:20.594594",
     "exception": false,
     "start_time": "2020-11-17T04:11:20.542790",
     "status": "completed"
    },
    "tags": []
   },
   "source": [
    "Categorical to Numerical Conversion"
   ]
  },
  {
   "cell_type": "code",
   "execution_count": 16,
   "metadata": {
    "execution": {
     "iopub.execute_input": "2020-11-17T04:11:20.706103Z",
     "iopub.status.busy": "2020-11-17T04:11:20.705278Z",
     "iopub.status.idle": "2020-11-17T04:11:21.846623Z",
     "shell.execute_reply": "2020-11-17T04:11:21.845645Z"
    },
    "papermill": {
     "duration": 1.200867,
     "end_time": "2020-11-17T04:11:21.846772",
     "exception": false,
     "start_time": "2020-11-17T04:11:20.645905",
     "status": "completed"
    },
    "tags": []
   },
   "outputs": [
    {
     "data": {
      "text/html": [
       "<div>\n",
       "<style scoped>\n",
       "    .dataframe tbody tr th:only-of-type {\n",
       "        vertical-align: middle;\n",
       "    }\n",
       "\n",
       "    .dataframe tbody tr th {\n",
       "        vertical-align: top;\n",
       "    }\n",
       "\n",
       "    .dataframe thead th {\n",
       "        text-align: right;\n",
       "    }\n",
       "</style>\n",
       "<table border=\"1\" class=\"dataframe\">\n",
       "  <thead>\n",
       "    <tr style=\"text-align: right;\">\n",
       "      <th></th>\n",
       "      <th>Kapasitas mesin</th>\n",
       "      <th>Warna</th>\n",
       "      <th>Tipe bodi</th>\n",
       "      <th>Varian</th>\n",
       "      <th>Merek</th>\n",
       "      <th>Transmisi</th>\n",
       "      <th>Model</th>\n",
       "      <th>Fitur tambahan</th>\n",
       "      <th>Tipe bahan bakar</th>\n",
       "      <th>Tipe Penjual</th>\n",
       "      <th>Jarak tempuh</th>\n",
       "      <th>Sistem Penggerak</th>\n",
       "      <th>umur_mobil</th>\n",
       "      <th>price_upd</th>\n",
       "    </tr>\n",
       "  </thead>\n",
       "  <tbody>\n",
       "    <tr>\n",
       "      <th>0</th>\n",
       "      <td>2</td>\n",
       "      <td>0</td>\n",
       "      <td>11</td>\n",
       "      <td>349</td>\n",
       "      <td>51</td>\n",
       "      <td>0</td>\n",
       "      <td>195</td>\n",
       "      <td>1879</td>\n",
       "      <td>0</td>\n",
       "      <td>1</td>\n",
       "      <td>6</td>\n",
       "      <td>4</td>\n",
       "      <td>12</td>\n",
       "      <td>18.643824</td>\n",
       "    </tr>\n",
       "    <tr>\n",
       "      <th>1</th>\n",
       "      <td>1</td>\n",
       "      <td>12</td>\n",
       "      <td>6</td>\n",
       "      <td>296</td>\n",
       "      <td>20</td>\n",
       "      <td>0</td>\n",
       "      <td>189</td>\n",
       "      <td>147</td>\n",
       "      <td>0</td>\n",
       "      <td>0</td>\n",
       "      <td>1</td>\n",
       "      <td>0</td>\n",
       "      <td>2</td>\n",
       "      <td>19.296149</td>\n",
       "    </tr>\n",
       "    <tr>\n",
       "      <th>2</th>\n",
       "      <td>1</td>\n",
       "      <td>11</td>\n",
       "      <td>6</td>\n",
       "      <td>469</td>\n",
       "      <td>11</td>\n",
       "      <td>2</td>\n",
       "      <td>171</td>\n",
       "      <td>385</td>\n",
       "      <td>0</td>\n",
       "      <td>0</td>\n",
       "      <td>12</td>\n",
       "      <td>3</td>\n",
       "      <td>3</td>\n",
       "      <td>18.197537</td>\n",
       "    </tr>\n",
       "    <tr>\n",
       "      <th>4</th>\n",
       "      <td>1</td>\n",
       "      <td>11</td>\n",
       "      <td>8</td>\n",
       "      <td>360</td>\n",
       "      <td>48</td>\n",
       "      <td>2</td>\n",
       "      <td>124</td>\n",
       "      <td>385</td>\n",
       "      <td>0</td>\n",
       "      <td>0</td>\n",
       "      <td>52</td>\n",
       "      <td>0</td>\n",
       "      <td>4</td>\n",
       "      <td>18.643824</td>\n",
       "    </tr>\n",
       "    <tr>\n",
       "      <th>8</th>\n",
       "      <td>1</td>\n",
       "      <td>11</td>\n",
       "      <td>9</td>\n",
       "      <td>649</td>\n",
       "      <td>51</td>\n",
       "      <td>0</td>\n",
       "      <td>43</td>\n",
       "      <td>337</td>\n",
       "      <td>0</td>\n",
       "      <td>1</td>\n",
       "      <td>7</td>\n",
       "      <td>0</td>\n",
       "      <td>8</td>\n",
       "      <td>18.603002</td>\n",
       "    </tr>\n",
       "  </tbody>\n",
       "</table>\n",
       "</div>"
      ],
      "text/plain": [
       "   Kapasitas mesin  Warna  Tipe bodi  Varian  Merek  Transmisi  Model  \\\n",
       "0                2      0         11     349     51          0    195   \n",
       "1                1     12          6     296     20          0    189   \n",
       "2                1     11          6     469     11          2    171   \n",
       "4                1     11          8     360     48          2    124   \n",
       "8                1     11          9     649     51          0     43   \n",
       "\n",
       "   Fitur tambahan  Tipe bahan bakar  Tipe Penjual  Jarak tempuh  \\\n",
       "0            1879                 0             1             6   \n",
       "1             147                 0             0             1   \n",
       "2             385                 0             0            12   \n",
       "4             385                 0             0            52   \n",
       "8             337                 0             1             7   \n",
       "\n",
       "   Sistem Penggerak  umur_mobil  price_upd  \n",
       "0                 4          12  18.643824  \n",
       "1                 0           2  19.296149  \n",
       "2                 3           3  18.197537  \n",
       "4                 0           4  18.643824  \n",
       "8                 0           8  18.603002  "
      ]
     },
     "execution_count": 16,
     "metadata": {},
     "output_type": "execute_result"
    }
   ],
   "source": [
    "from sklearn.preprocessing import LabelEncoder\n",
    "\n",
    "categ_cols = ['Warna', 'Kapasitas mesin', 'Tipe bodi', 'Varian', 'Merek', 'Model', 'Fitur tambahan',\n",
    "              'Tipe bahan bakar', 'Tipe Penjual', 'Transmisi',\n",
    "          'Jarak tempuh', 'Sistem Penggerak']\n",
    "\n",
    "# Label Encoding non-numerical feature\n",
    "df_encoded = df_2.copy()\n",
    "for col_name in categ_cols:\n",
    "    le = LabelEncoder()\n",
    "    le.fit(df_2[col_name])\n",
    "    df_encoded[col_name] = le.transform(df_2[col_name]) \n",
    "    \n",
    "df_encoded.head()"
   ]
  },
  {
   "cell_type": "code",
   "execution_count": 17,
   "metadata": {
    "execution": {
     "iopub.execute_input": "2020-11-17T04:11:21.966696Z",
     "iopub.status.busy": "2020-11-17T04:11:21.965913Z",
     "iopub.status.idle": "2020-11-17T04:11:21.988157Z",
     "shell.execute_reply": "2020-11-17T04:11:21.987359Z"
    },
    "papermill": {
     "duration": 0.086846,
     "end_time": "2020-11-17T04:11:21.988283",
     "exception": false,
     "start_time": "2020-11-17T04:11:21.901437",
     "status": "completed"
    },
    "tags": []
   },
   "outputs": [
    {
     "data": {
      "text/html": [
       "<div>\n",
       "<style scoped>\n",
       "    .dataframe tbody tr th:only-of-type {\n",
       "        vertical-align: middle;\n",
       "    }\n",
       "\n",
       "    .dataframe tbody tr th {\n",
       "        vertical-align: top;\n",
       "    }\n",
       "\n",
       "    .dataframe thead th {\n",
       "        text-align: right;\n",
       "    }\n",
       "</style>\n",
       "<table border=\"1\" class=\"dataframe\">\n",
       "  <thead>\n",
       "    <tr style=\"text-align: right;\">\n",
       "      <th></th>\n",
       "      <th>Kapasitas mesin</th>\n",
       "      <th>Warna</th>\n",
       "      <th>Tipe bodi</th>\n",
       "      <th>Varian</th>\n",
       "      <th>Merek</th>\n",
       "      <th>Transmisi</th>\n",
       "      <th>Model</th>\n",
       "      <th>Fitur tambahan</th>\n",
       "      <th>Tipe bahan bakar</th>\n",
       "      <th>Tipe Penjual</th>\n",
       "      <th>Jarak tempuh</th>\n",
       "      <th>Sistem Penggerak</th>\n",
       "      <th>umur_mobil</th>\n",
       "      <th>price_upd</th>\n",
       "    </tr>\n",
       "  </thead>\n",
       "  <tbody>\n",
       "    <tr>\n",
       "      <th>0</th>\n",
       "      <td>2</td>\n",
       "      <td>0</td>\n",
       "      <td>11</td>\n",
       "      <td>349</td>\n",
       "      <td>51</td>\n",
       "      <td>0</td>\n",
       "      <td>195</td>\n",
       "      <td>1879</td>\n",
       "      <td>0</td>\n",
       "      <td>1</td>\n",
       "      <td>6</td>\n",
       "      <td>4</td>\n",
       "      <td>12</td>\n",
       "      <td>18.643824</td>\n",
       "    </tr>\n",
       "    <tr>\n",
       "      <th>1</th>\n",
       "      <td>1</td>\n",
       "      <td>12</td>\n",
       "      <td>6</td>\n",
       "      <td>296</td>\n",
       "      <td>20</td>\n",
       "      <td>0</td>\n",
       "      <td>189</td>\n",
       "      <td>147</td>\n",
       "      <td>0</td>\n",
       "      <td>0</td>\n",
       "      <td>1</td>\n",
       "      <td>0</td>\n",
       "      <td>2</td>\n",
       "      <td>19.296149</td>\n",
       "    </tr>\n",
       "    <tr>\n",
       "      <th>2</th>\n",
       "      <td>1</td>\n",
       "      <td>11</td>\n",
       "      <td>6</td>\n",
       "      <td>469</td>\n",
       "      <td>11</td>\n",
       "      <td>2</td>\n",
       "      <td>171</td>\n",
       "      <td>385</td>\n",
       "      <td>0</td>\n",
       "      <td>0</td>\n",
       "      <td>12</td>\n",
       "      <td>3</td>\n",
       "      <td>3</td>\n",
       "      <td>18.197537</td>\n",
       "    </tr>\n",
       "    <tr>\n",
       "      <th>4</th>\n",
       "      <td>1</td>\n",
       "      <td>11</td>\n",
       "      <td>8</td>\n",
       "      <td>360</td>\n",
       "      <td>48</td>\n",
       "      <td>2</td>\n",
       "      <td>124</td>\n",
       "      <td>385</td>\n",
       "      <td>0</td>\n",
       "      <td>0</td>\n",
       "      <td>52</td>\n",
       "      <td>0</td>\n",
       "      <td>4</td>\n",
       "      <td>18.643824</td>\n",
       "    </tr>\n",
       "    <tr>\n",
       "      <th>8</th>\n",
       "      <td>1</td>\n",
       "      <td>11</td>\n",
       "      <td>9</td>\n",
       "      <td>649</td>\n",
       "      <td>51</td>\n",
       "      <td>0</td>\n",
       "      <td>43</td>\n",
       "      <td>337</td>\n",
       "      <td>0</td>\n",
       "      <td>1</td>\n",
       "      <td>7</td>\n",
       "      <td>0</td>\n",
       "      <td>8</td>\n",
       "      <td>18.603002</td>\n",
       "    </tr>\n",
       "  </tbody>\n",
       "</table>\n",
       "</div>"
      ],
      "text/plain": [
       "   Kapasitas mesin  Warna  Tipe bodi  Varian  Merek  Transmisi  Model  \\\n",
       "0                2      0         11     349     51          0    195   \n",
       "1                1     12          6     296     20          0    189   \n",
       "2                1     11          6     469     11          2    171   \n",
       "4                1     11          8     360     48          2    124   \n",
       "8                1     11          9     649     51          0     43   \n",
       "\n",
       "   Fitur tambahan  Tipe bahan bakar  Tipe Penjual  Jarak tempuh  \\\n",
       "0            1879                 0             1             6   \n",
       "1             147                 0             0             1   \n",
       "2             385                 0             0            12   \n",
       "4             385                 0             0            52   \n",
       "8             337                 0             1             7   \n",
       "\n",
       "   Sistem Penggerak  umur_mobil  price_upd  \n",
       "0                 4          12  18.643824  \n",
       "1                 0           2  19.296149  \n",
       "2                 3           3  18.197537  \n",
       "4                 0           4  18.643824  \n",
       "8                 0           8  18.603002  "
      ]
     },
     "execution_count": 17,
     "metadata": {},
     "output_type": "execute_result"
    }
   ],
   "source": [
    "from sklearn.preprocessing import OneHotEncoder\n",
    "\n",
    "onehot_cols = []\n",
    "\n",
    "for col in onehot_cols:\n",
    "    enc = OneHotEncoder(handle_unknown='ignore')\n",
    "    enc.fit(df_encoded[col].values.reshape(-1,1))\n",
    "    temp = pd.DataFrame(enc.transform(df_encoded[col].values.reshape(-1,1)).toarray()).add_prefix(col)\n",
    "    df_encoded = df_encoded.join(temp)\n",
    "    \n",
    "df_encoded.drop(onehot_cols, axis='columns', inplace=True)\n",
    "df_encoded.head()"
   ]
  },
  {
   "cell_type": "markdown",
   "metadata": {
    "papermill": {
     "duration": 0.052774,
     "end_time": "2020-11-17T04:11:22.096172",
     "exception": false,
     "start_time": "2020-11-17T04:11:22.043398",
     "status": "completed"
    },
    "tags": []
   },
   "source": [
    "Check feature correlation"
   ]
  },
  {
   "cell_type": "code",
   "execution_count": 18,
   "metadata": {
    "execution": {
     "iopub.execute_input": "2020-11-17T04:11:22.210645Z",
     "iopub.status.busy": "2020-11-17T04:11:22.209889Z",
     "iopub.status.idle": "2020-11-17T04:11:22.450915Z",
     "shell.execute_reply": "2020-11-17T04:11:22.450184Z"
    },
    "papermill": {
     "duration": 0.300921,
     "end_time": "2020-11-17T04:11:22.451049",
     "exception": false,
     "start_time": "2020-11-17T04:11:22.150128",
     "status": "completed"
    },
    "tags": []
   },
   "outputs": [
    {
     "data": {
      "text/html": [
       "<style  type=\"text/css\" >\n",
       "#T_f3b4770e_288a_11eb_9e21_0242ac130202row0_col0,#T_f3b4770e_288a_11eb_9e21_0242ac130202row1_col1,#T_f3b4770e_288a_11eb_9e21_0242ac130202row2_col2,#T_f3b4770e_288a_11eb_9e21_0242ac130202row3_col3,#T_f3b4770e_288a_11eb_9e21_0242ac130202row4_col4,#T_f3b4770e_288a_11eb_9e21_0242ac130202row5_col5,#T_f3b4770e_288a_11eb_9e21_0242ac130202row6_col6,#T_f3b4770e_288a_11eb_9e21_0242ac130202row7_col7,#T_f3b4770e_288a_11eb_9e21_0242ac130202row8_col8,#T_f3b4770e_288a_11eb_9e21_0242ac130202row9_col9,#T_f3b4770e_288a_11eb_9e21_0242ac130202row10_col10,#T_f3b4770e_288a_11eb_9e21_0242ac130202row11_col11,#T_f3b4770e_288a_11eb_9e21_0242ac130202row12_col12,#T_f3b4770e_288a_11eb_9e21_0242ac130202row13_col13{\n",
       "            background-color:  #b40426;\n",
       "            color:  #f1f1f1;\n",
       "        }#T_f3b4770e_288a_11eb_9e21_0242ac130202row0_col1{\n",
       "            background-color:  #536edd;\n",
       "            color:  #000000;\n",
       "        }#T_f3b4770e_288a_11eb_9e21_0242ac130202row0_col2,#T_f3b4770e_288a_11eb_9e21_0242ac130202row11_col13,#T_f3b4770e_288a_11eb_9e21_0242ac130202row12_col5{\n",
       "            background-color:  #bad0f8;\n",
       "            color:  #000000;\n",
       "        }#T_f3b4770e_288a_11eb_9e21_0242ac130202row0_col3,#T_f3b4770e_288a_11eb_9e21_0242ac130202row3_col2,#T_f3b4770e_288a_11eb_9e21_0242ac130202row4_col6,#T_f3b4770e_288a_11eb_9e21_0242ac130202row5_col0,#T_f3b4770e_288a_11eb_9e21_0242ac130202row6_col4,#T_f3b4770e_288a_11eb_9e21_0242ac130202row8_col11,#T_f3b4770e_288a_11eb_9e21_0242ac130202row11_col8,#T_f3b4770e_288a_11eb_9e21_0242ac130202row12_col1,#T_f3b4770e_288a_11eb_9e21_0242ac130202row12_col10,#T_f3b4770e_288a_11eb_9e21_0242ac130202row12_col13,#T_f3b4770e_288a_11eb_9e21_0242ac130202row13_col5,#T_f3b4770e_288a_11eb_9e21_0242ac130202row13_col7,#T_f3b4770e_288a_11eb_9e21_0242ac130202row13_col9,#T_f3b4770e_288a_11eb_9e21_0242ac130202row13_col12{\n",
       "            background-color:  #3b4cc0;\n",
       "            color:  #f1f1f1;\n",
       "        }#T_f3b4770e_288a_11eb_9e21_0242ac130202row0_col4{\n",
       "            background-color:  #7ea1fa;\n",
       "            color:  #000000;\n",
       "        }#T_f3b4770e_288a_11eb_9e21_0242ac130202row0_col5,#T_f3b4770e_288a_11eb_9e21_0242ac130202row1_col2,#T_f3b4770e_288a_11eb_9e21_0242ac130202row9_col11{\n",
       "            background-color:  #5572df;\n",
       "            color:  #000000;\n",
       "        }#T_f3b4770e_288a_11eb_9e21_0242ac130202row0_col6,#T_f3b4770e_288a_11eb_9e21_0242ac130202row1_col6,#T_f3b4770e_288a_11eb_9e21_0242ac130202row12_col6{\n",
       "            background-color:  #688aef;\n",
       "            color:  #000000;\n",
       "        }#T_f3b4770e_288a_11eb_9e21_0242ac130202row0_col7,#T_f3b4770e_288a_11eb_9e21_0242ac130202row0_col10,#T_f3b4770e_288a_11eb_9e21_0242ac130202row2_col4,#T_f3b4770e_288a_11eb_9e21_0242ac130202row5_col1,#T_f3b4770e_288a_11eb_9e21_0242ac130202row7_col0,#T_f3b4770e_288a_11eb_9e21_0242ac130202row8_col3,#T_f3b4770e_288a_11eb_9e21_0242ac130202row9_col0,#T_f3b4770e_288a_11eb_9e21_0242ac130202row9_col4,#T_f3b4770e_288a_11eb_9e21_0242ac130202row11_col1{\n",
       "            background-color:  #6687ed;\n",
       "            color:  #000000;\n",
       "        }#T_f3b4770e_288a_11eb_9e21_0242ac130202row0_col8,#T_f3b4770e_288a_11eb_9e21_0242ac130202row7_col12{\n",
       "            background-color:  #e4d9d2;\n",
       "            color:  #000000;\n",
       "        }#T_f3b4770e_288a_11eb_9e21_0242ac130202row0_col9,#T_f3b4770e_288a_11eb_9e21_0242ac130202row8_col9,#T_f3b4770e_288a_11eb_9e21_0242ac130202row9_col2,#T_f3b4770e_288a_11eb_9e21_0242ac130202row10_col3{\n",
       "            background-color:  #7699f6;\n",
       "            color:  #000000;\n",
       "        }#T_f3b4770e_288a_11eb_9e21_0242ac130202row0_col11{\n",
       "            background-color:  #4a63d3;\n",
       "            color:  #f1f1f1;\n",
       "        }#T_f3b4770e_288a_11eb_9e21_0242ac130202row0_col12,#T_f3b4770e_288a_11eb_9e21_0242ac130202row13_col0{\n",
       "            background-color:  #dadce0;\n",
       "            color:  #000000;\n",
       "        }#T_f3b4770e_288a_11eb_9e21_0242ac130202row0_col13{\n",
       "            background-color:  #f4c5ad;\n",
       "            color:  #000000;\n",
       "        }#T_f3b4770e_288a_11eb_9e21_0242ac130202row1_col0,#T_f3b4770e_288a_11eb_9e21_0242ac130202row5_col8,#T_f3b4770e_288a_11eb_9e21_0242ac130202row5_col11{\n",
       "            background-color:  #5a78e4;\n",
       "            color:  #000000;\n",
       "        }#T_f3b4770e_288a_11eb_9e21_0242ac130202row1_col3,#T_f3b4770e_288a_11eb_9e21_0242ac130202row11_col9{\n",
       "            background-color:  #7b9ff9;\n",
       "            color:  #000000;\n",
       "        }#T_f3b4770e_288a_11eb_9e21_0242ac130202row1_col4,#T_f3b4770e_288a_11eb_9e21_0242ac130202row6_col1,#T_f3b4770e_288a_11eb_9e21_0242ac130202row9_col6,#T_f3b4770e_288a_11eb_9e21_0242ac130202row12_col4{\n",
       "            background-color:  #6b8df0;\n",
       "            color:  #000000;\n",
       "        }#T_f3b4770e_288a_11eb_9e21_0242ac130202row1_col5,#T_f3b4770e_288a_11eb_9e21_0242ac130202row4_col0{\n",
       "            background-color:  #86a9fc;\n",
       "            color:  #000000;\n",
       "        }#T_f3b4770e_288a_11eb_9e21_0242ac130202row1_col7,#T_f3b4770e_288a_11eb_9e21_0242ac130202row11_col2{\n",
       "            background-color:  #6788ee;\n",
       "            color:  #000000;\n",
       "        }#T_f3b4770e_288a_11eb_9e21_0242ac130202row1_col8,#T_f3b4770e_288a_11eb_9e21_0242ac130202row9_col1,#T_f3b4770e_288a_11eb_9e21_0242ac130202row10_col11{\n",
       "            background-color:  #5673e0;\n",
       "            color:  #000000;\n",
       "        }#T_f3b4770e_288a_11eb_9e21_0242ac130202row1_col9,#T_f3b4770e_288a_11eb_9e21_0242ac130202row8_col2,#T_f3b4770e_288a_11eb_9e21_0242ac130202row11_col3,#T_f3b4770e_288a_11eb_9e21_0242ac130202row13_col6{\n",
       "            background-color:  #6f92f3;\n",
       "            color:  #000000;\n",
       "        }#T_f3b4770e_288a_11eb_9e21_0242ac130202row1_col10{\n",
       "            background-color:  #88abfd;\n",
       "            color:  #000000;\n",
       "        }#T_f3b4770e_288a_11eb_9e21_0242ac130202row1_col11,#T_f3b4770e_288a_11eb_9e21_0242ac130202row2_col1,#T_f3b4770e_288a_11eb_9e21_0242ac130202row6_col11,#T_f3b4770e_288a_11eb_9e21_0242ac130202row10_col8,#T_f3b4770e_288a_11eb_9e21_0242ac130202row13_col11{\n",
       "            background-color:  #5875e1;\n",
       "            color:  #000000;\n",
       "        }#T_f3b4770e_288a_11eb_9e21_0242ac130202row1_col12,#T_f3b4770e_288a_11eb_9e21_0242ac130202row9_col7{\n",
       "            background-color:  #98b9ff;\n",
       "            color:  #000000;\n",
       "        }#T_f3b4770e_288a_11eb_9e21_0242ac130202row1_col13{\n",
       "            background-color:  #cdd9ec;\n",
       "            color:  #000000;\n",
       "        }#T_f3b4770e_288a_11eb_9e21_0242ac130202row2_col0{\n",
       "            background-color:  #c0d4f5;\n",
       "            color:  #000000;\n",
       "        }#T_f3b4770e_288a_11eb_9e21_0242ac130202row2_col3{\n",
       "            background-color:  #4257c9;\n",
       "            color:  #f1f1f1;\n",
       "        }#T_f3b4770e_288a_11eb_9e21_0242ac130202row2_col5,#T_f3b4770e_288a_11eb_9e21_0242ac130202row9_col13{\n",
       "            background-color:  #82a6fb;\n",
       "            color:  #000000;\n",
       "        }#T_f3b4770e_288a_11eb_9e21_0242ac130202row2_col6,#T_f3b4770e_288a_11eb_9e21_0242ac130202row11_col0{\n",
       "            background-color:  #6180e9;\n",
       "            color:  #000000;\n",
       "        }#T_f3b4770e_288a_11eb_9e21_0242ac130202row2_col7{\n",
       "            background-color:  #7da0f9;\n",
       "            color:  #000000;\n",
       "        }#T_f3b4770e_288a_11eb_9e21_0242ac130202row2_col8,#T_f3b4770e_288a_11eb_9e21_0242ac130202row4_col2,#T_f3b4770e_288a_11eb_9e21_0242ac130202row5_col10,#T_f3b4770e_288a_11eb_9e21_0242ac130202row7_col10,#T_f3b4770e_288a_11eb_9e21_0242ac130202row8_col1,#T_f3b4770e_288a_11eb_9e21_0242ac130202row9_col3,#T_f3b4770e_288a_11eb_9e21_0242ac130202row10_col4,#T_f3b4770e_288a_11eb_9e21_0242ac130202row11_col6,#T_f3b4770e_288a_11eb_9e21_0242ac130202row13_col2{\n",
       "            background-color:  #6485ec;\n",
       "            color:  #000000;\n",
       "        }#T_f3b4770e_288a_11eb_9e21_0242ac130202row2_col9{\n",
       "            background-color:  #90b2fe;\n",
       "            color:  #000000;\n",
       "        }#T_f3b4770e_288a_11eb_9e21_0242ac130202row2_col10{\n",
       "            background-color:  #6282ea;\n",
       "            color:  #000000;\n",
       "        }#T_f3b4770e_288a_11eb_9e21_0242ac130202row2_col11,#T_f3b4770e_288a_11eb_9e21_0242ac130202row3_col11,#T_f3b4770e_288a_11eb_9e21_0242ac130202row5_col2{\n",
       "            background-color:  #5d7ce6;\n",
       "            color:  #000000;\n",
       "        }#T_f3b4770e_288a_11eb_9e21_0242ac130202row2_col12{\n",
       "            background-color:  #e2dad5;\n",
       "            color:  #000000;\n",
       "        }#T_f3b4770e_288a_11eb_9e21_0242ac130202row2_col13,#T_f3b4770e_288a_11eb_9e21_0242ac130202row11_col12{\n",
       "            background-color:  #bbd1f8;\n",
       "            color:  #000000;\n",
       "        }#T_f3b4770e_288a_11eb_9e21_0242ac130202row3_col0{\n",
       "            background-color:  #3d50c3;\n",
       "            color:  #f1f1f1;\n",
       "        }#T_f3b4770e_288a_11eb_9e21_0242ac130202row3_col1,#T_f3b4770e_288a_11eb_9e21_0242ac130202row3_col9,#T_f3b4770e_288a_11eb_9e21_0242ac130202row10_col5{\n",
       "            background-color:  #779af7;\n",
       "            color:  #000000;\n",
       "        }#T_f3b4770e_288a_11eb_9e21_0242ac130202row3_col4,#T_f3b4770e_288a_11eb_9e21_0242ac130202row5_col4,#T_f3b4770e_288a_11eb_9e21_0242ac130202row7_col3,#T_f3b4770e_288a_11eb_9e21_0242ac130202row7_col4,#T_f3b4770e_288a_11eb_9e21_0242ac130202row7_col6{\n",
       "            background-color:  #6a8bef;\n",
       "            color:  #000000;\n",
       "        }#T_f3b4770e_288a_11eb_9e21_0242ac130202row3_col5,#T_f3b4770e_288a_11eb_9e21_0242ac130202row6_col5{\n",
       "            background-color:  #8fb1fe;\n",
       "            color:  #000000;\n",
       "        }#T_f3b4770e_288a_11eb_9e21_0242ac130202row3_col6,#T_f3b4770e_288a_11eb_9e21_0242ac130202row6_col9,#T_f3b4770e_288a_11eb_9e21_0242ac130202row13_col1{\n",
       "            background-color:  #84a7fc;\n",
       "            color:  #000000;\n",
       "        }#T_f3b4770e_288a_11eb_9e21_0242ac130202row3_col7,#T_f3b4770e_288a_11eb_9e21_0242ac130202row4_col1,#T_f3b4770e_288a_11eb_9e21_0242ac130202row5_col6{\n",
       "            background-color:  #6c8ff1;\n",
       "            color:  #000000;\n",
       "        }#T_f3b4770e_288a_11eb_9e21_0242ac130202row3_col8{\n",
       "            background-color:  #5470de;\n",
       "            color:  #000000;\n",
       "        }#T_f3b4770e_288a_11eb_9e21_0242ac130202row3_col10,#T_f3b4770e_288a_11eb_9e21_0242ac130202row4_col9{\n",
       "            background-color:  #80a3fa;\n",
       "            color:  #000000;\n",
       "        }#T_f3b4770e_288a_11eb_9e21_0242ac130202row3_col12{\n",
       "            background-color:  #9abbff;\n",
       "            color:  #000000;\n",
       "        }#T_f3b4770e_288a_11eb_9e21_0242ac130202row3_col13,#T_f3b4770e_288a_11eb_9e21_0242ac130202row4_col12{\n",
       "            background-color:  #bfd3f6;\n",
       "            color:  #000000;\n",
       "        }#T_f3b4770e_288a_11eb_9e21_0242ac130202row4_col3,#T_f3b4770e_288a_11eb_9e21_0242ac130202row6_col0,#T_f3b4770e_288a_11eb_9e21_0242ac130202row13_col3,#T_f3b4770e_288a_11eb_9e21_0242ac130202row13_col4{\n",
       "            background-color:  #7093f3;\n",
       "            color:  #000000;\n",
       "        }#T_f3b4770e_288a_11eb_9e21_0242ac130202row4_col5,#T_f3b4770e_288a_11eb_9e21_0242ac130202row10_col12{\n",
       "            background-color:  #8caffe;\n",
       "            color:  #000000;\n",
       "        }#T_f3b4770e_288a_11eb_9e21_0242ac130202row4_col7,#T_f3b4770e_288a_11eb_9e21_0242ac130202row5_col3,#T_f3b4770e_288a_11eb_9e21_0242ac130202row6_col7,#T_f3b4770e_288a_11eb_9e21_0242ac130202row6_col10,#T_f3b4770e_288a_11eb_9e21_0242ac130202row8_col10,#T_f3b4770e_288a_11eb_9e21_0242ac130202row11_col10{\n",
       "            background-color:  #7396f5;\n",
       "            color:  #000000;\n",
       "        }#T_f3b4770e_288a_11eb_9e21_0242ac130202row4_col8,#T_f3b4770e_288a_11eb_9e21_0242ac130202row4_col10,#T_f3b4770e_288a_11eb_9e21_0242ac130202row8_col7{\n",
       "            background-color:  #7597f6;\n",
       "            color:  #000000;\n",
       "        }#T_f3b4770e_288a_11eb_9e21_0242ac130202row4_col11,#T_f3b4770e_288a_11eb_9e21_0242ac130202row7_col11{\n",
       "            background-color:  #4c66d6;\n",
       "            color:  #000000;\n",
       "        }#T_f3b4770e_288a_11eb_9e21_0242ac130202row4_col13,#T_f3b4770e_288a_11eb_9e21_0242ac130202row6_col13{\n",
       "            background-color:  #c1d4f4;\n",
       "            color:  #000000;\n",
       "        }#T_f3b4770e_288a_11eb_9e21_0242ac130202row5_col7{\n",
       "            background-color:  #9bbcff;\n",
       "            color:  #000000;\n",
       "        }#T_f3b4770e_288a_11eb_9e21_0242ac130202row5_col9{\n",
       "            background-color:  #b2ccfb;\n",
       "            color:  #000000;\n",
       "        }#T_f3b4770e_288a_11eb_9e21_0242ac130202row5_col12{\n",
       "            background-color:  #dddcdc;\n",
       "            color:  #000000;\n",
       "        }#T_f3b4770e_288a_11eb_9e21_0242ac130202row5_col13{\n",
       "            background-color:  #799cf8;\n",
       "            color:  #000000;\n",
       "        }#T_f3b4770e_288a_11eb_9e21_0242ac130202row6_col2,#T_f3b4770e_288a_11eb_9e21_0242ac130202row7_col8,#T_f3b4770e_288a_11eb_9e21_0242ac130202row10_col7{\n",
       "            background-color:  #5e7de7;\n",
       "            color:  #000000;\n",
       "        }#T_f3b4770e_288a_11eb_9e21_0242ac130202row6_col3,#T_f3b4770e_288a_11eb_9e21_0242ac130202row8_col5,#T_f3b4770e_288a_11eb_9e21_0242ac130202row11_col5{\n",
       "            background-color:  #89acfd;\n",
       "            color:  #000000;\n",
       "        }#T_f3b4770e_288a_11eb_9e21_0242ac130202row6_col8{\n",
       "            background-color:  #6e90f2;\n",
       "            color:  #000000;\n",
       "        }#T_f3b4770e_288a_11eb_9e21_0242ac130202row6_col12{\n",
       "            background-color:  #bcd2f7;\n",
       "            color:  #000000;\n",
       "        }#T_f3b4770e_288a_11eb_9e21_0242ac130202row7_col1,#T_f3b4770e_288a_11eb_9e21_0242ac130202row10_col0{\n",
       "            background-color:  #5f7fe8;\n",
       "            color:  #000000;\n",
       "        }#T_f3b4770e_288a_11eb_9e21_0242ac130202row7_col2{\n",
       "            background-color:  #7295f4;\n",
       "            color:  #000000;\n",
       "        }#T_f3b4770e_288a_11eb_9e21_0242ac130202row7_col5{\n",
       "            background-color:  #b1cbfc;\n",
       "            color:  #000000;\n",
       "        }#T_f3b4770e_288a_11eb_9e21_0242ac130202row7_col9{\n",
       "            background-color:  #a6c4fe;\n",
       "            color:  #000000;\n",
       "        }#T_f3b4770e_288a_11eb_9e21_0242ac130202row7_col13{\n",
       "            background-color:  #92b4fe;\n",
       "            color:  #000000;\n",
       "        }#T_f3b4770e_288a_11eb_9e21_0242ac130202row8_col0{\n",
       "            background-color:  #ecd3c5;\n",
       "            color:  #000000;\n",
       "        }#T_f3b4770e_288a_11eb_9e21_0242ac130202row8_col4{\n",
       "            background-color:  #81a4fb;\n",
       "            color:  #000000;\n",
       "        }#T_f3b4770e_288a_11eb_9e21_0242ac130202row8_col6,#T_f3b4770e_288a_11eb_9e21_0242ac130202row10_col1{\n",
       "            background-color:  #7a9df8;\n",
       "            color:  #000000;\n",
       "        }#T_f3b4770e_288a_11eb_9e21_0242ac130202row8_col12{\n",
       "            background-color:  #b6cefa;\n",
       "            color:  #000000;\n",
       "        }#T_f3b4770e_288a_11eb_9e21_0242ac130202row8_col13{\n",
       "            background-color:  #ead5c9;\n",
       "            color:  #000000;\n",
       "        }#T_f3b4770e_288a_11eb_9e21_0242ac130202row9_col5{\n",
       "            background-color:  #b9d0f9;\n",
       "            color:  #000000;\n",
       "        }#T_f3b4770e_288a_11eb_9e21_0242ac130202row9_col8{\n",
       "            background-color:  #4f69d9;\n",
       "            color:  #000000;\n",
       "        }#T_f3b4770e_288a_11eb_9e21_0242ac130202row9_col10,#T_f3b4770e_288a_11eb_9e21_0242ac130202row12_col8{\n",
       "            background-color:  #516ddb;\n",
       "            color:  #000000;\n",
       "        }#T_f3b4770e_288a_11eb_9e21_0242ac130202row9_col12{\n",
       "            background-color:  #e9d5cb;\n",
       "            color:  #000000;\n",
       "        }#T_f3b4770e_288a_11eb_9e21_0242ac130202row10_col2{\n",
       "            background-color:  #506bda;\n",
       "            color:  #000000;\n",
       "        }#T_f3b4770e_288a_11eb_9e21_0242ac130202row10_col6,#T_f3b4770e_288a_11eb_9e21_0242ac130202row11_col7{\n",
       "            background-color:  #6384eb;\n",
       "            color:  #000000;\n",
       "        }#T_f3b4770e_288a_11eb_9e21_0242ac130202row10_col9{\n",
       "            background-color:  #5b7ae5;\n",
       "            color:  #000000;\n",
       "        }#T_f3b4770e_288a_11eb_9e21_0242ac130202row10_col13{\n",
       "            background-color:  #d9dce1;\n",
       "            color:  #000000;\n",
       "        }#T_f3b4770e_288a_11eb_9e21_0242ac130202row11_col4,#T_f3b4770e_288a_11eb_9e21_0242ac130202row12_col11{\n",
       "            background-color:  #5977e3;\n",
       "            color:  #000000;\n",
       "        }#T_f3b4770e_288a_11eb_9e21_0242ac130202row12_col0{\n",
       "            background-color:  #a2c1ff;\n",
       "            color:  #000000;\n",
       "        }#T_f3b4770e_288a_11eb_9e21_0242ac130202row12_col2{\n",
       "            background-color:  #a7c5fe;\n",
       "            color:  #000000;\n",
       "        }#T_f3b4770e_288a_11eb_9e21_0242ac130202row12_col3{\n",
       "            background-color:  #4055c8;\n",
       "            color:  #f1f1f1;\n",
       "        }#T_f3b4770e_288a_11eb_9e21_0242ac130202row12_col7{\n",
       "            background-color:  #b3cdfb;\n",
       "            color:  #000000;\n",
       "        }#T_f3b4770e_288a_11eb_9e21_0242ac130202row12_col9{\n",
       "            background-color:  #c7d7f0;\n",
       "            color:  #000000;\n",
       "        }#T_f3b4770e_288a_11eb_9e21_0242ac130202row13_col8{\n",
       "            background-color:  #adc9fd;\n",
       "            color:  #000000;\n",
       "        }#T_f3b4770e_288a_11eb_9e21_0242ac130202row13_col10{\n",
       "            background-color:  #a3c2fe;\n",
       "            color:  #000000;\n",
       "        }</style><table id=\"T_f3b4770e_288a_11eb_9e21_0242ac130202\" ><thead>    <tr>        <th class=\"blank level0\" ></th>        <th class=\"col_heading level0 col0\" >Kapasitas mesin</th>        <th class=\"col_heading level0 col1\" >Warna</th>        <th class=\"col_heading level0 col2\" >Tipe bodi</th>        <th class=\"col_heading level0 col3\" >Varian</th>        <th class=\"col_heading level0 col4\" >Merek</th>        <th class=\"col_heading level0 col5\" >Transmisi</th>        <th class=\"col_heading level0 col6\" >Model</th>        <th class=\"col_heading level0 col7\" >Fitur tambahan</th>        <th class=\"col_heading level0 col8\" >Tipe bahan bakar</th>        <th class=\"col_heading level0 col9\" >Tipe Penjual</th>        <th class=\"col_heading level0 col10\" >Jarak tempuh</th>        <th class=\"col_heading level0 col11\" >Sistem Penggerak</th>        <th class=\"col_heading level0 col12\" >umur_mobil</th>        <th class=\"col_heading level0 col13\" >price_upd</th>    </tr></thead><tbody>\n",
       "                <tr>\n",
       "                        <th id=\"T_f3b4770e_288a_11eb_9e21_0242ac130202level0_row0\" class=\"row_heading level0 row0\" >Kapasitas mesin</th>\n",
       "                        <td id=\"T_f3b4770e_288a_11eb_9e21_0242ac130202row0_col0\" class=\"data row0 col0\" >1.00</td>\n",
       "                        <td id=\"T_f3b4770e_288a_11eb_9e21_0242ac130202row0_col1\" class=\"data row0 col1\" >-0.08</td>\n",
       "                        <td id=\"T_f3b4770e_288a_11eb_9e21_0242ac130202row0_col2\" class=\"data row0 col2\" >0.28</td>\n",
       "                        <td id=\"T_f3b4770e_288a_11eb_9e21_0242ac130202row0_col3\" class=\"data row0 col3\" >-0.19</td>\n",
       "                        <td id=\"T_f3b4770e_288a_11eb_9e21_0242ac130202row0_col4\" class=\"data row0 col4\" >0.08</td>\n",
       "                        <td id=\"T_f3b4770e_288a_11eb_9e21_0242ac130202row0_col5\" class=\"data row0 col5\" >-0.20</td>\n",
       "                        <td id=\"T_f3b4770e_288a_11eb_9e21_0242ac130202row0_col6\" class=\"data row0 col6\" >0.00</td>\n",
       "                        <td id=\"T_f3b4770e_288a_11eb_9e21_0242ac130202row0_col7\" class=\"data row0 col7\" >-0.04</td>\n",
       "                        <td id=\"T_f3b4770e_288a_11eb_9e21_0242ac130202row0_col8\" class=\"data row0 col8\" >0.48</td>\n",
       "                        <td id=\"T_f3b4770e_288a_11eb_9e21_0242ac130202row0_col9\" class=\"data row0 col9\" >-0.04</td>\n",
       "                        <td id=\"T_f3b4770e_288a_11eb_9e21_0242ac130202row0_col10\" class=\"data row0 col10\" >-0.06</td>\n",
       "                        <td id=\"T_f3b4770e_288a_11eb_9e21_0242ac130202row0_col11\" class=\"data row0 col11\" >-0.06</td>\n",
       "                        <td id=\"T_f3b4770e_288a_11eb_9e21_0242ac130202row0_col12\" class=\"data row0 col12\" >0.17</td>\n",
       "                        <td id=\"T_f3b4770e_288a_11eb_9e21_0242ac130202row0_col13\" class=\"data row0 col13\" >0.39</td>\n",
       "            </tr>\n",
       "            <tr>\n",
       "                        <th id=\"T_f3b4770e_288a_11eb_9e21_0242ac130202level0_row1\" class=\"row_heading level0 row1\" >Warna</th>\n",
       "                        <td id=\"T_f3b4770e_288a_11eb_9e21_0242ac130202row1_col0\" class=\"data row1 col0\" >-0.08</td>\n",
       "                        <td id=\"T_f3b4770e_288a_11eb_9e21_0242ac130202row1_col1\" class=\"data row1 col1\" >1.00</td>\n",
       "                        <td id=\"T_f3b4770e_288a_11eb_9e21_0242ac130202row1_col2\" class=\"data row1 col2\" >-0.06</td>\n",
       "                        <td id=\"T_f3b4770e_288a_11eb_9e21_0242ac130202row1_col3\" class=\"data row1 col3\" >0.05</td>\n",
       "                        <td id=\"T_f3b4770e_288a_11eb_9e21_0242ac130202row1_col4\" class=\"data row1 col4\" >0.02</td>\n",
       "                        <td id=\"T_f3b4770e_288a_11eb_9e21_0242ac130202row1_col5\" class=\"data row1 col5\" >-0.01</td>\n",
       "                        <td id=\"T_f3b4770e_288a_11eb_9e21_0242ac130202row1_col6\" class=\"data row1 col6\" >0.01</td>\n",
       "                        <td id=\"T_f3b4770e_288a_11eb_9e21_0242ac130202row1_col7\" class=\"data row1 col7\" >-0.03</td>\n",
       "                        <td id=\"T_f3b4770e_288a_11eb_9e21_0242ac130202row1_col8\" class=\"data row1 col8\" >-0.01</td>\n",
       "                        <td id=\"T_f3b4770e_288a_11eb_9e21_0242ac130202row1_col9\" class=\"data row1 col9\" >-0.06</td>\n",
       "                        <td id=\"T_f3b4770e_288a_11eb_9e21_0242ac130202row1_col10\" class=\"data row1 col10\" >0.06</td>\n",
       "                        <td id=\"T_f3b4770e_288a_11eb_9e21_0242ac130202row1_col11\" class=\"data row1 col11\" >-0.01</td>\n",
       "                        <td id=\"T_f3b4770e_288a_11eb_9e21_0242ac130202row1_col12\" class=\"data row1 col12\" >-0.17</td>\n",
       "                        <td id=\"T_f3b4770e_288a_11eb_9e21_0242ac130202row1_col13\" class=\"data row1 col13\" >0.09</td>\n",
       "            </tr>\n",
       "            <tr>\n",
       "                        <th id=\"T_f3b4770e_288a_11eb_9e21_0242ac130202level0_row2\" class=\"row_heading level0 row2\" >Tipe bodi</th>\n",
       "                        <td id=\"T_f3b4770e_288a_11eb_9e21_0242ac130202row2_col0\" class=\"data row2 col0\" >0.28</td>\n",
       "                        <td id=\"T_f3b4770e_288a_11eb_9e21_0242ac130202row2_col1\" class=\"data row2 col1\" >-0.06</td>\n",
       "                        <td id=\"T_f3b4770e_288a_11eb_9e21_0242ac130202row2_col2\" class=\"data row2 col2\" >1.00</td>\n",
       "                        <td id=\"T_f3b4770e_288a_11eb_9e21_0242ac130202row2_col3\" class=\"data row2 col3\" >-0.16</td>\n",
       "                        <td id=\"T_f3b4770e_288a_11eb_9e21_0242ac130202row2_col4\" class=\"data row2 col4\" >-0.00</td>\n",
       "                        <td id=\"T_f3b4770e_288a_11eb_9e21_0242ac130202row2_col5\" class=\"data row2 col5\" >-0.03</td>\n",
       "                        <td id=\"T_f3b4770e_288a_11eb_9e21_0242ac130202row2_col6\" class=\"data row2 col6\" >-0.02</td>\n",
       "                        <td id=\"T_f3b4770e_288a_11eb_9e21_0242ac130202row2_col7\" class=\"data row2 col7\" >0.04</td>\n",
       "                        <td id=\"T_f3b4770e_288a_11eb_9e21_0242ac130202row2_col8\" class=\"data row2 col8\" >0.04</td>\n",
       "                        <td id=\"T_f3b4770e_288a_11eb_9e21_0242ac130202row2_col9\" class=\"data row2 col9\" >0.06</td>\n",
       "                        <td id=\"T_f3b4770e_288a_11eb_9e21_0242ac130202row2_col10\" class=\"data row2 col10\" >-0.07</td>\n",
       "                        <td id=\"T_f3b4770e_288a_11eb_9e21_0242ac130202row2_col11\" class=\"data row2 col11\" >0.01</td>\n",
       "                        <td id=\"T_f3b4770e_288a_11eb_9e21_0242ac130202row2_col12\" class=\"data row2 col12\" >0.22</td>\n",
       "                        <td id=\"T_f3b4770e_288a_11eb_9e21_0242ac130202row2_col13\" class=\"data row2 col13\" >-0.00</td>\n",
       "            </tr>\n",
       "            <tr>\n",
       "                        <th id=\"T_f3b4770e_288a_11eb_9e21_0242ac130202level0_row3\" class=\"row_heading level0 row3\" >Varian</th>\n",
       "                        <td id=\"T_f3b4770e_288a_11eb_9e21_0242ac130202row3_col0\" class=\"data row3 col0\" >-0.19</td>\n",
       "                        <td id=\"T_f3b4770e_288a_11eb_9e21_0242ac130202row3_col1\" class=\"data row3 col1\" >0.05</td>\n",
       "                        <td id=\"T_f3b4770e_288a_11eb_9e21_0242ac130202row3_col2\" class=\"data row3 col2\" >-0.16</td>\n",
       "                        <td id=\"T_f3b4770e_288a_11eb_9e21_0242ac130202row3_col3\" class=\"data row3 col3\" >1.00</td>\n",
       "                        <td id=\"T_f3b4770e_288a_11eb_9e21_0242ac130202row3_col4\" class=\"data row3 col4\" >0.01</td>\n",
       "                        <td id=\"T_f3b4770e_288a_11eb_9e21_0242ac130202row3_col5\" class=\"data row3 col5\" >0.02</td>\n",
       "                        <td id=\"T_f3b4770e_288a_11eb_9e21_0242ac130202row3_col6\" class=\"data row3 col6\" >0.10</td>\n",
       "                        <td id=\"T_f3b4770e_288a_11eb_9e21_0242ac130202row3_col7\" class=\"data row3 col7\" >-0.01</td>\n",
       "                        <td id=\"T_f3b4770e_288a_11eb_9e21_0242ac130202row3_col8\" class=\"data row3 col8\" >-0.02</td>\n",
       "                        <td id=\"T_f3b4770e_288a_11eb_9e21_0242ac130202row3_col9\" class=\"data row3 col9\" >-0.03</td>\n",
       "                        <td id=\"T_f3b4770e_288a_11eb_9e21_0242ac130202row3_col10\" class=\"data row3 col10\" >0.03</td>\n",
       "                        <td id=\"T_f3b4770e_288a_11eb_9e21_0242ac130202row3_col11\" class=\"data row3 col11\" >0.01</td>\n",
       "                        <td id=\"T_f3b4770e_288a_11eb_9e21_0242ac130202row3_col12\" class=\"data row3 col12\" >-0.16</td>\n",
       "                        <td id=\"T_f3b4770e_288a_11eb_9e21_0242ac130202row3_col13\" class=\"data row3 col13\" >0.01</td>\n",
       "            </tr>\n",
       "            <tr>\n",
       "                        <th id=\"T_f3b4770e_288a_11eb_9e21_0242ac130202level0_row4\" class=\"row_heading level0 row4\" >Merek</th>\n",
       "                        <td id=\"T_f3b4770e_288a_11eb_9e21_0242ac130202row4_col0\" class=\"data row4 col0\" >0.08</td>\n",
       "                        <td id=\"T_f3b4770e_288a_11eb_9e21_0242ac130202row4_col1\" class=\"data row4 col1\" >0.02</td>\n",
       "                        <td id=\"T_f3b4770e_288a_11eb_9e21_0242ac130202row4_col2\" class=\"data row4 col2\" >-0.00</td>\n",
       "                        <td id=\"T_f3b4770e_288a_11eb_9e21_0242ac130202row4_col3\" class=\"data row4 col3\" >0.01</td>\n",
       "                        <td id=\"T_f3b4770e_288a_11eb_9e21_0242ac130202row4_col4\" class=\"data row4 col4\" >1.00</td>\n",
       "                        <td id=\"T_f3b4770e_288a_11eb_9e21_0242ac130202row4_col5\" class=\"data row4 col5\" >0.01</td>\n",
       "                        <td id=\"T_f3b4770e_288a_11eb_9e21_0242ac130202row4_col6\" class=\"data row4 col6\" >-0.16</td>\n",
       "                        <td id=\"T_f3b4770e_288a_11eb_9e21_0242ac130202row4_col7\" class=\"data row4 col7\" >0.01</td>\n",
       "                        <td id=\"T_f3b4770e_288a_11eb_9e21_0242ac130202row4_col8\" class=\"data row4 col8\" >0.09</td>\n",
       "                        <td id=\"T_f3b4770e_288a_11eb_9e21_0242ac130202row4_col9\" class=\"data row4 col9\" >-0.00</td>\n",
       "                        <td id=\"T_f3b4770e_288a_11eb_9e21_0242ac130202row4_col10\" class=\"data row4 col10\" >-0.01</td>\n",
       "                        <td id=\"T_f3b4770e_288a_11eb_9e21_0242ac130202row4_col11\" class=\"data row4 col11\" >-0.05</td>\n",
       "                        <td id=\"T_f3b4770e_288a_11eb_9e21_0242ac130202row4_col12\" class=\"data row4 col12\" >0.01</td>\n",
       "                        <td id=\"T_f3b4770e_288a_11eb_9e21_0242ac130202row4_col13\" class=\"data row4 col13\" >0.03</td>\n",
       "            </tr>\n",
       "            <tr>\n",
       "                        <th id=\"T_f3b4770e_288a_11eb_9e21_0242ac130202level0_row5\" class=\"row_heading level0 row5\" >Transmisi</th>\n",
       "                        <td id=\"T_f3b4770e_288a_11eb_9e21_0242ac130202row5_col0\" class=\"data row5 col0\" >-0.20</td>\n",
       "                        <td id=\"T_f3b4770e_288a_11eb_9e21_0242ac130202row5_col1\" class=\"data row5 col1\" >-0.01</td>\n",
       "                        <td id=\"T_f3b4770e_288a_11eb_9e21_0242ac130202row5_col2\" class=\"data row5 col2\" >-0.03</td>\n",
       "                        <td id=\"T_f3b4770e_288a_11eb_9e21_0242ac130202row5_col3\" class=\"data row5 col3\" >0.02</td>\n",
       "                        <td id=\"T_f3b4770e_288a_11eb_9e21_0242ac130202row5_col4\" class=\"data row5 col4\" >0.01</td>\n",
       "                        <td id=\"T_f3b4770e_288a_11eb_9e21_0242ac130202row5_col5\" class=\"data row5 col5\" >1.00</td>\n",
       "                        <td id=\"T_f3b4770e_288a_11eb_9e21_0242ac130202row5_col6\" class=\"data row5 col6\" >0.02</td>\n",
       "                        <td id=\"T_f3b4770e_288a_11eb_9e21_0242ac130202row5_col7\" class=\"data row5 col7\" >0.15</td>\n",
       "                        <td id=\"T_f3b4770e_288a_11eb_9e21_0242ac130202row5_col8\" class=\"data row5 col8\" >-0.00</td>\n",
       "                        <td id=\"T_f3b4770e_288a_11eb_9e21_0242ac130202row5_col9\" class=\"data row5 col9\" >0.18</td>\n",
       "                        <td id=\"T_f3b4770e_288a_11eb_9e21_0242ac130202row5_col10\" class=\"data row5 col10\" >-0.07</td>\n",
       "                        <td id=\"T_f3b4770e_288a_11eb_9e21_0242ac130202row5_col11\" class=\"data row5 col11\" >0.00</td>\n",
       "                        <td id=\"T_f3b4770e_288a_11eb_9e21_0242ac130202row5_col12\" class=\"data row5 col12\" >0.19</td>\n",
       "                        <td id=\"T_f3b4770e_288a_11eb_9e21_0242ac130202row5_col13\" class=\"data row5 col13\" >-0.32</td>\n",
       "            </tr>\n",
       "            <tr>\n",
       "                        <th id=\"T_f3b4770e_288a_11eb_9e21_0242ac130202level0_row6\" class=\"row_heading level0 row6\" >Model</th>\n",
       "                        <td id=\"T_f3b4770e_288a_11eb_9e21_0242ac130202row6_col0\" class=\"data row6 col0\" >0.00</td>\n",
       "                        <td id=\"T_f3b4770e_288a_11eb_9e21_0242ac130202row6_col1\" class=\"data row6 col1\" >0.01</td>\n",
       "                        <td id=\"T_f3b4770e_288a_11eb_9e21_0242ac130202row6_col2\" class=\"data row6 col2\" >-0.02</td>\n",
       "                        <td id=\"T_f3b4770e_288a_11eb_9e21_0242ac130202row6_col3\" class=\"data row6 col3\" >0.10</td>\n",
       "                        <td id=\"T_f3b4770e_288a_11eb_9e21_0242ac130202row6_col4\" class=\"data row6 col4\" >-0.16</td>\n",
       "                        <td id=\"T_f3b4770e_288a_11eb_9e21_0242ac130202row6_col5\" class=\"data row6 col5\" >0.02</td>\n",
       "                        <td id=\"T_f3b4770e_288a_11eb_9e21_0242ac130202row6_col6\" class=\"data row6 col6\" >1.00</td>\n",
       "                        <td id=\"T_f3b4770e_288a_11eb_9e21_0242ac130202row6_col7\" class=\"data row6 col7\" >0.01</td>\n",
       "                        <td id=\"T_f3b4770e_288a_11eb_9e21_0242ac130202row6_col8\" class=\"data row6 col8\" >0.07</td>\n",
       "                        <td id=\"T_f3b4770e_288a_11eb_9e21_0242ac130202row6_col9\" class=\"data row6 col9\" >0.01</td>\n",
       "                        <td id=\"T_f3b4770e_288a_11eb_9e21_0242ac130202row6_col10\" class=\"data row6 col10\" >-0.01</td>\n",
       "                        <td id=\"T_f3b4770e_288a_11eb_9e21_0242ac130202row6_col11\" class=\"data row6 col11\" >-0.01</td>\n",
       "                        <td id=\"T_f3b4770e_288a_11eb_9e21_0242ac130202row6_col12\" class=\"data row6 col12\" >0.00</td>\n",
       "                        <td id=\"T_f3b4770e_288a_11eb_9e21_0242ac130202row6_col13\" class=\"data row6 col13\" >0.03</td>\n",
       "            </tr>\n",
       "            <tr>\n",
       "                        <th id=\"T_f3b4770e_288a_11eb_9e21_0242ac130202level0_row7\" class=\"row_heading level0 row7\" >Fitur tambahan</th>\n",
       "                        <td id=\"T_f3b4770e_288a_11eb_9e21_0242ac130202row7_col0\" class=\"data row7 col0\" >-0.04</td>\n",
       "                        <td id=\"T_f3b4770e_288a_11eb_9e21_0242ac130202row7_col1\" class=\"data row7 col1\" >-0.03</td>\n",
       "                        <td id=\"T_f3b4770e_288a_11eb_9e21_0242ac130202row7_col2\" class=\"data row7 col2\" >0.04</td>\n",
       "                        <td id=\"T_f3b4770e_288a_11eb_9e21_0242ac130202row7_col3\" class=\"data row7 col3\" >-0.01</td>\n",
       "                        <td id=\"T_f3b4770e_288a_11eb_9e21_0242ac130202row7_col4\" class=\"data row7 col4\" >0.01</td>\n",
       "                        <td id=\"T_f3b4770e_288a_11eb_9e21_0242ac130202row7_col5\" class=\"data row7 col5\" >0.15</td>\n",
       "                        <td id=\"T_f3b4770e_288a_11eb_9e21_0242ac130202row7_col6\" class=\"data row7 col6\" >0.01</td>\n",
       "                        <td id=\"T_f3b4770e_288a_11eb_9e21_0242ac130202row7_col7\" class=\"data row7 col7\" >1.00</td>\n",
       "                        <td id=\"T_f3b4770e_288a_11eb_9e21_0242ac130202row7_col8\" class=\"data row7 col8\" >0.01</td>\n",
       "                        <td id=\"T_f3b4770e_288a_11eb_9e21_0242ac130202row7_col9\" class=\"data row7 col9\" >0.14</td>\n",
       "                        <td id=\"T_f3b4770e_288a_11eb_9e21_0242ac130202row7_col10\" class=\"data row7 col10\" >-0.06</td>\n",
       "                        <td id=\"T_f3b4770e_288a_11eb_9e21_0242ac130202row7_col11\" class=\"data row7 col11\" >-0.05</td>\n",
       "                        <td id=\"T_f3b4770e_288a_11eb_9e21_0242ac130202row7_col12\" class=\"data row7 col12\" >0.23</td>\n",
       "                        <td id=\"T_f3b4770e_288a_11eb_9e21_0242ac130202row7_col13\" class=\"data row7 col13\" >-0.20</td>\n",
       "            </tr>\n",
       "            <tr>\n",
       "                        <th id=\"T_f3b4770e_288a_11eb_9e21_0242ac130202level0_row8\" class=\"row_heading level0 row8\" >Tipe bahan bakar</th>\n",
       "                        <td id=\"T_f3b4770e_288a_11eb_9e21_0242ac130202row8_col0\" class=\"data row8 col0\" >0.48</td>\n",
       "                        <td id=\"T_f3b4770e_288a_11eb_9e21_0242ac130202row8_col1\" class=\"data row8 col1\" >-0.01</td>\n",
       "                        <td id=\"T_f3b4770e_288a_11eb_9e21_0242ac130202row8_col2\" class=\"data row8 col2\" >0.04</td>\n",
       "                        <td id=\"T_f3b4770e_288a_11eb_9e21_0242ac130202row8_col3\" class=\"data row8 col3\" >-0.02</td>\n",
       "                        <td id=\"T_f3b4770e_288a_11eb_9e21_0242ac130202row8_col4\" class=\"data row8 col4\" >0.09</td>\n",
       "                        <td id=\"T_f3b4770e_288a_11eb_9e21_0242ac130202row8_col5\" class=\"data row8 col5\" >-0.00</td>\n",
       "                        <td id=\"T_f3b4770e_288a_11eb_9e21_0242ac130202row8_col6\" class=\"data row8 col6\" >0.07</td>\n",
       "                        <td id=\"T_f3b4770e_288a_11eb_9e21_0242ac130202row8_col7\" class=\"data row8 col7\" >0.01</td>\n",
       "                        <td id=\"T_f3b4770e_288a_11eb_9e21_0242ac130202row8_col8\" class=\"data row8 col8\" >1.00</td>\n",
       "                        <td id=\"T_f3b4770e_288a_11eb_9e21_0242ac130202row8_col9\" class=\"data row8 col9\" >-0.04</td>\n",
       "                        <td id=\"T_f3b4770e_288a_11eb_9e21_0242ac130202row8_col10\" class=\"data row8 col10\" >-0.01</td>\n",
       "                        <td id=\"T_f3b4770e_288a_11eb_9e21_0242ac130202row8_col11\" class=\"data row8 col11\" >-0.11</td>\n",
       "                        <td id=\"T_f3b4770e_288a_11eb_9e21_0242ac130202row8_col12\" class=\"data row8 col12\" >-0.03</td>\n",
       "                        <td id=\"T_f3b4770e_288a_11eb_9e21_0242ac130202row8_col13\" class=\"data row8 col13\" >0.27</td>\n",
       "            </tr>\n",
       "            <tr>\n",
       "                        <th id=\"T_f3b4770e_288a_11eb_9e21_0242ac130202level0_row9\" class=\"row_heading level0 row9\" >Tipe Penjual</th>\n",
       "                        <td id=\"T_f3b4770e_288a_11eb_9e21_0242ac130202row9_col0\" class=\"data row9 col0\" >-0.04</td>\n",
       "                        <td id=\"T_f3b4770e_288a_11eb_9e21_0242ac130202row9_col1\" class=\"data row9 col1\" >-0.06</td>\n",
       "                        <td id=\"T_f3b4770e_288a_11eb_9e21_0242ac130202row9_col2\" class=\"data row9 col2\" >0.06</td>\n",
       "                        <td id=\"T_f3b4770e_288a_11eb_9e21_0242ac130202row9_col3\" class=\"data row9 col3\" >-0.03</td>\n",
       "                        <td id=\"T_f3b4770e_288a_11eb_9e21_0242ac130202row9_col4\" class=\"data row9 col4\" >-0.00</td>\n",
       "                        <td id=\"T_f3b4770e_288a_11eb_9e21_0242ac130202row9_col5\" class=\"data row9 col5\" >0.18</td>\n",
       "                        <td id=\"T_f3b4770e_288a_11eb_9e21_0242ac130202row9_col6\" class=\"data row9 col6\" >0.01</td>\n",
       "                        <td id=\"T_f3b4770e_288a_11eb_9e21_0242ac130202row9_col7\" class=\"data row9 col7\" >0.14</td>\n",
       "                        <td id=\"T_f3b4770e_288a_11eb_9e21_0242ac130202row9_col8\" class=\"data row9 col8\" >-0.04</td>\n",
       "                        <td id=\"T_f3b4770e_288a_11eb_9e21_0242ac130202row9_col9\" class=\"data row9 col9\" >1.00</td>\n",
       "                        <td id=\"T_f3b4770e_288a_11eb_9e21_0242ac130202row9_col10\" class=\"data row9 col10\" >-0.13</td>\n",
       "                        <td id=\"T_f3b4770e_288a_11eb_9e21_0242ac130202row9_col11\" class=\"data row9 col11\" >-0.02</td>\n",
       "                        <td id=\"T_f3b4770e_288a_11eb_9e21_0242ac130202row9_col12\" class=\"data row9 col12\" >0.26</td>\n",
       "                        <td id=\"T_f3b4770e_288a_11eb_9e21_0242ac130202row9_col13\" class=\"data row9 col13\" >-0.27</td>\n",
       "            </tr>\n",
       "            <tr>\n",
       "                        <th id=\"T_f3b4770e_288a_11eb_9e21_0242ac130202level0_row10\" class=\"row_heading level0 row10\" >Jarak tempuh</th>\n",
       "                        <td id=\"T_f3b4770e_288a_11eb_9e21_0242ac130202row10_col0\" class=\"data row10 col0\" >-0.06</td>\n",
       "                        <td id=\"T_f3b4770e_288a_11eb_9e21_0242ac130202row10_col1\" class=\"data row10 col1\" >0.06</td>\n",
       "                        <td id=\"T_f3b4770e_288a_11eb_9e21_0242ac130202row10_col2\" class=\"data row10 col2\" >-0.07</td>\n",
       "                        <td id=\"T_f3b4770e_288a_11eb_9e21_0242ac130202row10_col3\" class=\"data row10 col3\" >0.03</td>\n",
       "                        <td id=\"T_f3b4770e_288a_11eb_9e21_0242ac130202row10_col4\" class=\"data row10 col4\" >-0.01</td>\n",
       "                        <td id=\"T_f3b4770e_288a_11eb_9e21_0242ac130202row10_col5\" class=\"data row10 col5\" >-0.07</td>\n",
       "                        <td id=\"T_f3b4770e_288a_11eb_9e21_0242ac130202row10_col6\" class=\"data row10 col6\" >-0.01</td>\n",
       "                        <td id=\"T_f3b4770e_288a_11eb_9e21_0242ac130202row10_col7\" class=\"data row10 col7\" >-0.06</td>\n",
       "                        <td id=\"T_f3b4770e_288a_11eb_9e21_0242ac130202row10_col8\" class=\"data row10 col8\" >-0.01</td>\n",
       "                        <td id=\"T_f3b4770e_288a_11eb_9e21_0242ac130202row10_col9\" class=\"data row10 col9\" >-0.13</td>\n",
       "                        <td id=\"T_f3b4770e_288a_11eb_9e21_0242ac130202row10_col10\" class=\"data row10 col10\" >1.00</td>\n",
       "                        <td id=\"T_f3b4770e_288a_11eb_9e21_0242ac130202row10_col11\" class=\"data row10 col11\" >-0.01</td>\n",
       "                        <td id=\"T_f3b4770e_288a_11eb_9e21_0242ac130202row10_col12\" class=\"data row10 col12\" >-0.23</td>\n",
       "                        <td id=\"T_f3b4770e_288a_11eb_9e21_0242ac130202row10_col13\" class=\"data row10 col13\" >0.16</td>\n",
       "            </tr>\n",
       "            <tr>\n",
       "                        <th id=\"T_f3b4770e_288a_11eb_9e21_0242ac130202level0_row11\" class=\"row_heading level0 row11\" >Sistem Penggerak</th>\n",
       "                        <td id=\"T_f3b4770e_288a_11eb_9e21_0242ac130202row11_col0\" class=\"data row11 col0\" >-0.06</td>\n",
       "                        <td id=\"T_f3b4770e_288a_11eb_9e21_0242ac130202row11_col1\" class=\"data row11 col1\" >-0.01</td>\n",
       "                        <td id=\"T_f3b4770e_288a_11eb_9e21_0242ac130202row11_col2\" class=\"data row11 col2\" >0.01</td>\n",
       "                        <td id=\"T_f3b4770e_288a_11eb_9e21_0242ac130202row11_col3\" class=\"data row11 col3\" >0.01</td>\n",
       "                        <td id=\"T_f3b4770e_288a_11eb_9e21_0242ac130202row11_col4\" class=\"data row11 col4\" >-0.05</td>\n",
       "                        <td id=\"T_f3b4770e_288a_11eb_9e21_0242ac130202row11_col5\" class=\"data row11 col5\" >0.00</td>\n",
       "                        <td id=\"T_f3b4770e_288a_11eb_9e21_0242ac130202row11_col6\" class=\"data row11 col6\" >-0.01</td>\n",
       "                        <td id=\"T_f3b4770e_288a_11eb_9e21_0242ac130202row11_col7\" class=\"data row11 col7\" >-0.05</td>\n",
       "                        <td id=\"T_f3b4770e_288a_11eb_9e21_0242ac130202row11_col8\" class=\"data row11 col8\" >-0.11</td>\n",
       "                        <td id=\"T_f3b4770e_288a_11eb_9e21_0242ac130202row11_col9\" class=\"data row11 col9\" >-0.02</td>\n",
       "                        <td id=\"T_f3b4770e_288a_11eb_9e21_0242ac130202row11_col10\" class=\"data row11 col10\" >-0.01</td>\n",
       "                        <td id=\"T_f3b4770e_288a_11eb_9e21_0242ac130202row11_col11\" class=\"data row11 col11\" >1.00</td>\n",
       "                        <td id=\"T_f3b4770e_288a_11eb_9e21_0242ac130202row11_col12\" class=\"data row11 col12\" >-0.01</td>\n",
       "                        <td id=\"T_f3b4770e_288a_11eb_9e21_0242ac130202row11_col13\" class=\"data row11 col13\" >-0.01</td>\n",
       "            </tr>\n",
       "            <tr>\n",
       "                        <th id=\"T_f3b4770e_288a_11eb_9e21_0242ac130202level0_row12\" class=\"row_heading level0 row12\" >umur_mobil</th>\n",
       "                        <td id=\"T_f3b4770e_288a_11eb_9e21_0242ac130202row12_col0\" class=\"data row12 col0\" >0.17</td>\n",
       "                        <td id=\"T_f3b4770e_288a_11eb_9e21_0242ac130202row12_col1\" class=\"data row12 col1\" >-0.17</td>\n",
       "                        <td id=\"T_f3b4770e_288a_11eb_9e21_0242ac130202row12_col2\" class=\"data row12 col2\" >0.22</td>\n",
       "                        <td id=\"T_f3b4770e_288a_11eb_9e21_0242ac130202row12_col3\" class=\"data row12 col3\" >-0.16</td>\n",
       "                        <td id=\"T_f3b4770e_288a_11eb_9e21_0242ac130202row12_col4\" class=\"data row12 col4\" >0.01</td>\n",
       "                        <td id=\"T_f3b4770e_288a_11eb_9e21_0242ac130202row12_col5\" class=\"data row12 col5\" >0.19</td>\n",
       "                        <td id=\"T_f3b4770e_288a_11eb_9e21_0242ac130202row12_col6\" class=\"data row12 col6\" >0.00</td>\n",
       "                        <td id=\"T_f3b4770e_288a_11eb_9e21_0242ac130202row12_col7\" class=\"data row12 col7\" >0.23</td>\n",
       "                        <td id=\"T_f3b4770e_288a_11eb_9e21_0242ac130202row12_col8\" class=\"data row12 col8\" >-0.03</td>\n",
       "                        <td id=\"T_f3b4770e_288a_11eb_9e21_0242ac130202row12_col9\" class=\"data row12 col9\" >0.26</td>\n",
       "                        <td id=\"T_f3b4770e_288a_11eb_9e21_0242ac130202row12_col10\" class=\"data row12 col10\" >-0.23</td>\n",
       "                        <td id=\"T_f3b4770e_288a_11eb_9e21_0242ac130202row12_col11\" class=\"data row12 col11\" >-0.01</td>\n",
       "                        <td id=\"T_f3b4770e_288a_11eb_9e21_0242ac130202row12_col12\" class=\"data row12 col12\" >1.00</td>\n",
       "                        <td id=\"T_f3b4770e_288a_11eb_9e21_0242ac130202row12_col13\" class=\"data row12 col13\" >-0.63</td>\n",
       "            </tr>\n",
       "            <tr>\n",
       "                        <th id=\"T_f3b4770e_288a_11eb_9e21_0242ac130202level0_row13\" class=\"row_heading level0 row13\" >price_upd</th>\n",
       "                        <td id=\"T_f3b4770e_288a_11eb_9e21_0242ac130202row13_col0\" class=\"data row13 col0\" >0.39</td>\n",
       "                        <td id=\"T_f3b4770e_288a_11eb_9e21_0242ac130202row13_col1\" class=\"data row13 col1\" >0.09</td>\n",
       "                        <td id=\"T_f3b4770e_288a_11eb_9e21_0242ac130202row13_col2\" class=\"data row13 col2\" >-0.00</td>\n",
       "                        <td id=\"T_f3b4770e_288a_11eb_9e21_0242ac130202row13_col3\" class=\"data row13 col3\" >0.01</td>\n",
       "                        <td id=\"T_f3b4770e_288a_11eb_9e21_0242ac130202row13_col4\" class=\"data row13 col4\" >0.03</td>\n",
       "                        <td id=\"T_f3b4770e_288a_11eb_9e21_0242ac130202row13_col5\" class=\"data row13 col5\" >-0.32</td>\n",
       "                        <td id=\"T_f3b4770e_288a_11eb_9e21_0242ac130202row13_col6\" class=\"data row13 col6\" >0.03</td>\n",
       "                        <td id=\"T_f3b4770e_288a_11eb_9e21_0242ac130202row13_col7\" class=\"data row13 col7\" >-0.20</td>\n",
       "                        <td id=\"T_f3b4770e_288a_11eb_9e21_0242ac130202row13_col8\" class=\"data row13 col8\" >0.27</td>\n",
       "                        <td id=\"T_f3b4770e_288a_11eb_9e21_0242ac130202row13_col9\" class=\"data row13 col9\" >-0.27</td>\n",
       "                        <td id=\"T_f3b4770e_288a_11eb_9e21_0242ac130202row13_col10\" class=\"data row13 col10\" >0.16</td>\n",
       "                        <td id=\"T_f3b4770e_288a_11eb_9e21_0242ac130202row13_col11\" class=\"data row13 col11\" >-0.01</td>\n",
       "                        <td id=\"T_f3b4770e_288a_11eb_9e21_0242ac130202row13_col12\" class=\"data row13 col12\" >-0.63</td>\n",
       "                        <td id=\"T_f3b4770e_288a_11eb_9e21_0242ac130202row13_col13\" class=\"data row13 col13\" >1.00</td>\n",
       "            </tr>\n",
       "    </tbody></table>"
      ],
      "text/plain": [
       "<pandas.io.formats.style.Styler at 0x7f9a7d385390>"
      ]
     },
     "execution_count": 18,
     "metadata": {},
     "output_type": "execute_result"
    }
   ],
   "source": [
    "# data_train correlation\n",
    "corr = df_encoded.corr()\n",
    "corr.style.background_gradient(cmap='coolwarm').set_precision(2)"
   ]
  },
  {
   "cell_type": "markdown",
   "metadata": {
    "papermill": {
     "duration": 0.054164,
     "end_time": "2020-11-17T04:11:22.560304",
     "exception": false,
     "start_time": "2020-11-17T04:11:22.506140",
     "status": "completed"
    },
    "tags": []
   },
   "source": [
    "Check which features influence the most for price"
   ]
  },
  {
   "cell_type": "code",
   "execution_count": 19,
   "metadata": {
    "execution": {
     "iopub.execute_input": "2020-11-17T04:11:22.682581Z",
     "iopub.status.busy": "2020-11-17T04:11:22.681669Z",
     "iopub.status.idle": "2020-11-17T04:11:22.686373Z",
     "shell.execute_reply": "2020-11-17T04:11:22.685640Z"
    },
    "papermill": {
     "duration": 0.07102,
     "end_time": "2020-11-17T04:11:22.686497",
     "exception": false,
     "start_time": "2020-11-17T04:11:22.615477",
     "status": "completed"
    },
    "tags": []
   },
   "outputs": [
    {
     "data": {
      "text/plain": [
       "umur_mobil          0.631105\n",
       "Kapasitas mesin     0.385482\n",
       "Transmisi           0.316246\n",
       "Tipe Penjual        0.273805\n",
       "Tipe bahan bakar    0.268020\n",
       "Fitur tambahan      0.203172\n",
       "Jarak tempuh        0.159381\n",
       "Warna               0.090323\n",
       "Merek               0.031032\n",
       "Model               0.028706\n",
       "Varian              0.013343\n",
       "Sistem Penggerak    0.009314\n",
       "Tipe bodi           0.002670\n",
       "Name: price_upd, dtype: float64"
      ]
     },
     "execution_count": 19,
     "metadata": {},
     "output_type": "execute_result"
    }
   ],
   "source": [
    "corr.loc[:,'price_upd'].abs().sort_values(ascending=False)[1:]"
   ]
  },
  {
   "cell_type": "code",
   "execution_count": 20,
   "metadata": {
    "execution": {
     "iopub.execute_input": "2020-11-17T04:11:22.805703Z",
     "iopub.status.busy": "2020-11-17T04:11:22.804884Z",
     "iopub.status.idle": "2020-11-17T04:11:22.822213Z",
     "shell.execute_reply": "2020-11-17T04:11:22.821574Z"
    },
    "papermill": {
     "duration": 0.080875,
     "end_time": "2020-11-17T04:11:22.822358",
     "exception": false,
     "start_time": "2020-11-17T04:11:22.741483",
     "status": "completed"
    },
    "tags": []
   },
   "outputs": [],
   "source": [
    "from sklearn.preprocessing import StandardScaler\n",
    "\n",
    "std = StandardScaler()\n",
    "data_std = std.fit_transform(df_encoded)\n",
    "df_encoded = pd.DataFrame(data_std, columns = df_encoded.columns)"
   ]
  },
  {
   "cell_type": "code",
   "execution_count": 21,
   "metadata": {
    "execution": {
     "iopub.execute_input": "2020-11-17T04:11:22.938922Z",
     "iopub.status.busy": "2020-11-17T04:11:22.938100Z",
     "iopub.status.idle": "2020-11-17T04:11:22.942041Z",
     "shell.execute_reply": "2020-11-17T04:11:22.941292Z"
    },
    "papermill": {
     "duration": 0.064132,
     "end_time": "2020-11-17T04:11:22.942172",
     "exception": false,
     "start_time": "2020-11-17T04:11:22.878040",
     "status": "completed"
    },
    "tags": []
   },
   "outputs": [],
   "source": [
    "df_final = df_encoded.copy()"
   ]
  },
  {
   "cell_type": "markdown",
   "metadata": {
    "papermill": {
     "duration": 0.05682,
     "end_time": "2020-11-17T04:11:23.054094",
     "exception": false,
     "start_time": "2020-11-17T04:11:22.997274",
     "status": "completed"
    },
    "tags": []
   },
   "source": [
    "## Modelling"
   ]
  },
  {
   "cell_type": "code",
   "execution_count": 22,
   "metadata": {
    "execution": {
     "iopub.execute_input": "2020-11-17T04:11:23.175172Z",
     "iopub.status.busy": "2020-11-17T04:11:23.174380Z",
     "iopub.status.idle": "2020-11-17T04:11:23.177718Z",
     "shell.execute_reply": "2020-11-17T04:11:23.176941Z"
    },
    "papermill": {
     "duration": 0.067992,
     "end_time": "2020-11-17T04:11:23.177854",
     "exception": false,
     "start_time": "2020-11-17T04:11:23.109862",
     "status": "completed"
    },
    "tags": []
   },
   "outputs": [],
   "source": [
    "y = df_final['price_upd']\n",
    "X = df_final.drop(['price_upd'], axis='columns', inplace=False)"
   ]
  },
  {
   "cell_type": "code",
   "execution_count": 23,
   "metadata": {
    "execution": {
     "iopub.execute_input": "2020-11-17T04:11:23.299680Z",
     "iopub.status.busy": "2020-11-17T04:11:23.298874Z",
     "iopub.status.idle": "2020-11-17T04:11:23.463886Z",
     "shell.execute_reply": "2020-11-17T04:11:23.463028Z"
    },
    "papermill": {
     "duration": 0.230923,
     "end_time": "2020-11-17T04:11:23.464062",
     "exception": false,
     "start_time": "2020-11-17T04:11:23.233139",
     "status": "completed"
    },
    "tags": []
   },
   "outputs": [
    {
     "name": "stdout",
     "output_type": "stream",
     "text": [
      "(15360, 13) (4333, 13) (15360,) (4333,)\n"
     ]
    }
   ],
   "source": [
    "from sklearn.linear_model import Ridge, RidgeCV, ElasticNet, Lasso, LassoCV, LassoLarsCV\n",
    "from sklearn.model_selection import cross_val_score, train_test_split\n",
    "\n",
    "def cv_rmse(model, x, y):\n",
    "    r = np.sqrt(-cross_val_score(model, x, y, scoring=\"neg_mean_squared_error\", cv = 5))\n",
    "    return r\n",
    "\n",
    "# Percent of the X array to use as training set. This implies that the rest will be test set\n",
    "test_size = 0.22\n",
    "\n",
    "#Split into train and validation\n",
    "X_train, X_val, y_train, y_val = train_test_split(X, y, test_size=test_size, random_state=1)\n",
    "print(X_train.shape, X_val.shape, y_train.shape, y_val.shape)\n",
    "\n",
    "r = range(2003, 2017)\n",
    "km_year = 10000"
   ]
  },
  {
   "cell_type": "code",
   "execution_count": 24,
   "metadata": {
    "execution": {
     "iopub.execute_input": "2020-11-17T04:11:23.583700Z",
     "iopub.status.busy": "2020-11-17T04:11:23.582900Z",
     "iopub.status.idle": "2020-11-17T04:11:23.720036Z",
     "shell.execute_reply": "2020-11-17T04:11:23.719356Z"
    },
    "papermill": {
     "duration": 0.198458,
     "end_time": "2020-11-17T04:11:23.720166",
     "exception": false,
     "start_time": "2020-11-17T04:11:23.521708",
     "status": "completed"
    },
    "tags": []
   },
   "outputs": [],
   "source": [
    "from sklearn.ensemble import RandomForestRegressor\n",
    "from sklearn.model_selection import GridSearchCV\n"
   ]
  },
  {
   "cell_type": "markdown",
   "metadata": {
    "papermill": {
     "duration": 0.056108,
     "end_time": "2020-11-17T04:11:23.832126",
     "exception": false,
     "start_time": "2020-11-17T04:11:23.776018",
     "status": "completed"
    },
    "tags": []
   },
   "source": [
    "## Inference"
   ]
  },
  {
   "cell_type": "code",
   "execution_count": 25,
   "metadata": {
    "execution": {
     "iopub.execute_input": "2020-11-17T04:11:23.960088Z",
     "iopub.status.busy": "2020-11-17T04:11:23.959234Z",
     "iopub.status.idle": "2020-11-17T04:11:47.484519Z",
     "shell.execute_reply": "2020-11-17T04:11:47.485269Z"
    },
    "papermill": {
     "duration": 23.597681,
     "end_time": "2020-11-17T04:11:47.485465",
     "exception": false,
     "start_time": "2020-11-17T04:11:23.887784",
     "status": "completed"
    },
    "tags": []
   },
   "outputs": [
    {
     "name": "stdout",
     "output_type": "stream",
     "text": [
      "r2 Score of LinearRegression Model:  0.6674545966777521\n",
      "Root mean squared error :  0.5709169869019186\n",
      "r2 Score of SVR:  0.7991905876193861\n",
      "Root mean squared error :  0.4436490165845092\n",
      "r2 Score of GradientBoostingRegressor:  0.8227022462541018\n",
      "Root mean squared error :  0.4168685265174814\n",
      "r2 Score of XGBRegressor:  0.8965183845300023\n",
      "Root mean squared error :  0.3184777457067633\n"
     ]
    }
   ],
   "source": [
    "from sklearn.linear_model import LinearRegression\n",
    "from catboost import CatBoostRegressor\n",
    "from sklearn.svm import SVR\n",
    "from sklearn.naive_bayes import GaussianNB\n",
    "from sklearn.ensemble import GradientBoostingRegressor\n",
    "from xgboost import XGBRegressor\n",
    "from sklearn.model_selection import GridSearchCV\n",
    "from sklearn.pipeline import make_pipeline\n",
    "from sklearn.metrics import mean_squared_error, mean_squared_log_error, r2_score\n",
    "from sklearn.metrics import mean_squared_error\n",
    "from math import sqrt\n",
    "\n",
    "LiR=LinearRegression()\n",
    "LiR.fit(X_train,y_train)\n",
    "pred1=LiR.predict(X_val)\n",
    "print('r2 Score of LinearRegression Model: ', r2_score(y_val,pred1))\n",
    "print(\"Root mean squared error : \", sqrt(mean_squared_error(y_val,pred1)))\n",
    "\n",
    "svr=SVR()\n",
    "svr.fit(X_train,y_train)\n",
    "pred3=svr.predict(X_val)\n",
    "print('r2 Score of SVR: ', r2_score(y_val,pred3))\n",
    "print(\"Root mean squared error : \", sqrt(mean_squared_error(y_val,pred3)))\n",
    "\n",
    "gbr=GradientBoostingRegressor()\n",
    "gbr.fit(X_train,y_train)\n",
    "pred7=gbr.predict(X_val)\n",
    "print('r2 Score of GradientBoostingRegressor: ', r2_score(y_val,pred7))\n",
    "print(\"Root mean squared error : \", sqrt(mean_squared_error(y_val,pred7)))\n",
    "\n",
    "xgb=XGBRegressor()\n",
    "xgb.fit(X_train,y_train)\n",
    "pred8=xgb.predict(X_val)\n",
    "print('r2 Score of XGBRegressor: ', r2_score(y_val,pred8))\n",
    "print(\"Root mean squared error : \", sqrt(mean_squared_error(y_val,pred8)))"
   ]
  },
  {
   "cell_type": "code",
   "execution_count": 26,
   "metadata": {
    "execution": {
     "iopub.execute_input": "2020-11-17T04:11:47.643253Z",
     "iopub.status.busy": "2020-11-17T04:11:47.642372Z",
     "iopub.status.idle": "2020-11-17T04:14:16.853954Z",
     "shell.execute_reply": "2020-11-17T04:14:16.853225Z"
    },
    "papermill": {
     "duration": 149.299816,
     "end_time": "2020-11-17T04:14:16.854099",
     "exception": false,
     "start_time": "2020-11-17T04:11:47.554283",
     "status": "completed"
    },
    "tags": []
   },
   "outputs": [
    {
     "name": "stderr",
     "output_type": "stream",
     "text": [
      "/opt/conda/lib/python3.7/site-packages/joblib/externals/loky/process_executor.py:706: UserWarning: A worker stopped while some jobs were given to the executor. This can be caused by a too short worker timeout or by a memory leak.\n",
      "  \"timeout or by a memory leak.\", UserWarning\n"
     ]
    }
   ],
   "source": [
    "cb = CatBoostRegressor()\n",
    "\n",
    "param_grid = { \"learning_rate\" : [0.01, 0.05, 0.1]\n",
    "              , \"depth\" : [6, 8, 10]\n",
    "              , \"iterations\" : [200, 400, 600]\n",
    "              , \"loss_function\": [\"RMSE\"]}\n",
    "\n",
    "gs_cb = GridSearchCV(estimator=cb, param_grid=param_grid, cv=2, n_jobs=-1, verbose=False)\n",
    "gs_cb = gs_cb.fit(X_train, y_train, verbose=False)"
   ]
  },
  {
   "cell_type": "code",
   "execution_count": 27,
   "metadata": {
    "execution": {
     "iopub.execute_input": "2020-11-17T04:14:16.982560Z",
     "iopub.status.busy": "2020-11-17T04:14:16.981433Z",
     "iopub.status.idle": "2020-11-17T04:14:16.985333Z",
     "shell.execute_reply": "2020-11-17T04:14:16.986227Z"
    },
    "papermill": {
     "duration": 0.07313,
     "end_time": "2020-11-17T04:14:16.986440",
     "exception": false,
     "start_time": "2020-11-17T04:14:16.913310",
     "status": "completed"
    },
    "tags": []
   },
   "outputs": [
    {
     "name": "stdout",
     "output_type": "stream",
     "text": [
      "0.8888711853800769\n",
      "{'depth': 8, 'iterations': 600, 'learning_rate': 0.1, 'loss_function': 'RMSE'}\n"
     ]
    }
   ],
   "source": [
    "print(gs_cb.best_score_)\n",
    "print(gs_cb.best_params_)"
   ]
  },
  {
   "cell_type": "code",
   "execution_count": 28,
   "metadata": {
    "execution": {
     "iopub.execute_input": "2020-11-17T04:14:17.153269Z",
     "iopub.status.busy": "2020-11-17T04:14:17.152140Z",
     "iopub.status.idle": "2020-11-17T04:14:20.956694Z",
     "shell.execute_reply": "2020-11-17T04:14:20.955904Z"
    },
    "papermill": {
     "duration": 3.881364,
     "end_time": "2020-11-17T04:14:20.956827",
     "exception": false,
     "start_time": "2020-11-17T04:14:17.075463",
     "status": "completed"
    },
    "tags": []
   },
   "outputs": [
    {
     "name": "stdout",
     "output_type": "stream",
     "text": [
      "Score: 0.91\n",
      "Root mean squared error :  0.30305856967706085\n"
     ]
    }
   ],
   "source": [
    "bp_cb = gs_cb.best_params_\n",
    "cb = CatBoostRegressor(learning_rate=bp_cb['learning_rate'],\n",
    "                              depth=bp_cb['depth'],\n",
    "                              iterations=bp_cb['iterations'],\n",
    "                              loss_function=bp_cb['loss_function'],\n",
    "                              logging_level=\"Silent\")\n",
    "cb.fit(X_train, y_train)\n",
    "# Explained variance score: 1 is perfect prediction\n",
    "\n",
    "print('Score: %.2f' % cb.score(X_val, y_val))\n",
    "y_pred = cb.predict(X_val)\n",
    "print(\"Root mean squared error : \", sqrt(mean_squared_error(y_val,y_pred)))"
   ]
  },
  {
   "cell_type": "code",
   "execution_count": 29,
   "metadata": {
    "execution": {
     "iopub.execute_input": "2020-11-17T04:14:21.091355Z",
     "iopub.status.busy": "2020-11-17T04:14:21.090248Z",
     "iopub.status.idle": "2020-11-17T04:17:50.440218Z",
     "shell.execute_reply": "2020-11-17T04:17:50.439321Z"
    },
    "papermill": {
     "duration": 209.423651,
     "end_time": "2020-11-17T04:17:50.440406",
     "exception": false,
     "start_time": "2020-11-17T04:14:21.016755",
     "status": "completed"
    },
    "tags": []
   },
   "outputs": [
    {
     "name": "stdout",
     "output_type": "stream",
     "text": [
      "Fitting 2 folds for each of 36 candidates, totalling 72 fits\n"
     ]
    },
    {
     "name": "stderr",
     "output_type": "stream",
     "text": [
      "[Parallel(n_jobs=-1)]: Using backend LokyBackend with 4 concurrent workers.\n",
      "[Parallel(n_jobs=-1)]: Done  42 tasks      | elapsed:  1.7min\n",
      "[Parallel(n_jobs=-1)]: Done  72 out of  72 | elapsed:  3.0min finished\n"
     ]
    }
   ],
   "source": [
    "rf = RandomForestRegressor()\n",
    "\n",
    "param_grid = { \"criterion\" : [\"mse\"]\n",
    "              , \"min_samples_leaf\" : [3, 5]\n",
    "              , \"min_samples_split\" : [3, 5]\n",
    "              , \"max_depth\": [10, 20, 30]\n",
    "              , \"n_estimators\": [500, 200, 100]}\n",
    "\n",
    "gs = GridSearchCV(estimator=rf, param_grid=param_grid, cv=2, n_jobs=-1, verbose=1)\n",
    "gs = gs.fit(X_train, y_train)"
   ]
  },
  {
   "cell_type": "code",
   "execution_count": 30,
   "metadata": {
    "execution": {
     "iopub.execute_input": "2020-11-17T04:17:50.569586Z",
     "iopub.status.busy": "2020-11-17T04:17:50.568529Z",
     "iopub.status.idle": "2020-11-17T04:17:50.572333Z",
     "shell.execute_reply": "2020-11-17T04:17:50.573135Z"
    },
    "papermill": {
     "duration": 0.071589,
     "end_time": "2020-11-17T04:17:50.573349",
     "exception": false,
     "start_time": "2020-11-17T04:17:50.501760",
     "status": "completed"
    },
    "tags": []
   },
   "outputs": [
    {
     "name": "stdout",
     "output_type": "stream",
     "text": [
      "0.8499078324276358\n",
      "{'criterion': 'mse', 'max_depth': 20, 'min_samples_leaf': 3, 'min_samples_split': 5, 'n_estimators': 500}\n"
     ]
    }
   ],
   "source": [
    "print(gs.best_score_)\n",
    "print(gs.best_params_)"
   ]
  },
  {
   "cell_type": "code",
   "execution_count": 31,
   "metadata": {
    "execution": {
     "iopub.execute_input": "2020-11-17T04:17:50.709058Z",
     "iopub.status.busy": "2020-11-17T04:17:50.706274Z",
     "iopub.status.idle": "2020-11-17T04:18:19.695274Z",
     "shell.execute_reply": "2020-11-17T04:18:19.694301Z"
    },
    "papermill": {
     "duration": 29.059524,
     "end_time": "2020-11-17T04:18:19.695428",
     "exception": false,
     "start_time": "2020-11-17T04:17:50.635904",
     "status": "completed"
    },
    "tags": []
   },
   "outputs": [
    {
     "name": "stdout",
     "output_type": "stream",
     "text": [
      "Score: 0.87\n",
      "Root mean squared error :  0.3518737187476514\n"
     ]
    }
   ],
   "source": [
    "bp = gs.best_params_\n",
    "forest = RandomForestRegressor(criterion=bp['criterion'],\n",
    "                              min_samples_leaf=bp['min_samples_leaf'],\n",
    "                              min_samples_split=bp['min_samples_split'],\n",
    "                              max_depth=bp['max_depth'],\n",
    "                              n_estimators=bp['n_estimators'])\n",
    "forest.fit(X_train, y_train)\n",
    "# Explained variance score: 1 is perfect prediction\n",
    "print('Score: %.2f' % forest.score(X_val, y_val))\n",
    "f_pred = forest.predict(X_val)\n",
    "print(\"Root mean squared error : \", sqrt(mean_squared_error(y_val,f_pred)))"
   ]
  },
  {
   "cell_type": "markdown",
   "metadata": {
    "papermill": {
     "duration": 0.064575,
     "end_time": "2020-11-17T04:18:19.824447",
     "exception": false,
     "start_time": "2020-11-17T04:18:19.759872",
     "status": "completed"
    },
    "tags": []
   },
   "source": [
    "## Feature Importance Rank"
   ]
  },
  {
   "cell_type": "code",
   "execution_count": 32,
   "metadata": {
    "execution": {
     "iopub.execute_input": "2020-11-17T04:18:19.973319Z",
     "iopub.status.busy": "2020-11-17T04:18:19.972432Z",
     "iopub.status.idle": "2020-11-17T04:18:20.336476Z",
     "shell.execute_reply": "2020-11-17T04:18:20.335882Z"
    },
    "papermill": {
     "duration": 0.443286,
     "end_time": "2020-11-17T04:18:20.336632",
     "exception": false,
     "start_time": "2020-11-17T04:18:19.893346",
     "status": "completed"
    },
    "tags": []
   },
   "outputs": [
    {
     "name": "stdout",
     "output_type": "stream",
     "text": [
      "Feature ranking:\n",
      "1. feature 12 - umur_mobil (0.480472)\n",
      "2. feature 0 - Kapasitas mesin (0.260214)\n",
      "3. feature 6 - Model (0.057685)\n",
      "4. feature 4 - Merek (0.045976)\n",
      "5. feature 3 - Varian (0.041374)\n",
      "6. feature 5 - Transmisi (0.036651)\n",
      "7. feature 10 - Jarak tempuh (0.021749)\n",
      "8. feature 2 - Tipe bodi (0.019618)\n",
      "9. feature 7 - Fitur tambahan (0.017713)\n",
      "10. feature 11 - Sistem Penggerak (0.007463)\n",
      "11. feature 1 - Warna (0.005658)\n",
      "12. feature 8 - Tipe bahan bakar (0.004002)\n",
      "13. feature 9 - Tipe Penjual (0.001424)\n"
     ]
    },
    {
     "data": {
      "image/png": "[encoded data removed]",
      "text/plain": [
       "<Figure size 432x288 with 1 Axes>"
      ]
     },
     "metadata": {
      "needs_background": "light"
     },
     "output_type": "display_data"
    }
   ],
   "source": [
    "importances = forest.feature_importances_\n",
    "std = np.std([tree.feature_importances_ for tree in forest.estimators_],\n",
    "             axis=0)\n",
    "indices = np.argsort(importances)[::-1]\n",
    "# Print the feature ranking\n",
    "print(\"Feature ranking:\")\n",
    "\n",
    "columns = X_train.columns.values\n",
    "\n",
    "for f in range(X.shape[1]):\n",
    "    print(\"%d. feature %d - %s (%f)\" % (f + 1, indices[f], columns[indices[f]], importances[indices[f]]))\n",
    "\n",
    "# Plot the feature importances of the forest\n",
    "plt.figure()\n",
    "plt.title(\"Feature importances\")\n",
    "plt.bar(range(X.shape[1]), importances[indices],\n",
    "       color=\"r\", yerr=std[indices], align=\"center\",tick_label = X_train.columns.values)\n",
    "plt.xticks(range(X.shape[1]), indices)\n",
    "plt.xlim([-1, X.shape[1]])\n",
    "plt.show()"
   ]
  },
  {
   "cell_type": "code",
   "execution_count": null,
   "metadata": {
    "papermill": {
     "duration": 0.062942,
     "end_time": "2020-11-17T04:18:20.463161",
     "exception": false,
     "start_time": "2020-11-17T04:18:20.400219",
     "status": "completed"
    },
    "tags": []
   },
   "outputs": [],
   "source": []
  }
 ],
 "metadata": {
  "kernelspec": {
   "display_name": "Python 3",
   "language": "python",
   "name": "python3"
  },
  "language_info": {
   "codemirror_mode": {
    "name": "ipython",
    "version": 3
   },
   "file_extension": ".py",
   "mimetype": "text/x-python",
   "name": "python",
   "nbconvert_exporter": "python",
   "pygments_lexer": "ipython3",
   "version": "3.7.6"
  },
  "papermill": {
   "duration": 429.55597,
   "end_time": "2020-11-17T04:18:20.636931",
   "environment_variables": {},
   "exception": null,
   "input_path": "__notebook__.ipynb",
   "output_path": "__notebook__.ipynb",
   "parameters": {},
   "start_time": "2020-11-17T04:11:11.080961",
   "version": "2.1.0"
  }
 },
 "nbformat": 4,
 "nbformat_minor": 4
}
