{
 "cells": [
  {
   "cell_type": "markdown",
   "metadata": {},
   "source": [
    "Abel Stanley\n",
    "\n",
    "13517068"
   ]
  },
  {
   "cell_type": "markdown",
   "metadata": {},
   "source": [
    "# Week 13 Handson - Clustering\n",
    "In this hands-on, we will empoy clustering technique to cluster data."
   ]
  },
  {
   "cell_type": "markdown",
   "metadata": {},
   "source": [
    "## Read the Dataset\n",
    "\n",
    "Execute the following code to read the digit mnist dataset. The folder of `digit_mnist` dataset must be in the same directory with this ipynb file.\n",
    "\n",
    "The dataset contains 500 digit handwritten images from 5 different classes/labels (0, 1, 2, 3, 4). The first 100 images have label of 0, the second 100 images have label of 1, and so on, until the fifth 100 images have label of 4."
   ]
  },
  {
   "cell_type": "code",
   "execution_count": 66,
   "metadata": {},
   "outputs": [
    {
     "name": "stdout",
     "output_type": "stream",
     "text": [
      "shape: (500, 784)\n"
     ]
    }
   ],
   "source": [
    "# membaca library yang dibutuhkan\n",
    "import numpy as np #library untuk komputasi matriks\n",
    "import cv2 #library untuk memproses gambar/video\n",
    "import matplotlib.pyplot as plt #library untuk plot data (visualisasi)\n",
    "import os\n",
    "import pandas as pd\n",
    "\n",
    "# fungsi untuk membaca gambar (digit MNIST) ke matriks numpy per folder\n",
    "def baca_image(folder_image):\n",
    "    count = 0;\n",
    "    list_nama_image= os.listdir(folder_image)\n",
    "    list_path_image = [os.path.join(folder_image, i) for i in list_nama_image]\n",
    "    all_image = np.ndarray(shape=(0,28*28))\n",
    "    for i in list_path_image:\n",
    "        image = cv2.imread(i, 0) #baca image menggunakan OpenCV API dalam gray image (0=gray, 1=berwarna).\n",
    "        image_reshaped = image.reshape((1, -1))\n",
    "        all_image = np.concatenate((all_image, image_reshaped), axis=0)\n",
    "        count = count + 1\n",
    "        if count >= 100:\n",
    "            break\n",
    "    return all_image\n",
    "        \n",
    "# menggunakan fungsi yg telah dibuat untuk membaca image MNIST '0' sampai '4' \n",
    "for angka in range(5):\n",
    "    file = \"digit_mnist/\" + str(angka)\n",
    "    digit = baca_image(file)\n",
    "    if angka == 0:\n",
    "        X = digit\n",
    "    else :\n",
    "        X = np.concatenate((X, digit), axis=0)\n",
    "\n",
    "print(\"shape:\", X.shape)"
   ]
  },
  {
   "cell_type": "markdown",
   "metadata": {},
   "source": [
    "## Milestone 01 (M01)\n",
    "In this milestone, you are asked to empoy clustering method to cluster the digit MNIST read above, into 5 clusters. The output of this milestone is clustered data. You may use any clustering method from any library you want."
   ]
  },
  {
   "cell_type": "code",
   "execution_count": 67,
   "metadata": {},
   "outputs": [],
   "source": [
    "#your answer for M01\n",
    "# LIBS:\n",
    "import seaborn as sns\n",
    "from sklearn.metrics import accuracy_score\n",
    "from sklearn.metrics import classification_report"
   ]
  },
  {
   "cell_type": "markdown",
   "metadata": {},
   "source": [
    "Preprocessing:"
   ]
  },
  {
   "cell_type": "code",
   "execution_count": 68,
   "metadata": {},
   "outputs": [
    {
     "name": "stdout",
     "output_type": "stream",
     "text": [
      "(500, 784)\n",
      "(784,)\n",
      "(500,)\n"
     ]
    }
   ],
   "source": [
    "# Preprocessing:\n",
    "# convert each image to 1 dimensional array\n",
    "\n",
    "X_ = X.reshape(len(X),-1)\n",
    "y_ = []\n",
    "for i in range(5):\n",
    "    y_ += [i for _ in range(100)]\n",
    "y_ = np.array(y_)\n",
    "\n",
    "# normalize the data to 0 - 1\n",
    "\n",
    "X = X.astype(float) / 255.\n",
    "\n",
    "print(X.shape)\n",
    "print(X[0].shape)\n",
    "print(y_.shape)"
   ]
  },
  {
   "cell_type": "markdown",
   "metadata": {},
   "source": [
    "Clustering with sklearn's MiniBatchKMeans"
   ]
  },
  {
   "cell_type": "code",
   "execution_count": 69,
   "metadata": {
    "scrolled": true
   },
   "outputs": [
    {
     "name": "stdout",
     "output_type": "stream",
     "text": [
      "5\n"
     ]
    },
    {
     "data": {
      "text/plain": [
       "array([2, 2, 2, 2, 0, 2, 2, 0, 2, 2, 3, 2, 2, 2, 2, 2, 1, 2, 2, 2, 2, 2,\n",
       "       2, 2, 2, 2, 2, 2, 2, 2, 2, 2, 0, 2, 2, 2, 2, 2, 2, 2, 2, 2, 2, 2,\n",
       "       2, 3, 2, 2, 2, 2, 2, 2, 2, 2, 2, 2, 2, 2, 2, 2, 0, 0, 2, 2, 2, 2,\n",
       "       2, 2, 2, 2, 2, 2, 2, 2, 2, 2, 3, 0, 2, 2, 2, 2, 2, 2, 2, 2, 0, 2,\n",
       "       2, 2, 2, 2, 2, 2, 2, 2, 2, 2, 3, 2, 4, 4, 4, 4, 4, 4, 4, 4, 4, 4,\n",
       "       4, 4, 4, 4, 4, 1, 4, 4, 4, 4, 4, 4, 4, 4, 4, 4, 4, 4, 4, 4, 4, 4,\n",
       "       4, 4, 4, 4, 4, 4, 4, 4, 4, 4, 4, 4, 4, 4, 4, 4, 4, 4, 4, 4, 4, 4,\n",
       "       4, 4, 4, 4, 4, 4, 4, 4, 0, 4, 4, 4, 4, 4, 4, 4, 4, 4, 4, 4, 4, 4,\n",
       "       4, 4, 4, 0, 4, 4, 4, 4, 4, 4, 4, 4, 4, 4, 4, 4, 4, 4, 4, 4, 4, 4,\n",
       "       4, 4, 0, 1, 0, 3, 0, 0, 4, 0, 0, 3, 0, 4, 4, 0, 4, 0, 4, 0, 0, 4,\n",
       "       0, 0, 4, 4, 0, 0, 0, 0, 0, 1, 0, 3, 0, 0, 0, 4, 0, 3, 4, 0, 1, 0,\n",
       "       0, 4, 0, 4, 0, 3, 0, 0, 0, 0, 0, 0, 0, 0, 0, 0, 0, 0, 0, 0, 0, 0,\n",
       "       4, 3, 4, 4, 0, 0, 0, 0, 0, 0, 1, 0, 4, 0, 1, 1, 4, 0, 0, 4, 0, 0,\n",
       "       0, 0, 0, 0, 0, 4, 0, 1, 0, 0, 0, 0, 1, 0, 0, 3, 1, 3, 3, 0, 0, 3,\n",
       "       3, 3, 3, 3, 1, 3, 4, 3, 3, 4, 3, 4, 3, 3, 3, 3, 0, 3, 3, 4, 0, 3,\n",
       "       3, 0, 3, 3, 3, 3, 3, 3, 3, 3, 3, 0, 3, 3, 0, 3, 1, 3, 3, 3, 3, 3,\n",
       "       3, 3, 3, 3, 3, 3, 4, 3, 3, 3, 3, 3, 3, 3, 3, 3, 3, 3, 0, 4, 0, 3,\n",
       "       4, 3, 3, 0, 3, 3, 0, 3, 4, 0, 3, 3, 3, 3, 3, 3, 3, 3, 3, 3, 4, 3,\n",
       "       3, 3, 3, 3, 1, 1, 1, 1, 1, 1, 1, 1, 1, 1, 1, 1, 1, 1, 1, 1, 1, 4,\n",
       "       1, 1, 1, 1, 1, 1, 1, 1, 1, 1, 1, 1, 1, 1, 1, 4, 1, 1, 1, 1, 1, 1,\n",
       "       1, 1, 1, 1, 1, 1, 1, 1, 1, 1, 1, 1, 1, 1, 1, 1, 1, 1, 1, 1, 1, 1,\n",
       "       1, 1, 1, 1, 1, 1, 1, 4, 1, 1, 1, 1, 1, 1, 1, 1, 1, 1, 1, 1, 1, 1,\n",
       "       1, 1, 1, 1, 1, 1, 1, 4, 1, 4, 1, 1, 1, 1, 1, 1])"
      ]
     },
     "metadata": {},
     "output_type": "display_data"
    }
   ],
   "source": [
    "from sklearn.cluster import MiniBatchKMeans\n",
    "\n",
    "n_digits = len(np.unique(y_))\n",
    "print(n_digits)\n",
    "\n",
    "# Initialize KMeans model\n",
    "\n",
    "kmeans = MiniBatchKMeans(n_clusters = n_digits)\n",
    "\n",
    "# Fit the model to the training data\n",
    "\n",
    "kmeans.fit(X_)\n",
    "display(kmeans.labels_)"
   ]
  },
  {
   "cell_type": "code",
   "execution_count": 70,
   "metadata": {},
   "outputs": [],
   "source": [
    "# import matplotlib\n",
    "# fig = plt.figure(figsize=(8,8))\n",
    "# colors = ['orange','blue','purple','green', 'red']\n",
    "# colored = [colors[k] for k in kmeans.labels_]\n",
    "# print (colored[0:10])\n",
    "# plt.scatter(X_[4],X_[1],  color = colored)\n",
    "# for ci,c in enumerate(kmeans.cluster_centers_):\n",
    "#     plt.plot(c[0], c[1], 'o', markersize=8, color='red', alpha=0.9, label=''+str(ci))\n",
    "\n",
    "# plt.xlabel('x_values')\n",
    "# plt.ylabel('y_values')\n",
    "# plt.legend()\n",
    "# plt.show()"
   ]
  },
  {
   "cell_type": "markdown",
   "metadata": {},
   "source": [
    "## M02\n",
    "Evaluate the clustering results in M01, as follows.\n",
    "1. For each cluster, take the dominant class. E.g., in cluster 1, 96% data are digit 3 images, thus, all images in the cluster 1 have class prediction of 3 (digit 3). Likewise for other clusters.\n",
    "2. With that prediction ouput, evaluate the clustering result using metrics of: (i) accuracy, (ii) precision: $TP/pred. yes$ and recall$: TP/actual yes$ for each class.\n",
    "3. Print the metrics you get in (2)."
   ]
  },
  {
   "cell_type": "code",
   "execution_count": 71,
   "metadata": {},
   "outputs": [
    {
     "name": "stdout",
     "output_type": "stream",
     "text": [
      "[[7, 2, 67, 13, 0], [1, 1, 8, 3, 95], [88, 0, 0, 0, 0], [4, 0, 6, 75, 0], [0, 97, 19, 9, 5]]\n",
      "[2, 4, 0, 3, 1]\n"
     ]
    },
    {
     "data": {
      "text/plain": [
       "2"
      ]
     },
     "execution_count": 71,
     "metadata": {},
     "output_type": "execute_result"
    }
   ],
   "source": [
    "#your answer for M02\n",
    "import math\n",
    "n_sets = 100\n",
    "\n",
    "pred_cluster = [[0 for j in range(n_digits)] for i in range(n_digits)]\n",
    "for idx,label in enumerate(kmeans.labels_):\n",
    "    pred_cluster[label][math.floor(idx/n_sets)] += 1\n",
    "\n",
    "print(pred_cluster)\n",
    "for idx,cluster in enumerate(pred_cluster):\n",
    "    pred_cluster[idx] = pred_cluster[idx].index(max(pred_cluster[idx]))\n",
    "    \n",
    "print(pred_cluster) # contains \n",
    "    \n",
    "math.ceil(101/100)"
   ]
  },
  {
   "cell_type": "markdown",
   "metadata": {},
   "source": [
    "I've implemented my own accuracy, recall, and precision calculation. I will be comparing the result to sklearn's classification report to verify it is working as intended."
   ]
  },
  {
   "cell_type": "code",
   "execution_count": 101,
   "metadata": {},
   "outputs": [
    {
     "name": "stdout",
     "output_type": "stream",
     "text": [
      "Shapes:\n",
      "(500,) (500,) (18484,)\n",
      "----------------------------------------------------------\n",
      "Accuracy 0.844\n",
      "sklearn metric accuracy score: 0.844\n",
      "----------------------------------------------------------\n",
      "==================================================\n",
      "evaluation for 0 digit\n",
      "defaultdict(<function calculate_conf_mat.<locals>.<lambda> at 0x0000023C38B010D0>, {'tp': 88, 'fn': 12, 'tn': 400})\n",
      "precision: 1.0\n",
      "recall: 0.88\n",
      "==================================================\n",
      "==================================================\n",
      "evaluation for 1 digit\n",
      "defaultdict(<function calculate_conf_mat.<locals>.<lambda> at 0x0000023C38B01F28>, {'tn': 367, 'tp': 97, 'fn': 3, 'fp': 33})\n",
      "precision: 0.7461538461538462\n",
      "recall: 0.97\n",
      "==================================================\n",
      "==================================================\n",
      "evaluation for 2 digit\n",
      "defaultdict(<function calculate_conf_mat.<locals>.<lambda> at 0x0000023C389EE400>, {'tn': 378, 'fp': 22, 'tp': 67, 'fn': 33})\n",
      "precision: 0.7528089887640449\n",
      "recall: 0.67\n",
      "==================================================\n",
      "==================================================\n",
      "evaluation for 3 digit\n",
      "defaultdict(<function calculate_conf_mat.<locals>.<lambda> at 0x0000023C38AD31E0>, {'tn': 390, 'fp': 10, 'fn': 25, 'tp': 75})\n",
      "precision: 0.8823529411764706\n",
      "recall: 0.75\n",
      "==================================================\n",
      "==================================================\n",
      "evaluation for 4 digit\n",
      "defaultdict(<function calculate_conf_mat.<locals>.<lambda> at 0x0000023C38B01D90>, {'tn': 387, 'fp': 13, 'tp': 95, 'fn': 5})\n",
      "precision: 0.8796296296296297\n",
      "recall: 0.95\n",
      "==================================================\n"
     ]
    }
   ],
   "source": [
    "def make_predictions(pred_cluster,labels):\n",
    "    pred = []\n",
    "    for i in range(len(labels)):\n",
    "        pred.append(pred_cluster[labels[i]])\n",
    "    return pred\n",
    "\n",
    "def accuracy(pred, truth):\n",
    "    count = 0\n",
    "    for i in range(len(pred)):\n",
    "        if(pred[i] == truth[i]):\n",
    "            count += 1\n",
    "    return count/len(pred)\n",
    "\n",
    "from collections import defaultdict\n",
    "def calculate_conf_mat(pred, truth, target):\n",
    "    conf_mat = defaultdict(lambda:0,{})\n",
    "    for i in range(len(pred)):\n",
    "        if(pred[i] == target and truth[i] == target):\n",
    "            conf_mat['tp'] += 1\n",
    "        elif (pred[i] == target and truth[i] != target):\n",
    "            conf_mat['fp'] += 1\n",
    "        elif(pred[i] != target and truth[i] != target):\n",
    "            conf_mat['tn'] += 1\n",
    "        elif(pred[i] != target and truth[i] == target):\n",
    "            conf_mat['fn'] += 1\n",
    "    return conf_mat\n",
    "    \n",
    "def precision(conf_mat):\n",
    "    return conf_mat['tp'] / (conf_mat['tp'] + conf_mat['fp'])\n",
    "\n",
    "def recall(conf_mat):\n",
    "    return conf_mat['tp'] / (conf_mat['tp'] + conf_mat['fn']) #focus on actual positives\n",
    "\n",
    "print('Shapes:')\n",
    "final_preds = make_predictions(pred_cluster, kmeans.labels_)\n",
    "print(np.array(final_preds).shape, y_.shape, kmeans.labels_.shape)\n",
    "print('----------------------------------------------------------')\n",
    "print('Accuracy',accuracy(final_preds, y_))\n",
    "score = accuracy_score(y_,final_preds)\n",
    "print('sklearn metric accuracy score:', score)\n",
    "print('----------------------------------------------------------')\n",
    "\n",
    "for i in range(n_digits):\n",
    "    conf_mat = calculate_conf_mat(final_preds, y_, i)\n",
    "    print('==================================================')\n",
    "    print('evaluation for', i, 'digit')\n",
    "    print(conf_mat)\n",
    "    print('precision:', precision(conf_mat))\n",
    "    print('recall:', recall(conf_mat))\n",
    "    print('==================================================')"
   ]
  },
  {
   "cell_type": "markdown",
   "metadata": {},
   "source": [
    "with sklearn's classification report"
   ]
  },
  {
   "cell_type": "code",
   "execution_count": 93,
   "metadata": {},
   "outputs": [],
   "source": [
    "from sklearn.metrics import confusion_matrix\n",
    "conf_mat = confusion_matrix(y_, final_preds)"
   ]
  },
  {
   "cell_type": "code",
   "execution_count": 97,
   "metadata": {},
   "outputs": [
    {
     "name": "stdout",
     "output_type": "stream",
     "text": [
      "[88 97 67 75 95] [400 367 378 390 387] [ 0 33 22 10 13] [12  3 33 25  5]\n",
      "[0.88 0.97 0.67 0.75 0.95]\n"
     ]
    }
   ],
   "source": [
    "FP = conf_mat.sum(axis=0) - np.diag(conf_mat)  \n",
    "FN = conf_mat.sum(axis=1) - np.diag(conf_mat)\n",
    "TP = np.diag(conf_mat)\n",
    "TN = conf_mat.sum() - (FP + FN + TP)\n",
    "\n",
    "# Sensitivity, hit rate, recall, or true positive rate\n",
    "TPR = TP/(TP+FN)\n",
    "# Specificity or true negative rate\n",
    "TNR = TN/(TN+FP) \n",
    "# Precision or positive predictive value\n",
    "PPV = TP/(TP+FP)\n",
    "# Negative predictive value\n",
    "NPV = TN/(TN+FN)\n",
    "# Fall out or false positive rate\n",
    "FPR = FP/(FP+TN)\n",
    "# False negative rate\n",
    "FNR = FN/(TP+FN)\n",
    "# False discovery rate\n",
    "FDR = FP/(TP+FP)\n",
    "\n",
    "# Overall accuracy\n",
    "ACC = (TP+TN)/(TP+FP+FN+TN)\n",
    "\n",
    "print(TP,TN, FP, FN)\n",
    "print(TPR)"
   ]
  },
  {
   "cell_type": "code",
   "execution_count": 98,
   "metadata": {},
   "outputs": [
    {
     "name": "stdout",
     "output_type": "stream",
     "text": [
      "              precision    recall  f1-score   support\n",
      "\n",
      "           0       1.00      0.88      0.94       100\n",
      "           1       0.75      0.97      0.84       100\n",
      "           2       0.75      0.67      0.71       100\n",
      "           3       0.88      0.75      0.81       100\n",
      "           4       0.88      0.95      0.91       100\n",
      "\n",
      "    accuracy                           0.84       500\n",
      "   macro avg       0.85      0.84      0.84       500\n",
      "weighted avg       0.85      0.84      0.84       500\n",
      "\n"
     ]
    }
   ],
   "source": [
    "print(classification_report(y_, final_preds))"
   ]
  },
  {
   "cell_type": "markdown",
   "metadata": {},
   "source": [
    "## M03"
   ]
  },
  {
   "cell_type": "markdown",
   "metadata": {},
   "source": [
    "Suppose you are working for goverment that they want to lauch development program to society. The program is expected to empower the society to improve their welfare. Given sample dataset of `people.csv` (provided in the zip), you are asked to segment the data. The data attibutes are: name, age, marital status, income range, gender, total children, children at home, education, occupation, home owner, cars. You may define your own variables, such as the number of segments, attributes that are used, etc. Please provide your arguments of choosing those variables, and show (or visualize) the segments you create, including at least brief explanation."
   ]
  },
  {
   "cell_type": "code",
   "execution_count": 74,
   "metadata": {},
   "outputs": [],
   "source": [
    "#your answer for M03\n",
    "df = pd.read_csv('people.csv', engine='python')"
   ]
  },
  {
   "cell_type": "markdown",
   "metadata": {},
   "source": [
    "### EDA"
   ]
  },
  {
   "cell_type": "code",
   "execution_count": 75,
   "metadata": {},
   "outputs": [
    {
     "data": {
      "text/html": [
       "<div>\n",
       "<style scoped>\n",
       "    .dataframe tbody tr th:only-of-type {\n",
       "        vertical-align: middle;\n",
       "    }\n",
       "\n",
       "    .dataframe tbody tr th {\n",
       "        vertical-align: top;\n",
       "    }\n",
       "\n",
       "    .dataframe thead th {\n",
       "        text-align: right;\n",
       "    }\n",
       "</style>\n",
       "<table border=\"1\" class=\"dataframe\">\n",
       "  <thead>\n",
       "    <tr style=\"text-align: right;\">\n",
       "      <th></th>\n",
       "      <th>Name</th>\n",
       "      <th>Age</th>\n",
       "      <th>MaritalStatus</th>\n",
       "      <th>IncomeRange</th>\n",
       "      <th>Gender</th>\n",
       "      <th>TotalChildren</th>\n",
       "      <th>ChildrenAtHome</th>\n",
       "      <th>Education</th>\n",
       "      <th>Occupation</th>\n",
       "      <th>HomeOwner</th>\n",
       "      <th>Cars</th>\n",
       "    </tr>\n",
       "  </thead>\n",
       "  <tbody>\n",
       "    <tr>\n",
       "      <th>0</th>\n",
       "      <td>Aaron Adams</td>\n",
       "      <td>42</td>\n",
       "      <td>0</td>\n",
       "      <td>50000</td>\n",
       "      <td>0</td>\n",
       "      <td>0</td>\n",
       "      <td>0</td>\n",
       "      <td>3</td>\n",
       "      <td>2</td>\n",
       "      <td>1</td>\n",
       "      <td>1</td>\n",
       "    </tr>\n",
       "    <tr>\n",
       "      <th>1</th>\n",
       "      <td>Aaron Alexander</td>\n",
       "      <td>40</td>\n",
       "      <td>1</td>\n",
       "      <td>50000</td>\n",
       "      <td>0</td>\n",
       "      <td>0</td>\n",
       "      <td>0</td>\n",
       "      <td>2</td>\n",
       "      <td>2</td>\n",
       "      <td>1</td>\n",
       "      <td>2</td>\n",
       "    </tr>\n",
       "    <tr>\n",
       "      <th>2</th>\n",
       "      <td>Aaron Allen</td>\n",
       "      <td>63</td>\n",
       "      <td>0</td>\n",
       "      <td>25000</td>\n",
       "      <td>0</td>\n",
       "      <td>2</td>\n",
       "      <td>1</td>\n",
       "      <td>2</td>\n",
       "      <td>1</td>\n",
       "      <td>1</td>\n",
       "      <td>2</td>\n",
       "    </tr>\n",
       "    <tr>\n",
       "      <th>3</th>\n",
       "      <td>Aaron Baker</td>\n",
       "      <td>56</td>\n",
       "      <td>1</td>\n",
       "      <td>50000</td>\n",
       "      <td>0</td>\n",
       "      <td>4</td>\n",
       "      <td>2</td>\n",
       "      <td>2</td>\n",
       "      <td>2</td>\n",
       "      <td>1</td>\n",
       "      <td>2</td>\n",
       "    </tr>\n",
       "    <tr>\n",
       "      <th>4</th>\n",
       "      <td>Aaron Bryant</td>\n",
       "      <td>72</td>\n",
       "      <td>0</td>\n",
       "      <td>75000</td>\n",
       "      <td>0</td>\n",
       "      <td>4</td>\n",
       "      <td>0</td>\n",
       "      <td>4</td>\n",
       "      <td>4</td>\n",
       "      <td>1</td>\n",
       "      <td>2</td>\n",
       "    </tr>\n",
       "  </tbody>\n",
       "</table>\n",
       "</div>"
      ],
      "text/plain": [
       "              Name  Age  MaritalStatus  IncomeRange  Gender  TotalChildren  \\\n",
       "0      Aaron Adams   42              0        50000       0              0   \n",
       "1  Aaron Alexander   40              1        50000       0              0   \n",
       "2      Aaron Allen   63              0        25000       0              2   \n",
       "3      Aaron Baker   56              1        50000       0              4   \n",
       "4     Aaron Bryant   72              0        75000       0              4   \n",
       "\n",
       "   ChildrenAtHome  Education  Occupation  HomeOwner  Cars  \n",
       "0               0          3           2          1     1  \n",
       "1               0          2           2          1     2  \n",
       "2               1          2           1          1     2  \n",
       "3               2          2           2          1     2  \n",
       "4               0          4           4          1     2  "
      ]
     },
     "execution_count": 75,
     "metadata": {},
     "output_type": "execute_result"
    }
   ],
   "source": [
    "df.head()"
   ]
  },
  {
   "cell_type": "code",
   "execution_count": 76,
   "metadata": {},
   "outputs": [
    {
     "data": {
      "text/plain": [
       "(18508, 11)"
      ]
     },
     "execution_count": 76,
     "metadata": {},
     "output_type": "execute_result"
    }
   ],
   "source": [
    "df.shape"
   ]
  },
  {
   "cell_type": "markdown",
   "metadata": {},
   "source": [
    "#### Check Age distribution"
   ]
  },
  {
   "cell_type": "code",
   "execution_count": 77,
   "metadata": {},
   "outputs": [
    {
     "data": {
      "image/png": "[encoded data removed]",
      "text/plain": [
       "<Figure size 720x432 with 1 Axes>"
      ]
     },
     "metadata": {},
     "output_type": "display_data"
    }
   ],
   "source": [
    "plt.figure(figsize=(10,6))\n",
    "plt.title(\"Ages Frequency\")\n",
    "sns.axes_style(\"dark\")\n",
    "sns.violinplot(y=df[\"Age\"])\n",
    "plt.show()"
   ]
  },
  {
   "cell_type": "markdown",
   "metadata": {},
   "source": [
    "'people.csv' seems to consist of old people... interesting."
   ]
  },
  {
   "cell_type": "markdown",
   "metadata": {},
   "source": [
    "#### Check age group distribution"
   ]
  },
  {
   "cell_type": "code",
   "execution_count": 78,
   "metadata": {},
   "outputs": [
    {
     "data": {
      "image/png": "[encoded data removed]",
      "text/plain": [
       "<Figure size 1080x432 with 1 Axes>"
      ]
     },
     "metadata": {},
     "output_type": "display_data"
    }
   ],
   "source": [
    "age18_25 = df.Age[(df.Age <= 25) & (df.Age >= 18)]\n",
    "age26_35 = df.Age[(df.Age <= 35) & (df.Age >= 26)]\n",
    "age36_45 = df.Age[(df.Age <= 45) & (df.Age >= 36)]\n",
    "age46_55 = df.Age[(df.Age <= 55) & (df.Age >= 46)]\n",
    "age55above = df.Age[df.Age >= 56]\n",
    "\n",
    "x = [\"18-25\",\"26-35\",\"36-45\",\"46-55\",\"55+\"]\n",
    "y = [len(age18_25.values),len(age26_35.values),len(age36_45.values),len(age46_55.values),len(age55above.values)]\n",
    "\n",
    "plt.figure(figsize=(15,6))\n",
    "sns.barplot(x=x, y=y, palette=\"rocket\")\n",
    "plt.title(\"Number of Customer and Ages\")\n",
    "plt.xlabel(\"Age\")\n",
    "plt.ylabel(\"Number of Customer\")\n",
    "plt.show()"
   ]
  },
  {
   "cell_type": "markdown",
   "metadata": {},
   "source": [
    "Most people in people.csv is 55+ years old or older!"
   ]
  },
  {
   "cell_type": "markdown",
   "metadata": {},
   "source": [
    "#### Explore the distribution of IncomeRange"
   ]
  },
  {
   "cell_type": "code",
   "execution_count": 79,
   "metadata": {
    "scrolled": true
   },
   "outputs": [
    {
     "data": {
      "image/png": "[encoded data removed]",
      "text/plain": [
       "<Figure size 1080x432 with 1 Axes>"
      ]
     },
     "metadata": {},
     "output_type": "display_data"
    }
   ],
   "source": [
    "plt.figure(figsize=(15,6))\n",
    "plt.subplot(1,2,1)\n",
    "sns.boxplot(y=df[\"IncomeRange\"], color=\"red\")\n",
    "plt.show()"
   ]
  },
  {
   "cell_type": "markdown",
   "metadata": {},
   "source": [
    "The standard deviation of Income Range is quite high. The gap between Minimum (Q1 - 1.5*IQR) and Maximum (Q3 + 1.5 * IQR) is quite large (80k).\n",
    "\n",
    "There are also some outliers there with 140k ++ income.\n",
    "\n",
    "Most people then to sit aroung 62.5k income range."
   ]
  },
  {
   "cell_type": "markdown",
   "metadata": {},
   "source": [
    "#### Explore the distribution of Gender"
   ]
  },
  {
   "cell_type": "code",
   "execution_count": 80,
   "metadata": {},
   "outputs": [
    {
     "data": {
      "image/png": "[encoded data removed]",
      "text/plain": [
       "<Figure size 720x288 with 1 Axes>"
      ]
     },
     "metadata": {},
     "output_type": "display_data"
    }
   ],
   "source": [
    "genders = df.Gender.value_counts()\n",
    "sns.set_style(\"darkgrid\")\n",
    "plt.figure(figsize=(10,4))\n",
    "sns.barplot(x=genders.index, y=genders.values)\n",
    "plt.show()"
   ]
  },
  {
   "cell_type": "markdown",
   "metadata": {},
   "source": [
    "Assumption: 0 is Male and 1 is Female. Thus the dataset has slightly more entries on male than females. The difference is minor though. We can assume that the dataset is balanced on this feature."
   ]
  },
  {
   "cell_type": "markdown",
   "metadata": {},
   "source": [
    "#### Explore the distribution of Total Children"
   ]
  },
  {
   "cell_type": "code",
   "execution_count": 81,
   "metadata": {},
   "outputs": [
    {
     "data": {
      "image/png": "[encoded data removed]",
      "text/plain": [
       "<Figure size 720x288 with 1 Axes>"
      ]
     },
     "metadata": {},
     "output_type": "display_data"
    }
   ],
   "source": [
    "totalchildren = df.TotalChildren.value_counts()\n",
    "sns.set_style(\"darkgrid\")\n",
    "plt.figure(figsize=(10,4))\n",
    "sns.barplot(x=totalchildren.index, y=totalchildren.values)\n",
    "plt.show()"
   ]
  },
  {
   "cell_type": "markdown",
   "metadata": {},
   "source": [
    "There are more people with children than the people without. People who decide to have children tend to have only 2 children."
   ]
  },
  {
   "cell_type": "markdown",
   "metadata": {},
   "source": [
    "#### Explore the distribution of Children at Home"
   ]
  },
  {
   "cell_type": "code",
   "execution_count": 82,
   "metadata": {},
   "outputs": [
    {
     "data": {
      "image/png": "[encoded data removed]",
      "text/plain": [
       "<Figure size 720x288 with 1 Axes>"
      ]
     },
     "metadata": {},
     "output_type": "display_data"
    }
   ],
   "source": [
    "childrenAtHome = df.ChildrenAtHome.value_counts()\n",
    "sns.set_style(\"darkgrid\")\n",
    "plt.figure(figsize=(10,4))\n",
    "sns.barplot(x=childrenAtHome.index, y=childrenAtHome.values)\n",
    "plt.show()"
   ]
  },
  {
   "cell_type": "markdown",
   "metadata": {},
   "source": [
    "Turns out that most of the children are not at home anymore. Maybe it's because they have turned adult already since we have established that people.csv mostly consisted of the elderly."
   ]
  },
  {
   "cell_type": "markdown",
   "metadata": {},
   "source": [
    "#### Explore the distribution of Education"
   ]
  },
  {
   "cell_type": "code",
   "execution_count": 83,
   "metadata": {},
   "outputs": [
    {
     "data": {
      "image/png": "[encoded data removed]",
      "text/plain": [
       "<Figure size 720x288 with 1 Axes>"
      ]
     },
     "metadata": {},
     "output_type": "display_data"
    }
   ],
   "source": [
    "education = df.Education.value_counts()\n",
    "sns.set_style(\"darkgrid\")\n",
    "plt.figure(figsize=(10,4))\n",
    "sns.barplot(x=education.index, y=education.values)\n",
    "plt.show()"
   ]
  },
  {
   "cell_type": "markdown",
   "metadata": {},
   "source": [
    "Assuming that this column is ordinal, higher value means higher education level. Based on the distribution above, the people here seems to be well educated (in 3-4 range)."
   ]
  },
  {
   "cell_type": "markdown",
   "metadata": {},
   "source": [
    "#### Explore the distribution of HomeOwner"
   ]
  },
  {
   "cell_type": "code",
   "execution_count": 84,
   "metadata": {},
   "outputs": [
    {
     "data": {
      "image/png": "[encoded data removed]",
      "text/plain": [
       "<Figure size 720x288 with 1 Axes>"
      ]
     },
     "metadata": {},
     "output_type": "display_data"
    }
   ],
   "source": [
    "homeOwner = df.HomeOwner.value_counts()\n",
    "sns.set_style(\"darkgrid\")\n",
    "plt.figure(figsize=(10,4))\n",
    "sns.barplot(x=homeOwner.index, y=homeOwner.values)\n",
    "plt.show()"
   ]
  },
  {
   "cell_type": "markdown",
   "metadata": {},
   "source": [
    "Wealthy people indeed. People who have homes doubled in number compared to people who don't."
   ]
  },
  {
   "cell_type": "markdown",
   "metadata": {},
   "source": [
    "#### Explore the distribution of Cars"
   ]
  },
  {
   "cell_type": "code",
   "execution_count": 85,
   "metadata": {},
   "outputs": [
    {
     "data": {
      "image/png": "[encoded data removed]",
      "text/plain": [
       "<Figure size 720x288 with 1 Axes>"
      ]
     },
     "metadata": {},
     "output_type": "display_data"
    }
   ],
   "source": [
    "cars = df.Cars.value_counts()\n",
    "sns.set_style(\"darkgrid\")\n",
    "plt.figure(figsize=(10,4))\n",
    "sns.barplot(x=cars.index, y=cars.values)\n",
    "plt.show()"
   ]
  },
  {
   "cell_type": "markdown",
   "metadata": {},
   "source": [
    "There are far more people with at least one car than people without one. Very prosperous lives I must say."
   ]
  },
  {
   "cell_type": "markdown",
   "metadata": {},
   "source": [
    "### Preprocessing!"
   ]
  },
  {
   "cell_type": "code",
   "execution_count": 86,
   "metadata": {},
   "outputs": [
    {
     "name": "stdout",
     "output_type": "stream",
     "text": [
      "Duplicate Entries: 24\n",
      "Duplicate Entries After dropping: 0\n"
     ]
    }
   ],
   "source": [
    "print('Duplicate Entries: {}'.format(df.duplicated().sum()))\n",
    "df.drop_duplicates(inplace = True)\n",
    "print('Duplicate Entries After dropping: {}'.format(df.duplicated().sum()))"
   ]
  },
  {
   "cell_type": "code",
   "execution_count": 87,
   "metadata": {},
   "outputs": [
    {
     "name": "stdout",
     "output_type": "stream",
     "text": [
      "Duplicate Entries After dropping: 0\n"
     ]
    }
   ],
   "source": [
    "print('Duplicate Entries After dropping: {}'.format(df.duplicated().sum()))"
   ]
  },
  {
   "cell_type": "markdown",
   "metadata": {},
   "source": [
    "### Segmentation!"
   ]
  },
  {
   "cell_type": "markdown",
   "metadata": {},
   "source": [
    "##### WCSS\n",
    "Use WCSS (Within Cluster Sum Of Squares) plotted against number of clusters (K val) to find out the most optimal number of clusters to be used.\n",
    "\n",
    "The formula is given below:\n",
    "\n",
    "WCSS measures sum of distances of observations from their cluster centroids.\n",
    "WCSS = Sigma(Xi - Yi)^2\n",
    "\n",
    "Yi is centroid for Xi observation. The objective is to maximize the number of clusters and limit cases where each data point becomes its own cluster centroid.\n",
    "\n",
    "#### The Elbow Method\n",
    "Calculate the Within Cluster Sum of Squared Errors (WSS) for different values of k, and choose the k for which WSS first starts to diminish. In the plot of WSS-versus k, this is visible as an elbow.\n",
    "\n",
    "Steps:\n",
    "\n",
    "1. Compute K-Means clustering for different values of K by varying K from 1 to 10 clusters.\n",
    "\n",
    "2. For each K, calculate the total within-cluster sum of square (WCSS).\n",
    "\n",
    "3. Plot the curve of WCSS vs the number of clusters K.\n",
    "\n",
    "4. The location of a bend (knee) in the plot is generally considered as an indicator of the appropriate number of clusters."
   ]
  },
  {
   "cell_type": "code",
   "execution_count": 88,
   "metadata": {},
   "outputs": [
    {
     "data": {
      "image/png": "[encoded data removed]",
      "text/plain": [
       "<Figure size 864x432 with 1 Axes>"
      ]
     },
     "metadata": {},
     "output_type": "display_data"
    }
   ],
   "source": [
    "from sklearn.cluster import KMeans\n",
    "wcss = []\n",
    "for k in range(1,11):\n",
    "    kmeans = KMeans(n_clusters=k, init=\"k-means++\")\n",
    "    kmeans.fit(df.iloc[:,1:]) # name column is irrelevant\n",
    "    wcss.append(kmeans.inertia_)\n",
    "plt.figure(figsize=(12,6))    \n",
    "plt.grid()\n",
    "plt.plot(range(1,11),wcss, linewidth=2, color=\"red\", marker =\"8\")\n",
    "plt.xlabel(\"K Value\")\n",
    "plt.xticks(np.arange(1,11,1))\n",
    "plt.ylabel(\"WCSS\")\n",
    "plt.show()"
   ]
  },
  {
   "cell_type": "markdown",
   "metadata": {},
   "source": [
    "Judging from the graph above as the result of the **elbow method**, the optimal cluster num is **5**!"
   ]
  },
  {
   "cell_type": "markdown",
   "metadata": {},
   "source": [
    "Because we want to improve welfare, we might want to look into government programmes which focus on **how we can enforce socio-economic equity in the society**.\n",
    "\n",
    "Based on EDA carried out above we can conclude that:\n",
    "1. Most people are elderly\n",
    "2. There are lots of wealthy and prospering people proven by:\n",
    "    - The number of people with cars far outweighs people without\n",
    "    - The average educational level is 3 to 4\n",
    "    - The number of people who own a house far outweighs people without\n",
    "    - There are some people who have relatively very high income around 140k++ (outliers)\n",
    "3. Also we discovered that there are a very glaring gap in socio-economic standings (and also some interesting points?):\n",
    "    - The standard deviation, gap between min and max income range is very high (around 80k)\n",
    "    - There are some people with level 1 education\n",
    "    - There also around 6k people without home even though the data mostly consisted of old people\n",
    "    - There are relatively high number of people (around 5k) without child even though the data mostly consisted of old people (I understand that not everybody wants to have a child, but this is an interesting point nonetheless).\n",
    "    \n",
    "4. Therefore, we would want to make segments that differentiate between those already wealthy and propsering to those who are stil struggling (relative to them), especially in old age."
   ]
  },
  {
   "cell_type": "markdown",
   "metadata": {},
   "source": [
    "Because visualization is best done in 3D (still visually understandable), I propose using these 3 variables to find out the people who needs governmental help the most:\n",
    "\n",
    "1. **Age**\n",
    "\n",
    "People at old age might not be able to support their family and themselves as well compared to those still in their prime. Elders are also more likely to suffer from health complication which supports my argument further.\n",
    "\n",
    "2. **IncomeRange**\n",
    "\n",
    "We aim to help people within lower income range to stablize against those within higher income range.\n",
    "\n",
    "3. **ChildrenAtHome**\n",
    "\n",
    "People with more children at home means that they have more heads to feed, thus requiring more funds to get by. This in turn helps us to locate which families in dire need of welfare support.\n",
    "\n",
    "We will cluster the data into **5 clusters**, following the result gotten from the elbow method above.\n",
    "\n",
    "3D plot to visualize:"
   ]
  },
  {
   "cell_type": "code",
   "execution_count": 89,
   "metadata": {},
   "outputs": [
    {
     "data": {
      "image/png": "[encoded data removed]",
      "text/plain": [
       "<Figure size 1440x720 with 1 Axes>"
      ]
     },
     "metadata": {},
     "output_type": "display_data"
    }
   ],
   "source": [
    "\n",
    "\n",
    "km = KMeans(n_clusters=5)\n",
    "clusters = km.fit_predict(df.iloc[:,1:])\n",
    "df[\"label\"] = clusters\n",
    "\n",
    "from mpl_toolkits.mplot3d import Axes3D\n",
    "import matplotlib.pyplot as plt\n",
    "import numpy as np\n",
    "import pandas as pd\n",
    " \n",
    "fig = plt.figure(figsize=(20,10))\n",
    "ax = fig.add_subplot(111, projection='3d')\n",
    "ax.scatter(df.Age[df.label == 0], df[\"IncomeRange\"][df.label == 0], df[\"ChildrenAtHome\"][df.label == 0], c='blue', s=60)\n",
    "ax.scatter(df.Age[df.label == 1], df[\"IncomeRange\"][df.label == 1], df[\"ChildrenAtHome\"][df.label == 1], c='red', s=60)\n",
    "ax.scatter(df.Age[df.label == 2], df[\"IncomeRange\"][df.label == 2], df[\"ChildrenAtHome\"][df.label == 2], c='green', s=60)\n",
    "ax.scatter(df.Age[df.label == 3], df[\"IncomeRange\"][df.label == 3], df[\"ChildrenAtHome\"][df.label == 3], c='orange', s=60)\n",
    "ax.scatter(df.Age[df.label == 4], df[\"IncomeRange\"][df.label == 4], df[\"ChildrenAtHome\"][df.label == 4], c='purple', s=60)\n",
    "ax.view_init(30, 185)\n",
    "plt.xlabel(\"Age\")\n",
    "plt.ylabel(\"IncomeRange\")\n",
    "ax.set_zlabel('ChildrenAtHome')\n",
    "plt.show()"
   ]
  },
  {
   "cell_type": "markdown",
   "metadata": {},
   "source": [
    "So, the target of our segmentation resides in the color green; people who have low income, high number of children, and in old age."
   ]
  },
  {
   "cell_type": "code",
   "execution_count": null,
   "metadata": {},
   "outputs": [],
   "source": []
  }
 ],
 "metadata": {
  "kernelspec": {
   "display_name": "Python 3",
   "language": "python",
   "name": "python3"
  },
  "language_info": {
   "codemirror_mode": {
    "name": "ipython",
    "version": 3
   },
   "file_extension": ".py",
   "mimetype": "text/x-python",
   "name": "python",
   "nbconvert_exporter": "python",
   "pygments_lexer": "ipython3",
   "version": "3.7.3"
  }
 },
 "nbformat": 4,
 "nbformat_minor": 2
}
