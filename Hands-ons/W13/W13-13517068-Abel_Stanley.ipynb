{
 "cells": [
  {
   "cell_type": "markdown",
   "metadata": {},
   "source": [
    "# Week 13 Handson - Clustering\n",
    "In this hands-on, we will empoy clustering technique to cluster data."
   ]
  },
  {
   "cell_type": "markdown",
   "metadata": {},
   "source": [
    "## Read the Dataset\n",
    "\n",
    "Execute the following code to read the digit mnist dataset. The folder of `digit_mnist` dataset must be in the same directory with this ipynb file.\n",
    "\n",
    "The dataset contains 500 digit handwritten images from 5 different classes/labels (0, 1, 2, 3, 4). The first 100 images have label of 0, the second 100 images have label of 1, and so on, until the fifth 100 images have label of 4."
   ]
  },
  {
   "cell_type": "code",
   "execution_count": 1,
   "metadata": {},
   "outputs": [
    {
     "name": "stdout",
     "output_type": "stream",
     "text": [
      "shape: (500, 784)\n"
     ]
    }
   ],
   "source": [
    "# membaca library yang dibutuhkan\n",
    "import numpy as np #library untuk komputasi matriks\n",
    "import cv2 #library untuk memproses gambar/video\n",
    "import matplotlib.pyplot as plt #library untuk plot data (visualisasi)\n",
    "import os\n",
    "\n",
    "# fungsi untuk membaca gambar (digit MNIST) ke matriks numpy per folder\n",
    "def baca_image(folder_image):\n",
    "    count = 0;\n",
    "    list_nama_image= os.listdir(folder_image)\n",
    "    list_path_image = [os.path.join(folder_image, i) for i in list_nama_image]\n",
    "    all_image = np.ndarray(shape=(0,28*28))\n",
    "    for i in list_path_image:\n",
    "        image = cv2.imread(i, 0) #baca image menggunakan OpenCV API dalam gray image (0=gray, 1=berwarna).\n",
    "        image_reshaped = image.reshape((1, -1))\n",
    "        all_image = np.concatenate((all_image, image_reshaped), axis=0)\n",
    "        count = count + 1\n",
    "        if count >= 100:\n",
    "            break\n",
    "    return all_image\n",
    "        \n",
    "# menggunakan fungsi yg telah dibuat untuk membaca image MNIST '0' sampai '4' \n",
    "for angka in range(5):\n",
    "    file = \"digit_mnist/\" + str(angka)\n",
    "    digit = baca_image(file)\n",
    "    if angka == 0:\n",
    "        X = digit\n",
    "    else :\n",
    "        X = np.concatenate((X, digit), axis=0)\n",
    "\n",
    "print(\"shape:\", X.shape)"
   ]
  },
  {
   "cell_type": "markdown",
   "metadata": {},
   "source": [
    "# Reference:\n",
    "https://sbrouil.github.io/ml-sandbox/MNIST+Kaggle+Digit+clusterization+using+KMeans.html\n",
    "\n",
    "http://deciphertoknow.com/mnist-k-means-clustering/\n",
    "\n",
    "https://medium.com/datadriveninvestor/k-means-clustering-for-imagery-analysis-56c9976f16b6\n",
    "    "
   ]
  },
  {
   "cell_type": "markdown",
   "metadata": {},
   "source": [
    "## Milestone 01 (M01)\n",
    "In this milestone, you are asked to empoy clustering method to cluster the digit MNIST read above, into 5 clusters. The output of this milestone is clustered data. You may use any clustering method from any library you want."
   ]
  },
  {
   "cell_type": "code",
   "execution_count": 2,
   "metadata": {},
   "outputs": [],
   "source": [
    "#your answer for M01"
   ]
  },
  {
   "cell_type": "code",
   "execution_count": 9,
   "metadata": {},
   "outputs": [
    {
     "name": "stdout",
     "output_type": "stream",
     "text": [
      "(500, 784)\n",
      "(784,)\n",
      "(500,)\n"
     ]
    }
   ],
   "source": [
    "# Preprocessing:\n",
    "# convert each image to 1 dimensional array\n",
    "\n",
    "X_ = X.reshape(len(X),-1)\n",
    "y_ = []\n",
    "for i in range(5):\n",
    "    y_ += [i for _ in range(100)]\n",
    "y_ = np.array(y_)\n",
    "\n",
    "# normalize the data to 0 - 1\n",
    "\n",
    "X = X.astype(float) / 255.\n",
    "\n",
    "print(X.shape)\n",
    "print(X[0].shape)\n",
    "print(y_.shape)"
   ]
  },
  {
   "cell_type": "code",
   "execution_count": 18,
   "metadata": {
    "scrolled": true
   },
   "outputs": [
    {
     "name": "stdout",
     "output_type": "stream",
     "text": [
      "5\n"
     ]
    },
    {
     "data": {
      "text/plain": [
       "array([1, 1, 1, 1, 4, 1, 1, 3, 1, 1, 3, 1, 1, 1, 1, 1, 4, 1, 1, 1, 1, 1,\n",
       "       1, 1, 1, 1, 1, 1, 1, 1, 1, 1, 3, 1, 1, 1, 1, 1, 1, 1, 1, 1, 1, 1,\n",
       "       1, 3, 1, 1, 1, 1, 1, 1, 1, 1, 1, 1, 1, 1, 1, 1, 3, 4, 1, 1, 1, 1,\n",
       "       1, 1, 1, 3, 1, 1, 1, 1, 1, 1, 3, 3, 1, 1, 1, 1, 1, 3, 1, 1, 3, 1,\n",
       "       1, 1, 1, 1, 3, 1, 1, 1, 1, 1, 3, 1, 0, 0, 0, 0, 0, 0, 0, 0, 0, 0,\n",
       "       0, 0, 0, 0, 0, 3, 0, 0, 0, 0, 0, 0, 0, 0, 0, 0, 0, 0, 0, 0, 0, 0,\n",
       "       0, 0, 0, 0, 0, 0, 0, 0, 0, 0, 0, 0, 0, 0, 0, 0, 0, 0, 0, 0, 0, 0,\n",
       "       0, 0, 0, 0, 0, 0, 2, 0, 3, 2, 0, 0, 0, 0, 0, 0, 0, 0, 0, 2, 0, 0,\n",
       "       0, 0, 0, 2, 0, 0, 0, 0, 0, 0, 0, 0, 0, 0, 0, 0, 0, 0, 0, 0, 0, 0,\n",
       "       0, 0, 0, 2, 2, 3, 2, 2, 0, 2, 2, 3, 0, 0, 3, 2, 0, 2, 0, 2, 3, 0,\n",
       "       2, 2, 0, 0, 2, 2, 2, 2, 2, 4, 2, 3, 2, 2, 2, 0, 2, 3, 0, 2, 4, 2,\n",
       "       2, 0, 2, 0, 2, 3, 2, 2, 2, 2, 2, 2, 2, 2, 2, 2, 2, 2, 0, 2, 2, 2,\n",
       "       0, 3, 0, 0, 2, 2, 2, 2, 0, 2, 2, 2, 0, 2, 2, 2, 0, 2, 2, 0, 2, 2,\n",
       "       2, 2, 2, 2, 2, 3, 2, 4, 2, 2, 2, 2, 4, 2, 3, 3, 4, 3, 3, 3, 3, 3,\n",
       "       3, 3, 3, 3, 4, 3, 3, 3, 3, 0, 3, 0, 3, 3, 3, 3, 2, 3, 3, 0, 2, 3,\n",
       "       3, 3, 3, 3, 3, 3, 3, 3, 3, 3, 3, 3, 3, 3, 2, 3, 3, 3, 3, 3, 3, 3,\n",
       "       3, 3, 3, 3, 3, 3, 3, 3, 3, 3, 3, 3, 3, 3, 3, 3, 3, 3, 3, 0, 2, 3,\n",
       "       3, 3, 3, 2, 3, 3, 3, 3, 0, 2, 3, 3, 3, 3, 3, 3, 3, 3, 3, 3, 0, 3,\n",
       "       3, 3, 3, 3, 4, 4, 4, 4, 4, 4, 4, 4, 4, 4, 4, 4, 4, 4, 4, 4, 4, 0,\n",
       "       4, 4, 4, 4, 4, 4, 4, 4, 4, 4, 4, 4, 4, 4, 4, 0, 4, 4, 4, 4, 4, 4,\n",
       "       4, 4, 4, 4, 4, 4, 4, 4, 4, 4, 4, 4, 4, 4, 4, 4, 4, 4, 4, 4, 4, 4,\n",
       "       4, 4, 4, 4, 4, 4, 4, 3, 4, 4, 4, 4, 4, 4, 4, 4, 4, 4, 4, 4, 4, 4,\n",
       "       4, 4, 4, 4, 4, 4, 4, 0, 4, 0, 4, 4, 4, 4, 4, 4])"
      ]
     },
     "metadata": {},
     "output_type": "display_data"
    }
   ],
   "source": [
    "from sklearn.cluster import MiniBatchKMeans\n",
    "\n",
    "n_digits = len(np.unique(y_))\n",
    "print(n_digits)\n",
    "\n",
    "# Initialize KMeans model\n",
    "\n",
    "kmeans = MiniBatchKMeans(n_clusters = n_digits)\n",
    "\n",
    "# Fit the model to the training data\n",
    "\n",
    "kmeans.fit(X_)\n",
    "display(kmeans.labels_)"
   ]
  },
  {
   "cell_type": "markdown",
   "metadata": {},
   "source": [
    "## M02\n",
    "Evaluate the clustering results in M01, as follows.\n",
    "1. For each cluster, take the dominant class. E.g., in cluster 1, 96% data are digit 3 images, thus, all images in the cluster 1 have class prediction of 3 (digit 3). Likewise for other clusters.\n",
    "2. With that prediction ouput, evaluate the clustering result using metrics of: (i) accuracy, (ii) precision: $TP/pred. yes$ and recall$: TP/actual yes$ for each class.\n",
    "3. Print the metrics you get in (2)."
   ]
  },
  {
   "cell_type": "code",
   "execution_count": 38,
   "metadata": {},
   "outputs": [
    {
     "name": "stdout",
     "output_type": "stream",
     "text": [
      "[[0, 94, 21, 6, 4], [85, 0, 0, 0, 0], [0, 4, 66, 6, 0], [12, 2, 9, 86, 1], [3, 0, 4, 2, 95]]\n",
      "[1, 0, 2, 3, 4]\n"
     ]
    },
    {
     "data": {
      "text/plain": [
       "2"
      ]
     },
     "execution_count": 38,
     "metadata": {},
     "output_type": "execute_result"
    }
   ],
   "source": [
    "#your answer for M02\n",
    "import math\n",
    "n_sets = 100\n",
    "\n",
    "pred = [[0 for j in range(n_digits)] for i in range(n_digits)]\n",
    "for idx,label in enumerate(kmeans.labels_):\n",
    "    pred[label][math.floor(idx/n_sets)] += 1\n",
    "\n",
    "print(pred)\n",
    "for idx,cluster in enumerate(pred):\n",
    "    pred[idx] = pred[idx].index(max(pred[idx]))\n",
    "    \n",
    "print(pred) # contains \n",
    "    \n",
    "math.ceil(101/100)"
   ]
  },
  {
   "cell_type": "code",
   "execution_count": 46,
   "metadata": {},
   "outputs": [
    {
     "name": "stdout",
     "output_type": "stream",
     "text": [
      "0.852\n",
      "evaluation for 0 digit\n",
      "defaultdict(<function calculate_conf_mat.<locals>.<lambda> at 0x000001C782077268>, {'tp': 85, 'fn': 15, 'tn': 400})\n",
      "precision 1.0\n",
      "recall 1.0\n",
      "evaluation for 1 digit\n",
      "defaultdict(<function calculate_conf_mat.<locals>.<lambda> at 0x000001C782077B70>, {'tn': 369, 'tp': 94, 'fn': 6, 'fp': 31})\n",
      "precision 0.752\n",
      "recall 0.752\n",
      "evaluation for 2 digit\n",
      "defaultdict(<function calculate_conf_mat.<locals>.<lambda> at 0x000001C782052488>, {'tn': 390, 'fp': 10, 'fn': 34, 'tp': 66})\n",
      "precision 0.868421052631579\n",
      "recall 0.868421052631579\n",
      "evaluation for 3 digit\n",
      "defaultdict(<function calculate_conf_mat.<locals>.<lambda> at 0x000001C782052D08>, {'tn': 376, 'fp': 24, 'tp': 86, 'fn': 14})\n",
      "precision 0.7818181818181819\n",
      "recall 0.7818181818181819\n",
      "evaluation for 4 digit\n",
      "defaultdict(<function calculate_conf_mat.<locals>.<lambda> at 0x000001C782065620>, {'tn': 391, 'fp': 9, 'tp': 95, 'fn': 5})\n",
      "precision 0.9134615384615384\n",
      "recall 0.9134615384615384\n"
     ]
    }
   ],
   "source": [
    "def accuracy(pred, labels, truth):\n",
    "    count = 0\n",
    "    for i in range(len(labels)):\n",
    "        if(pred[labels[i]] == truth[i]):\n",
    "            count += 1\n",
    "    return count/len(labels)\n",
    "\n",
    "from collections import defaultdict\n",
    "def calculate_conf_mat(pred, labels, truth, target):\n",
    "    conf_mat = defaultdict(lambda:0,{})\n",
    "    for i in range(len(labels)):\n",
    "        if(pred[labels[i]] == target and truth[i] == target):\n",
    "            conf_mat['tp'] += 1\n",
    "        elif (pred[labels[i]] == target and truth[i] != target):\n",
    "            conf_mat['fp'] += 1\n",
    "        elif(pred[labels[i]] != target and truth[i] != target):\n",
    "            conf_mat['tn'] += 1\n",
    "        else:\n",
    "            conf_mat['fn'] += 1\n",
    "    return conf_mat\n",
    "    \n",
    "def precision(conf_mat):\n",
    "    return conf_mat['tp'] / (conf_mat['tp'] + conf_mat['fp'])\n",
    "\n",
    "def recall(conf_mat):\n",
    "    return conf_mat['tp'] / (conf_mat['tp'] + conf_mat['fn']) #focus on actual positives\n",
    "\n",
    "print(accuracy(pred, kmeans.labels_, y_))\n",
    "\n",
    "\n",
    "for i in range(n_digits):\n",
    "    conf_mat = calculate_conf_mat(pred, kmeans.labels_, y, i)\n",
    "    print('evaluation for', i, 'digit')\n",
    "    print(conf_mat)\n",
    "    print('precision', precision(conf_mat))\n",
    "    print('recall', precision(conf_mat))"
   ]
  },
  {
   "cell_type": "markdown",
   "metadata": {},
   "source": [
    "## M03"
   ]
  },
  {
   "cell_type": "markdown",
   "metadata": {},
   "source": [
    "Suppose you are working for goverment that they want to lauch development program to society. The program is expected to empower the society to improve their welfare. Given sample dataset of `people.csv` (provided in the zip), you are asked to segment the data. The data attibutes are: name, age, marital status, income range, gender, total children, children at home, education, occupation, home owner, cars. You may define your own variables, such as the number of segments, attributes that are used, etc. Please provide your arguments of choosing those variables, and show (or visualize) the segments you create, including at least brief explanation."
   ]
  },
  {
   "cell_type": "code",
   "execution_count": 4,
   "metadata": {},
   "outputs": [],
   "source": [
    "#your answer for M03"
   ]
  }
 ],
 "metadata": {
  "kernelspec": {
   "display_name": "Python 3",
   "language": "python",
   "name": "python3"
  },
  "language_info": {
   "codemirror_mode": {
    "name": "ipython",
    "version": 3
   },
   "file_extension": ".py",
   "mimetype": "text/x-python",
   "name": "python",
   "nbconvert_exporter": "python",
   "pygments_lexer": "ipython3",
   "version": "3.7.3"
  }
 },
 "nbformat": 4,
 "nbformat_minor": 2
}
