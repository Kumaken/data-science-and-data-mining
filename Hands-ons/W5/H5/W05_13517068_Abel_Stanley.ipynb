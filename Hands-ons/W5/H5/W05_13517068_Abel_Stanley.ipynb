{
 "cells": [
  {
   "cell_type": "markdown",
   "metadata": {},
   "source": [
    "# Week 05 Handson - Dimentionality Reduction\n",
    "In this handson week, we will try to implement one of popular dimentionality reduction techniques, which is PCA (*Principal Component Analysis*). Along with the mathematical derivation explanation in the class, in this week handson, you are asked to implement that mathematical formula of PCA to a python function where the code template is provided below. Enjoy~"
   ]
  },
  {
   "cell_type": "markdown",
   "metadata": {},
   "source": [
    "#### Read Digit MNIST to Array 2D\n",
    "1. Code below is provided to read MNIST digit '0' and '1' where the final output is a matrix `original_data` (row is for the number of image being read, 200 images, and column is for image features, which is from image pixels = 784 pixels = 28 pixels $\\times$ 28 pixels),\n",
    "2. From 200 rows, the first 100 rows are digit of '0', and next 100 rows are digit of '1'."
   ]
  },
  {
   "cell_type": "code",
   "execution_count": 3,
   "metadata": {},
   "outputs": [
    {
     "name": "stdout",
     "output_type": "stream",
     "text": [
      "original_data shape: (200, 784)\n",
      "label shape: (200,)\n"
     ]
    }
   ],
   "source": [
    "import numpy as np \n",
    "import cv2 \n",
    "import matplotlib.pyplot as plt\n",
    "import os\n",
    "\n",
    "# function to read MNIST digit to numpy array\n",
    "def baca_image(folder_image):\n",
    "    list_nama_image= os.listdir(folder_image)\n",
    "    list_path_image = [os.path.join(folder_image, i) for i in list_nama_image]\n",
    "    original_data = np.ndarray(shape=(0,28*28))\n",
    "    for i in list_path_image:\n",
    "        image = cv2.imread(i, 0)\n",
    "        image_reshaped = image.reshape((1, -1))\n",
    "        original_data = np.concatenate((original_data, image_reshaped), axis=0)\n",
    "    return original_data\n",
    "        \n",
    "# use the fuction        \n",
    "digit_0 = baca_image(\"digit_mnist/0\")# adjust with your own path\n",
    "digit_1 = baca_image(\"digit_mnist/1\")# adjust with your own path\n",
    "\n",
    "# concatenate digit of '0' and '1'\n",
    "original_data = np.concatenate((digit_0, digit_1), axis=0)\n",
    "print(\"original_data shape:\", original_data.shape)\n",
    "\n",
    "# label\n",
    "label = np.full((200), 0); label[100:200] = 1\n",
    "print(\"label shape:\", label.shape)"
   ]
  },
  {
   "cell_type": "markdown",
   "metadata": {},
   "source": [
    "## Milestone 01 (M01)\n",
    "A template code is already provided below. In M01, you are asked to complete the `pca` function so that the `original_data` with 784 features will be reduced to **only 2 features with PCA**."
   ]
  },
  {
   "cell_type": "code",
   "execution_count": 11,
   "metadata": {},
   "outputs": [
    {
     "name": "stderr",
     "output_type": "stream",
     "text": [
      "C:\\Users\\Dell Warna Biru\\AppData\\Local\\Programs\\Python\\Python37\\lib\\site-packages\\numpy\\core\\numeric.py:591: ComplexWarning: Casting complex values to real discards the imaginary part\n",
      "  return array(a, dtype, copy=False, order=order, subok=True)\n"
     ]
    },
    {
     "data": {
      "image/png": "[encoded data removed]",
      "text/plain": [
       "<Figure size 432x288 with 1 Axes>"
      ]
     },
     "metadata": {
      "needs_background": "light"
     },
     "output_type": "display_data"
    }
   ],
   "source": [
    "#create PCA function\n",
    "def pca(input_ori, desired_dim):\n",
    "    '''\n",
    "    write code implementation of PCA here\n",
    "    Hint: all the detailed steps are already explained in\n",
    "          the lecture. You may take a look to \"PCA_slide.pdf\" (in the course portal)\n",
    "    parameters:\n",
    "    a. input_ori: \"original_data\" in the previous code block\n",
    "    b. desired_dim: desired dimension = 2\n",
    "    \n",
    "    return values:\n",
    "    a. W: projection matrix of PCA\n",
    "    b. Y: projected/reduced data via PCA\n",
    "    '''\n",
    "    mean_ori = np.mean(input_ori, axis = 0) # or:  np.mean(input_ori.T, axis = 1) \n",
    "    mid_column = input_ori - mean_ori\n",
    "    cov_mat = np.cov(mid_column.T) # covariance matrix: or -> np.matmul(mid_column.T, mid_column)\n",
    "    \n",
    "    eigen_val, eigen_vect= np.linalg.eig(cov_mat)\n",
    "    \n",
    "    W = eigen_vect.T[:desired_dim].T\n",
    "    Y = np.matmul(input_ori, W)\n",
    "    \n",
    "#     W = np.full((1,1),1) # this is only a dummy data so that this\n",
    "#                             # template code can be run without error\n",
    "#     Y = np.full((200,2), 1) # another dummy data\n",
    "    return W, Y \n",
    "\n",
    "# project the original data of MNIST digit with 784 pixels \n",
    "# (28 pixels x 28 pixels) to only two features / dimentions\n",
    "projection_matrix, reduced_data = pca(input_ori=original_data,desired_dim=2)\n",
    "\n",
    "#plotting\n",
    "plt.scatter(reduced_data[0:100:,0], \n",
    "            reduced_data[0:100:,1],\n",
    "            marker=\"^\", c='red', label='Digit 0') #PCA plot for digit of '0'\n",
    "\n",
    "plt.scatter(reduced_data[100:200:,0], \n",
    "            reduced_data[100:200:,1],\n",
    "            marker=\"^\", c='blue', label='Digit 1') #PCA plot for digit of '1'\n",
    "\n",
    "plt.title(\"Reduced data via PCA, from 784 to only 2 feaures\")\n",
    "plt.xlabel(\"feature 1\")\n",
    "plt.ylabel(\"feature 2\")\n",
    "plt.legend()\n",
    "plt.show()"
   ]
  },
  {
   "cell_type": "markdown",
   "metadata": {},
   "source": [
    "#### Illustration of a successfully reduced data via PCA\n",
    "<img src=\"ilustrasi_hasil_PCA.JPG\" alt=\"\" width=\"500\"/>"
   ]
  },
  {
   "cell_type": "markdown",
   "metadata": {},
   "source": [
    "To further understand the use of PCA, we will use the reduced data via PCA to a classifier. In this case, we will compare the accuracy when using: (i) `original_data` vs (ii) `reduced_data`."
   ]
  },
  {
   "cell_type": "markdown",
   "metadata": {},
   "source": [
    "## M02\n",
    "Before feeding to classifier, we will split our data to training and testing data.<br>\n",
    "a. Please split `original_data` using `StratifiedShuffleSplit` API of scikit-learn with `n_splits=1` and ratio of `70%:30%` for `training:testing data`. From this, we will have: (i) `training_input`, (ii) `training_label`, (iii) `testing_input` and (iv) `testing_label`."
   ]
  },
  {
   "cell_type": "code",
   "execution_count": 12,
   "metadata": {},
   "outputs": [
    {
     "name": "stdout",
     "output_type": "stream",
     "text": [
      "indices form:\n",
      "[28  0]\n",
      "data form:\n",
      "[[0. 0. 0. ... 0. 0. 0.]\n",
      " [3. 0. 0. ... 0. 0. 0.]]\n",
      "label form:\n",
      "[0 0]\n"
     ]
    }
   ],
   "source": [
    "# Write code for M02 here\n",
    "from sklearn.model_selection import StratifiedShuffleSplit\n",
    "\n",
    "def splitData(data, label, train_sz, test_sz):\n",
    "    sss = StratifiedShuffleSplit(n_splits=1, train_size=train_sz, test_size=test_sz, random_state=0)\n",
    "    indices = sss.split(data, label)\n",
    "    train_indices, test_indices = next(indices)\n",
    "    print(\"indices form:\")\n",
    "    print(train_indices[0:2])\n",
    "    \n",
    "    train_splitted_data, train_splitted_label = data[train_indices], label[train_indices]\n",
    "    test_splitted_data, test_splitted_label = data[test_indices], label[test_indices]\n",
    "    print(\"data form:\")\n",
    "    print(train_splitted_data[0:2])\n",
    "\n",
    "    print(\"label form:\")\n",
    "    print(train_splitted_label[0:2])\n",
    "    \n",
    "    return(train_splitted_data, train_splitted_label, test_splitted_data, test_splitted_label)\n",
    "\n",
    "ori_train_splitted_X, ori_train_splitted_Y, ori_test_splitted_X, ori_test_splitted_Y = splitData(original_data, label, 0.7, 0.3)"
   ]
  },
  {
   "cell_type": "markdown",
   "metadata": {},
   "source": [
    "## M03\n",
    "a. Train a `DecisionTreeClassifier` (scikit-learn) using training data (`training_input` and `training_label`) of `original_data` you got in M02, then test the trained model using testing data (`testing_input` and `testing_label`) and calculate the accuracy."
   ]
  },
  {
   "cell_type": "code",
   "execution_count": 13,
   "metadata": {},
   "outputs": [
    {
     "name": "stdout",
     "output_type": "stream",
     "text": [
      "Accuracy:  1.0\n"
     ]
    }
   ],
   "source": [
    "# Write code for M03 here\n",
    "from sklearn import tree\n",
    "clf = tree.DecisionTreeClassifier()\n",
    "clf = clf.fit(ori_train_splitted_X, ori_train_splitted_Y)\n",
    "\n",
    "predictions = clf.predict(ori_test_splitted_X)\n",
    "\n",
    "from sklearn.metrics import accuracy_score\n",
    "print(\"Accuracy: \", accuracy_score(y_pred=predictions, y_true=ori_test_splitted_Y))"
   ]
  },
  {
   "cell_type": "markdown",
   "metadata": {},
   "source": [
    "## M04"
   ]
  },
  {
   "cell_type": "markdown",
   "metadata": {},
   "source": [
    "From M02(a), you have (i) `training_input`, (ii) `training_label`, (iii) `testing_input` and (iv) `testing_label`: <br><br>\n",
    "a. Project `training_input` using `pca` function you aready complete before. Here, you will get `projection_matrix` and `reduced_training_input`.<br>\n",
    "b. Project `testing_input` by this formula $\\rightarrow$ `reduced_testing_input` = `testing_input` $\\times$ `projection_matrix`.<br>\n",
    "c. Train a `DecisionTreeClassifier` using `reduced_training_input` & `training_label`, test the trained model using `reduced_testing_input` & `testing_label`, and calculate the accuracy.<br><br>\n",
    "**Hint:** You may get complex numbers (real-imaginer numbers) from PCA. In this case, you need to convert complex number to real number before feeding to the classifier in M04(c)."
   ]
  },
  {
   "cell_type": "code",
   "execution_count": 14,
   "metadata": {},
   "outputs": [
    {
     "name": "stdout",
     "output_type": "stream",
     "text": [
      "indices form:\n",
      "[28  0]\n",
      "data form:\n",
      "[[-2407.35544456+0.j  -301.56155093+0.j]\n",
      " [-2243.29236831+0.j  -542.75452095+0.j]]\n",
      "label form:\n",
      "[0 0]\n",
      "ori_test_splitted_X shape: (60, 784)\n",
      "projection_matrix: (784, 2)\n",
      "[[-2407.35544456  -301.56155093]\n",
      " [-2243.29236831  -542.75452095]]\n",
      "Accuracy:  1.0\n"
     ]
    },
    {
     "name": "stderr",
     "output_type": "stream",
     "text": [
      "C:\\Users\\Dell Warna Biru\\AppData\\Roaming\\Python\\Python37\\site-packages\\ipykernel_launcher.py:9: ComplexWarning: Casting complex values to real discards the imaginary part\n",
      "  if __name__ == '__main__':\n",
      "C:\\Users\\Dell Warna Biru\\AppData\\Roaming\\Python\\Python37\\site-packages\\ipykernel_launcher.py:10: ComplexWarning: Casting complex values to real discards the imaginary part\n",
      "  # Remove the CWD from sys.path while we load stuff.\n"
     ]
    }
   ],
   "source": [
    "# Write code for M04 here\n",
    "red_train_splitted_X, red_train_splitted_Y, _, _ = splitData(reduced_data, label, 0.7, 0.3)\n",
    "\n",
    "print(\"ori_test_splitted_X shape:\", ori_test_splitted_X.shape)\n",
    "print(\"projection_matrix:\", projection_matrix.shape)\n",
    "prj_test_splitted_X = np.matmul(ori_test_splitted_X, projection_matrix)\n",
    "\n",
    "# convert complex num to real:\n",
    "red_train_splitted_X = red_train_splitted_X.astype(float)\n",
    "prj_test_splitted_X = prj_test_splitted_X.astype(float)\n",
    "\n",
    "# train a decision tree\n",
    "from sklearn import tree\n",
    "clf = tree.DecisionTreeClassifier()\n",
    "print(red_train_splitted_X[0:2])\n",
    "clf = clf.fit(red_train_splitted_X, red_train_splitted_Y)\n",
    "\n",
    "predictions = clf.predict(prj_test_splitted_X)\n",
    "\n",
    "from sklearn.metrics import accuracy_score\n",
    "print(\"Accuracy: \", accuracy_score(y_pred=predictions, y_true=ori_test_splitted_Y))"
   ]
  },
  {
   "cell_type": "markdown",
   "metadata": {},
   "source": [
    "## M05\n",
    "What are the accuracies you get from training using: \"original data\" (M03) and \"reduced data via PCA\" (M04.c)? Is it close or different enough? What can you infer from that?"
   ]
  },
  {
   "cell_type": "markdown",
   "metadata": {},
   "source": [
    "## My Ans:\n",
    "\n",
    "The accuracy after applying dimensionality reduction with PCA is still the same (1.0) in this case. In general, we can expect a slight loss in accuracy after PCA. However, even with reduced dimension, the model is still able to predict from the test data with a negligible reduction in accuracy. This is good because with reduced dimension, we are able to prevent the curse of dimensionality (feature space grows more sparse without enough training data to keep up, thus causing the model to overfit). With PCA, we could remove redundant and irrelevant features without incurring much loss of information. In addition, dimensionality reduction also leads to better human interpretations and less computational cost with simplification of models.\n",
    "\n",
    "In general, applying PCA before building a model will NOT help to make the model perform better (in terms of accuracy).\n",
    "\n",
    "This is because PCA is an algorithm that does not consider the response variable / prediction target into account. PCA will treat the feature as having large variance as important features, but the feature having large variance have noting to do with the prediction target.\n",
    "\n",
    "This means, there is a possiblity that we end up producing a lot of useless features and eliminating useful features after PCA.\n",
    "\n"
   ]
  },
  {
   "cell_type": "markdown",
   "metadata": {},
   "source": [
    "-- Definition --\n",
    "\n",
    "## PCA\n",
    "The main linear technique for dimensionality reduction, principal component analysis, performs a linear mapping of the data to a lower-dimensional space in such a way that the variance of the data in the low-dimensional representation is maximized. \n",
    "\n",
    "In practice, the covariance (and sometimes the correlation) matrix of the data is constructed and the eigenvectors on this matrix are computed. \n",
    "\n",
    "The eigenvectors that correspond to the largest eigenvalues (the principal components) can now be used to reconstruct a large fraction of the variance of the original data. \n",
    "\n",
    "Moreover, the first few eigenvectors can often be interpreted in terms of the large-scale physical behavior of the system, because they often contribute the vast majority of the system's energy, especially in low-dimensional systems. \n",
    "\n",
    "Still, this must be proven on a case-by-case basis as not all systems exhibit this behavior. The original space (with dimension of the number of points) has been reduced (with data loss, but hopefully retaining the most important variance) to the space spanned by a few eigenvectors."
   ]
  },
  {
   "cell_type": "code",
   "execution_count": null,
   "metadata": {},
   "outputs": [],
   "source": []
  },
  {
   "cell_type": "code",
   "execution_count": null,
   "metadata": {},
   "outputs": [],
   "source": []
  }
 ],
 "metadata": {
  "kernelspec": {
   "display_name": "'Python Interactive'",
   "language": "python",
   "name": "a65c17a7-e1ca-4afb-b7a7-bcf261eb3d3f"
  },
  "language_info": {
   "codemirror_mode": {
    "name": "ipython",
    "version": 3
   },
   "file_extension": ".py",
   "mimetype": "text/x-python",
   "name": "python",
   "nbconvert_exporter": "python",
   "pygments_lexer": "ipython3",
   "version": "3.7.3"
  }
 },
 "nbformat": 4,
 "nbformat_minor": 2
}
