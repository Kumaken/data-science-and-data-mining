{
 "cells": [
  {
   "cell_type": "markdown",
   "metadata": {},
   "source": [
    "# 13517031 - Karina Iswaras\n"
   ]
  },
  {
   "cell_type": "code",
   "execution_count": 1,
   "metadata": {},
   "outputs": [
    {
     "data": {
      "text/html": [
       "<div>\n",
       "<style scoped>\n",
       "    .dataframe tbody tr th:only-of-type {\n",
       "        vertical-align: middle;\n",
       "    }\n",
       "\n",
       "    .dataframe tbody tr th {\n",
       "        vertical-align: top;\n",
       "    }\n",
       "\n",
       "    .dataframe thead th {\n",
       "        text-align: right;\n",
       "    }\n",
       "</style>\n",
       "<table border=\"1\" class=\"dataframe\">\n",
       "  <thead>\n",
       "    <tr style=\"text-align: right;\">\n",
       "      <th></th>\n",
       "      <th>type</th>\n",
       "      <th>text</th>\n",
       "    </tr>\n",
       "  </thead>\n",
       "  <tbody>\n",
       "    <tr>\n",
       "      <th>0</th>\n",
       "      <td>ham</td>\n",
       "      <td>Babe, I'm back ... Come back to me ...</td>\n",
       "    </tr>\n",
       "    <tr>\n",
       "      <th>1</th>\n",
       "      <td>ham</td>\n",
       "      <td>S:)no competition for him.</td>\n",
       "    </tr>\n",
       "    <tr>\n",
       "      <th>2</th>\n",
       "      <td>ham</td>\n",
       "      <td>Yup having my lunch buffet now.. U eat already?</td>\n",
       "    </tr>\n",
       "    <tr>\n",
       "      <th>3</th>\n",
       "      <td>ham</td>\n",
       "      <td>Storming msg: Wen u lift d phne, u say HELLO D...</td>\n",
       "    </tr>\n",
       "    <tr>\n",
       "      <th>4</th>\n",
       "      <td>ham</td>\n",
       "      <td>Mark works tomorrow. He gets out at 5. His wor...</td>\n",
       "    </tr>\n",
       "  </tbody>\n",
       "</table>\n",
       "</div>"
      ],
      "text/plain": [
       "  type                                               text\n",
       "0  ham             Babe, I'm back ... Come back to me ...\n",
       "1  ham                         S:)no competition for him.\n",
       "2  ham    Yup having my lunch buffet now.. U eat already?\n",
       "3  ham  Storming msg: Wen u lift d phne, u say HELLO D...\n",
       "4  ham  Mark works tomorrow. He gets out at 5. His wor..."
      ]
     },
     "execution_count": 1,
     "metadata": {},
     "output_type": "execute_result"
    }
   ],
   "source": [
    "import pandas as pd\n",
    "\n",
    "# read csv file into 'df' dataframe\n",
    "df_train = pd.read_csv('./data/training_data.csv', sep = \",\")\n",
    "df_val = pd.read_csv('./data/val_data.csv', sep = \",\")\n",
    "df_test = pd.read_csv('./data/testing_data.csv', sep = \",\")\n",
    "\n",
    "# print some data rows\n",
    "df_train.head()"
   ]
  },
  {
   "cell_type": "markdown",
   "metadata": {},
   "source": [
    "## Preprocessing\n",
    "\n",
    "Preprocessing dilakukan terhadap semua dataset, yakni training, validation, dan testing. Prepocessing yang dilakukan berupa : \n",
    "1. Memberikan label numeric terhadap kelas spam dan ham, dengan spam = 0 dan ham = 1.\n",
    "2. Tokenization yakni untuk memecah kalimat text menjadi kata (token). Tokenization dilakukan dengan bantuan library nltk.\n",
    "3. Normalization, yang dilakukan ialah mengubah semua huruf menjadi lowercase karena perbedaan huruf besar dan kecil dianggap tidak berpengaruh dalam spam classification.\n",
    "4. Membuang tanda baca (punctuation) termasuk emoji yang dibuat dari simbol-simbol, karena tidak berpengaruh terhadap penentuan kelas. Hal ini dilakukan dengan bantuan list punctuation dari string.\n",
    "5. Remove stopwords, dikarenakan stopwords tidak diperlukan untuk spam classification dan seharusnya memiliki nilai tfidf yang rendah. Remove stopwords dibantu dengan corpus stopwords bahasa inggris dari nltk.\n",
    "6. Lemmatization, agar kata dengan kata dasar yang sama dapat dihitung menjadi sebuah kata yang sama, hal ini akan mempengaruhi nilai dari tfidf yang akan digunakan pada tahap feature extraction. Hal ini dilakukan dengan bantuan WordNetLemmatizer yang dimiliki nltk."
   ]
  },
  {
   "cell_type": "code",
   "execution_count": 2,
   "metadata": {},
   "outputs": [
    {
     "data": {
      "text/html": [
       "<div>\n",
       "<style scoped>\n",
       "    .dataframe tbody tr th:only-of-type {\n",
       "        vertical-align: middle;\n",
       "    }\n",
       "\n",
       "    .dataframe tbody tr th {\n",
       "        vertical-align: top;\n",
       "    }\n",
       "\n",
       "    .dataframe thead th {\n",
       "        text-align: right;\n",
       "    }\n",
       "</style>\n",
       "<table border=\"1\" class=\"dataframe\">\n",
       "  <thead>\n",
       "    <tr style=\"text-align: right;\">\n",
       "      <th></th>\n",
       "      <th>type</th>\n",
       "      <th>text</th>\n",
       "      <th>label</th>\n",
       "    </tr>\n",
       "  </thead>\n",
       "  <tbody>\n",
       "    <tr>\n",
       "      <th>0</th>\n",
       "      <td>ham</td>\n",
       "      <td>Babe, I'm back ... Come back to me ...</td>\n",
       "      <td>0</td>\n",
       "    </tr>\n",
       "    <tr>\n",
       "      <th>1</th>\n",
       "      <td>ham</td>\n",
       "      <td>S:)no competition for him.</td>\n",
       "      <td>0</td>\n",
       "    </tr>\n",
       "    <tr>\n",
       "      <th>2</th>\n",
       "      <td>ham</td>\n",
       "      <td>Yup having my lunch buffet now.. U eat already?</td>\n",
       "      <td>0</td>\n",
       "    </tr>\n",
       "    <tr>\n",
       "      <th>3</th>\n",
       "      <td>ham</td>\n",
       "      <td>Storming msg: Wen u lift d phne, u say HELLO D...</td>\n",
       "      <td>0</td>\n",
       "    </tr>\n",
       "    <tr>\n",
       "      <th>4</th>\n",
       "      <td>ham</td>\n",
       "      <td>Mark works tomorrow. He gets out at 5. His wor...</td>\n",
       "      <td>0</td>\n",
       "    </tr>\n",
       "  </tbody>\n",
       "</table>\n",
       "</div>"
      ],
      "text/plain": [
       "  type                                               text  label\n",
       "0  ham             Babe, I'm back ... Come back to me ...      0\n",
       "1  ham                         S:)no competition for him.      0\n",
       "2  ham    Yup having my lunch buffet now.. U eat already?      0\n",
       "3  ham  Storming msg: Wen u lift d phne, u say HELLO D...      0\n",
       "4  ham  Mark works tomorrow. He gets out at 5. His wor...      0"
      ]
     },
     "execution_count": 2,
     "metadata": {},
     "output_type": "execute_result"
    }
   ],
   "source": [
    "# Put numberic label\n",
    "\n",
    "df_train['label'] = df_train['type'].map({'ham':0, 'spam':1})\n",
    "df_val['label'] = df_val['type'].map({'ham':0, 'spam':1})\n",
    "df_test['label'] = df_test['type'].map({'ham':0, 'spam':1})\n",
    "df_train.head()"
   ]
  },
  {
   "cell_type": "code",
   "execution_count": 3,
   "metadata": {},
   "outputs": [
    {
     "data": {
      "text/html": [
       "<div>\n",
       "<style scoped>\n",
       "    .dataframe tbody tr th:only-of-type {\n",
       "        vertical-align: middle;\n",
       "    }\n",
       "\n",
       "    .dataframe tbody tr th {\n",
       "        vertical-align: top;\n",
       "    }\n",
       "\n",
       "    .dataframe thead th {\n",
       "        text-align: right;\n",
       "    }\n",
       "</style>\n",
       "<table border=\"1\" class=\"dataframe\">\n",
       "  <thead>\n",
       "    <tr style=\"text-align: right;\">\n",
       "      <th></th>\n",
       "      <th>type</th>\n",
       "      <th>text</th>\n",
       "      <th>label</th>\n",
       "      <th>token</th>\n",
       "    </tr>\n",
       "  </thead>\n",
       "  <tbody>\n",
       "    <tr>\n",
       "      <th>0</th>\n",
       "      <td>ham</td>\n",
       "      <td>Babe, I'm back ... Come back to me ...</td>\n",
       "      <td>0</td>\n",
       "      <td>[Babe, ,, I, 'm, back, ..., Come, back, to, me...</td>\n",
       "    </tr>\n",
       "    <tr>\n",
       "      <th>1</th>\n",
       "      <td>ham</td>\n",
       "      <td>S:)no competition for him.</td>\n",
       "      <td>0</td>\n",
       "      <td>[S, :, ), no, competition, for, him, .]</td>\n",
       "    </tr>\n",
       "    <tr>\n",
       "      <th>2</th>\n",
       "      <td>ham</td>\n",
       "      <td>Yup having my lunch buffet now.. U eat already?</td>\n",
       "      <td>0</td>\n",
       "      <td>[Yup, having, my, lunch, buffet, now, .., U, e...</td>\n",
       "    </tr>\n",
       "    <tr>\n",
       "      <th>3</th>\n",
       "      <td>ham</td>\n",
       "      <td>Storming msg: Wen u lift d phne, u say HELLO D...</td>\n",
       "      <td>0</td>\n",
       "      <td>[Storming, msg, :, Wen, u, lift, d, phne, ,, u...</td>\n",
       "    </tr>\n",
       "    <tr>\n",
       "      <th>4</th>\n",
       "      <td>ham</td>\n",
       "      <td>Mark works tomorrow. He gets out at 5. His wor...</td>\n",
       "      <td>0</td>\n",
       "      <td>[Mark, works, tomorrow, ., He, gets, out, at, ...</td>\n",
       "    </tr>\n",
       "  </tbody>\n",
       "</table>\n",
       "</div>"
      ],
      "text/plain": [
       "  type                                               text  label  \\\n",
       "0  ham             Babe, I'm back ... Come back to me ...      0   \n",
       "1  ham                         S:)no competition for him.      0   \n",
       "2  ham    Yup having my lunch buffet now.. U eat already?      0   \n",
       "3  ham  Storming msg: Wen u lift d phne, u say HELLO D...      0   \n",
       "4  ham  Mark works tomorrow. He gets out at 5. His wor...      0   \n",
       "\n",
       "                                               token  \n",
       "0  [Babe, ,, I, 'm, back, ..., Come, back, to, me...  \n",
       "1            [S, :, ), no, competition, for, him, .]  \n",
       "2  [Yup, having, my, lunch, buffet, now, .., U, e...  \n",
       "3  [Storming, msg, :, Wen, u, lift, d, phne, ,, u...  \n",
       "4  [Mark, works, tomorrow, ., He, gets, out, at, ...  "
      ]
     },
     "execution_count": 3,
     "metadata": {},
     "output_type": "execute_result"
    }
   ],
   "source": [
    "# tokenize\n",
    "import nltk\n",
    "\n",
    "df_train['token'] = df_train.apply(lambda row : nltk.word_tokenize(row['text']), axis=1)\n",
    "df_val['token'] = df_val.apply(lambda row : nltk.word_tokenize(row['text']), axis=1)\n",
    "df_test['token'] = df_test.apply(lambda row : nltk.word_tokenize(row['text']), axis=1)\n",
    "df_train.head()"
   ]
  },
  {
   "cell_type": "code",
   "execution_count": 4,
   "metadata": {},
   "outputs": [
    {
     "data": {
      "text/html": [
       "<div>\n",
       "<style scoped>\n",
       "    .dataframe tbody tr th:only-of-type {\n",
       "        vertical-align: middle;\n",
       "    }\n",
       "\n",
       "    .dataframe tbody tr th {\n",
       "        vertical-align: top;\n",
       "    }\n",
       "\n",
       "    .dataframe thead th {\n",
       "        text-align: right;\n",
       "    }\n",
       "</style>\n",
       "<table border=\"1\" class=\"dataframe\">\n",
       "  <thead>\n",
       "    <tr style=\"text-align: right;\">\n",
       "      <th></th>\n",
       "      <th>type</th>\n",
       "      <th>text</th>\n",
       "      <th>label</th>\n",
       "      <th>token</th>\n",
       "      <th>processed_tokens</th>\n",
       "    </tr>\n",
       "  </thead>\n",
       "  <tbody>\n",
       "    <tr>\n",
       "      <th>0</th>\n",
       "      <td>ham</td>\n",
       "      <td>Babe, I'm back ... Come back to me ...</td>\n",
       "      <td>0</td>\n",
       "      <td>[Babe, ,, I, 'm, back, ..., Come, back, to, me...</td>\n",
       "      <td>[babe, ,, i, 'm, back, ..., come, back, to, me...</td>\n",
       "    </tr>\n",
       "    <tr>\n",
       "      <th>1</th>\n",
       "      <td>ham</td>\n",
       "      <td>S:)no competition for him.</td>\n",
       "      <td>0</td>\n",
       "      <td>[S, :, ), no, competition, for, him, .]</td>\n",
       "      <td>[s, :, ), no, competition, for, him, .]</td>\n",
       "    </tr>\n",
       "    <tr>\n",
       "      <th>2</th>\n",
       "      <td>ham</td>\n",
       "      <td>Yup having my lunch buffet now.. U eat already?</td>\n",
       "      <td>0</td>\n",
       "      <td>[Yup, having, my, lunch, buffet, now, .., U, e...</td>\n",
       "      <td>[yup, having, my, lunch, buffet, now, .., u, e...</td>\n",
       "    </tr>\n",
       "    <tr>\n",
       "      <th>3</th>\n",
       "      <td>ham</td>\n",
       "      <td>Storming msg: Wen u lift d phne, u say HELLO D...</td>\n",
       "      <td>0</td>\n",
       "      <td>[Storming, msg, :, Wen, u, lift, d, phne, ,, u...</td>\n",
       "      <td>[storming, msg, :, wen, u, lift, d, phne, ,, u...</td>\n",
       "    </tr>\n",
       "    <tr>\n",
       "      <th>4</th>\n",
       "      <td>ham</td>\n",
       "      <td>Mark works tomorrow. He gets out at 5. His wor...</td>\n",
       "      <td>0</td>\n",
       "      <td>[Mark, works, tomorrow, ., He, gets, out, at, ...</td>\n",
       "      <td>[mark, works, tomorrow, ., he, gets, out, at, ...</td>\n",
       "    </tr>\n",
       "  </tbody>\n",
       "</table>\n",
       "</div>"
      ],
      "text/plain": [
       "  type                                               text  label  \\\n",
       "0  ham             Babe, I'm back ... Come back to me ...      0   \n",
       "1  ham                         S:)no competition for him.      0   \n",
       "2  ham    Yup having my lunch buffet now.. U eat already?      0   \n",
       "3  ham  Storming msg: Wen u lift d phne, u say HELLO D...      0   \n",
       "4  ham  Mark works tomorrow. He gets out at 5. His wor...      0   \n",
       "\n",
       "                                               token  \\\n",
       "0  [Babe, ,, I, 'm, back, ..., Come, back, to, me...   \n",
       "1            [S, :, ), no, competition, for, him, .]   \n",
       "2  [Yup, having, my, lunch, buffet, now, .., U, e...   \n",
       "3  [Storming, msg, :, Wen, u, lift, d, phne, ,, u...   \n",
       "4  [Mark, works, tomorrow, ., He, gets, out, at, ...   \n",
       "\n",
       "                                    processed_tokens  \n",
       "0  [babe, ,, i, 'm, back, ..., come, back, to, me...  \n",
       "1            [s, :, ), no, competition, for, him, .]  \n",
       "2  [yup, having, my, lunch, buffet, now, .., u, e...  \n",
       "3  [storming, msg, :, wen, u, lift, d, phne, ,, u...  \n",
       "4  [mark, works, tomorrow, ., he, gets, out, at, ...  "
      ]
     },
     "execution_count": 4,
     "metadata": {},
     "output_type": "execute_result"
    }
   ],
   "source": [
    "# normalization, make token lowercase\n",
    "\n",
    "df_train['processed_tokens'] = df_train.apply(lambda row: [w.lower() for w in row['token']], axis=1)\n",
    "df_val['processed_tokens'] = df_val.apply(lambda row: [w.lower() for w in row['token']], axis=1)\n",
    "df_test['processed_tokens'] = df_test.apply(lambda row: [w.lower() for w in row['token']], axis=1)\n",
    "df_train.head()"
   ]
  },
  {
   "cell_type": "code",
   "execution_count": 5,
   "metadata": {},
   "outputs": [
    {
     "data": {
      "text/html": [
       "<div>\n",
       "<style scoped>\n",
       "    .dataframe tbody tr th:only-of-type {\n",
       "        vertical-align: middle;\n",
       "    }\n",
       "\n",
       "    .dataframe tbody tr th {\n",
       "        vertical-align: top;\n",
       "    }\n",
       "\n",
       "    .dataframe thead th {\n",
       "        text-align: right;\n",
       "    }\n",
       "</style>\n",
       "<table border=\"1\" class=\"dataframe\">\n",
       "  <thead>\n",
       "    <tr style=\"text-align: right;\">\n",
       "      <th></th>\n",
       "      <th>type</th>\n",
       "      <th>text</th>\n",
       "      <th>label</th>\n",
       "      <th>token</th>\n",
       "      <th>processed_tokens</th>\n",
       "    </tr>\n",
       "  </thead>\n",
       "  <tbody>\n",
       "    <tr>\n",
       "      <th>0</th>\n",
       "      <td>ham</td>\n",
       "      <td>Babe, I'm back ... Come back to me ...</td>\n",
       "      <td>0</td>\n",
       "      <td>[Babe, ,, I, 'm, back, ..., Come, back, to, me...</td>\n",
       "      <td>[babe, i, 'm, back, ..., come, back, to, me, ...]</td>\n",
       "    </tr>\n",
       "    <tr>\n",
       "      <th>1</th>\n",
       "      <td>ham</td>\n",
       "      <td>S:)no competition for him.</td>\n",
       "      <td>0</td>\n",
       "      <td>[S, :, ), no, competition, for, him, .]</td>\n",
       "      <td>[s, no, competition, for, him]</td>\n",
       "    </tr>\n",
       "    <tr>\n",
       "      <th>2</th>\n",
       "      <td>ham</td>\n",
       "      <td>Yup having my lunch buffet now.. U eat already?</td>\n",
       "      <td>0</td>\n",
       "      <td>[Yup, having, my, lunch, buffet, now, .., U, e...</td>\n",
       "      <td>[yup, having, my, lunch, buffet, now, .., u, e...</td>\n",
       "    </tr>\n",
       "    <tr>\n",
       "      <th>3</th>\n",
       "      <td>ham</td>\n",
       "      <td>Storming msg: Wen u lift d phne, u say HELLO D...</td>\n",
       "      <td>0</td>\n",
       "      <td>[Storming, msg, :, Wen, u, lift, d, phne, ,, u...</td>\n",
       "      <td>[storming, msg, wen, u, lift, d, phne, u, say,...</td>\n",
       "    </tr>\n",
       "    <tr>\n",
       "      <th>4</th>\n",
       "      <td>ham</td>\n",
       "      <td>Mark works tomorrow. He gets out at 5. His wor...</td>\n",
       "      <td>0</td>\n",
       "      <td>[Mark, works, tomorrow, ., He, gets, out, at, ...</td>\n",
       "      <td>[mark, works, tomorrow, he, gets, out, at, 5, ...</td>\n",
       "    </tr>\n",
       "  </tbody>\n",
       "</table>\n",
       "</div>"
      ],
      "text/plain": [
       "  type                                               text  label  \\\n",
       "0  ham             Babe, I'm back ... Come back to me ...      0   \n",
       "1  ham                         S:)no competition for him.      0   \n",
       "2  ham    Yup having my lunch buffet now.. U eat already?      0   \n",
       "3  ham  Storming msg: Wen u lift d phne, u say HELLO D...      0   \n",
       "4  ham  Mark works tomorrow. He gets out at 5. His wor...      0   \n",
       "\n",
       "                                               token  \\\n",
       "0  [Babe, ,, I, 'm, back, ..., Come, back, to, me...   \n",
       "1            [S, :, ), no, competition, for, him, .]   \n",
       "2  [Yup, having, my, lunch, buffet, now, .., U, e...   \n",
       "3  [Storming, msg, :, Wen, u, lift, d, phne, ,, u...   \n",
       "4  [Mark, works, tomorrow, ., He, gets, out, at, ...   \n",
       "\n",
       "                                    processed_tokens  \n",
       "0  [babe, i, 'm, back, ..., come, back, to, me, ...]  \n",
       "1                     [s, no, competition, for, him]  \n",
       "2  [yup, having, my, lunch, buffet, now, .., u, e...  \n",
       "3  [storming, msg, wen, u, lift, d, phne, u, say,...  \n",
       "4  [mark, works, tomorrow, he, gets, out, at, 5, ...  "
      ]
     },
     "execution_count": 5,
     "metadata": {},
     "output_type": "execute_result"
    }
   ],
   "source": [
    "# remove punctuation\n",
    "import string\n",
    "\n",
    "df_train['processed_tokens'] = df_train.apply(lambda row: [w for w in row['processed_tokens'] if w not in string.punctuation], axis=1)\n",
    "df_val['processed_tokens'] = df_val.apply(lambda row: [w for w in row['processed_tokens'] if w not in string.punctuation], axis=1)\n",
    "df_test['processed_tokens'] = df_test.apply(lambda row: [w for w in row['processed_tokens'] if w not in string.punctuation], axis=1)\n",
    "df_train.head()"
   ]
  },
  {
   "cell_type": "code",
   "execution_count": 6,
   "metadata": {},
   "outputs": [
    {
     "data": {
      "text/html": [
       "<div>\n",
       "<style scoped>\n",
       "    .dataframe tbody tr th:only-of-type {\n",
       "        vertical-align: middle;\n",
       "    }\n",
       "\n",
       "    .dataframe tbody tr th {\n",
       "        vertical-align: top;\n",
       "    }\n",
       "\n",
       "    .dataframe thead th {\n",
       "        text-align: right;\n",
       "    }\n",
       "</style>\n",
       "<table border=\"1\" class=\"dataframe\">\n",
       "  <thead>\n",
       "    <tr style=\"text-align: right;\">\n",
       "      <th></th>\n",
       "      <th>type</th>\n",
       "      <th>text</th>\n",
       "      <th>label</th>\n",
       "      <th>token</th>\n",
       "      <th>processed_tokens</th>\n",
       "    </tr>\n",
       "  </thead>\n",
       "  <tbody>\n",
       "    <tr>\n",
       "      <th>0</th>\n",
       "      <td>ham</td>\n",
       "      <td>Babe, I'm back ... Come back to me ...</td>\n",
       "      <td>0</td>\n",
       "      <td>[Babe, ,, I, 'm, back, ..., Come, back, to, me...</td>\n",
       "      <td>[babe, 'm, back, ..., come, back, ...]</td>\n",
       "    </tr>\n",
       "    <tr>\n",
       "      <th>1</th>\n",
       "      <td>ham</td>\n",
       "      <td>S:)no competition for him.</td>\n",
       "      <td>0</td>\n",
       "      <td>[S, :, ), no, competition, for, him, .]</td>\n",
       "      <td>[competition]</td>\n",
       "    </tr>\n",
       "    <tr>\n",
       "      <th>2</th>\n",
       "      <td>ham</td>\n",
       "      <td>Yup having my lunch buffet now.. U eat already?</td>\n",
       "      <td>0</td>\n",
       "      <td>[Yup, having, my, lunch, buffet, now, .., U, e...</td>\n",
       "      <td>[yup, lunch, buffet, .., u, eat, already]</td>\n",
       "    </tr>\n",
       "    <tr>\n",
       "      <th>3</th>\n",
       "      <td>ham</td>\n",
       "      <td>Storming msg: Wen u lift d phne, u say HELLO D...</td>\n",
       "      <td>0</td>\n",
       "      <td>[Storming, msg, :, Wen, u, lift, d, phne, ,, u...</td>\n",
       "      <td>[storming, msg, wen, u, lift, phne, u, say, he...</td>\n",
       "    </tr>\n",
       "    <tr>\n",
       "      <th>4</th>\n",
       "      <td>ham</td>\n",
       "      <td>Mark works tomorrow. He gets out at 5. His wor...</td>\n",
       "      <td>0</td>\n",
       "      <td>[Mark, works, tomorrow, ., He, gets, out, at, ...</td>\n",
       "      <td>[mark, works, tomorrow, gets, 5, work, house, ...</td>\n",
       "    </tr>\n",
       "  </tbody>\n",
       "</table>\n",
       "</div>"
      ],
      "text/plain": [
       "  type                                               text  label  \\\n",
       "0  ham             Babe, I'm back ... Come back to me ...      0   \n",
       "1  ham                         S:)no competition for him.      0   \n",
       "2  ham    Yup having my lunch buffet now.. U eat already?      0   \n",
       "3  ham  Storming msg: Wen u lift d phne, u say HELLO D...      0   \n",
       "4  ham  Mark works tomorrow. He gets out at 5. His wor...      0   \n",
       "\n",
       "                                               token  \\\n",
       "0  [Babe, ,, I, 'm, back, ..., Come, back, to, me...   \n",
       "1            [S, :, ), no, competition, for, him, .]   \n",
       "2  [Yup, having, my, lunch, buffet, now, .., U, e...   \n",
       "3  [Storming, msg, :, Wen, u, lift, d, phne, ,, u...   \n",
       "4  [Mark, works, tomorrow, ., He, gets, out, at, ...   \n",
       "\n",
       "                                    processed_tokens  \n",
       "0             [babe, 'm, back, ..., come, back, ...]  \n",
       "1                                      [competition]  \n",
       "2          [yup, lunch, buffet, .., u, eat, already]  \n",
       "3  [storming, msg, wen, u, lift, phne, u, say, he...  \n",
       "4  [mark, works, tomorrow, gets, 5, work, house, ...  "
      ]
     },
     "execution_count": 6,
     "metadata": {},
     "output_type": "execute_result"
    }
   ],
   "source": [
    "# remove stopwords\n",
    "from nltk.corpus import stopwords\n",
    "\n",
    "stop_words = set(stopwords.words(\"english\"))\n",
    "df_train['processed_tokens'] = df_train.apply(lambda row: [w for w in row['processed_tokens'] if w not in stop_words], axis=1)\n",
    "df_val['processed_tokens'] = df_val.apply(lambda row: [w for w in row['processed_tokens'] if w not in stop_words], axis=1)\n",
    "df_test['processed_tokens'] = df_test.apply(lambda row: [w for w in row['processed_tokens'] if w not in stop_words], axis=1)\n",
    "df_train.head()"
   ]
  },
  {
   "cell_type": "code",
   "execution_count": 7,
   "metadata": {},
   "outputs": [
    {
     "data": {
      "text/html": [
       "<div>\n",
       "<style scoped>\n",
       "    .dataframe tbody tr th:only-of-type {\n",
       "        vertical-align: middle;\n",
       "    }\n",
       "\n",
       "    .dataframe tbody tr th {\n",
       "        vertical-align: top;\n",
       "    }\n",
       "\n",
       "    .dataframe thead th {\n",
       "        text-align: right;\n",
       "    }\n",
       "</style>\n",
       "<table border=\"1\" class=\"dataframe\">\n",
       "  <thead>\n",
       "    <tr style=\"text-align: right;\">\n",
       "      <th></th>\n",
       "      <th>type</th>\n",
       "      <th>text</th>\n",
       "      <th>label</th>\n",
       "      <th>token</th>\n",
       "      <th>processed_tokens</th>\n",
       "    </tr>\n",
       "  </thead>\n",
       "  <tbody>\n",
       "    <tr>\n",
       "      <th>0</th>\n",
       "      <td>ham</td>\n",
       "      <td>Babe, I'm back ... Come back to me ...</td>\n",
       "      <td>0</td>\n",
       "      <td>[Babe, ,, I, 'm, back, ..., Come, back, to, me...</td>\n",
       "      <td>[babe, 'm, back, ..., come, back, ...]</td>\n",
       "    </tr>\n",
       "    <tr>\n",
       "      <th>1</th>\n",
       "      <td>ham</td>\n",
       "      <td>S:)no competition for him.</td>\n",
       "      <td>0</td>\n",
       "      <td>[S, :, ), no, competition, for, him, .]</td>\n",
       "      <td>[competition]</td>\n",
       "    </tr>\n",
       "    <tr>\n",
       "      <th>2</th>\n",
       "      <td>ham</td>\n",
       "      <td>Yup having my lunch buffet now.. U eat already?</td>\n",
       "      <td>0</td>\n",
       "      <td>[Yup, having, my, lunch, buffet, now, .., U, e...</td>\n",
       "      <td>[yup, lunch, buffet, .., u, eat, already]</td>\n",
       "    </tr>\n",
       "    <tr>\n",
       "      <th>3</th>\n",
       "      <td>ham</td>\n",
       "      <td>Storming msg: Wen u lift d phne, u say HELLO D...</td>\n",
       "      <td>0</td>\n",
       "      <td>[Storming, msg, :, Wen, u, lift, d, phne, ,, u...</td>\n",
       "      <td>[storming, msg, wen, u, lift, phne, u, say, he...</td>\n",
       "    </tr>\n",
       "    <tr>\n",
       "      <th>4</th>\n",
       "      <td>ham</td>\n",
       "      <td>Mark works tomorrow. He gets out at 5. His wor...</td>\n",
       "      <td>0</td>\n",
       "      <td>[Mark, works, tomorrow, ., He, gets, out, at, ...</td>\n",
       "      <td>[mark, work, tomorrow, get, 5, work, house, me...</td>\n",
       "    </tr>\n",
       "  </tbody>\n",
       "</table>\n",
       "</div>"
      ],
      "text/plain": [
       "  type                                               text  label  \\\n",
       "0  ham             Babe, I'm back ... Come back to me ...      0   \n",
       "1  ham                         S:)no competition for him.      0   \n",
       "2  ham    Yup having my lunch buffet now.. U eat already?      0   \n",
       "3  ham  Storming msg: Wen u lift d phne, u say HELLO D...      0   \n",
       "4  ham  Mark works tomorrow. He gets out at 5. His wor...      0   \n",
       "\n",
       "                                               token  \\\n",
       "0  [Babe, ,, I, 'm, back, ..., Come, back, to, me...   \n",
       "1            [S, :, ), no, competition, for, him, .]   \n",
       "2  [Yup, having, my, lunch, buffet, now, .., U, e...   \n",
       "3  [Storming, msg, :, Wen, u, lift, d, phne, ,, u...   \n",
       "4  [Mark, works, tomorrow, ., He, gets, out, at, ...   \n",
       "\n",
       "                                    processed_tokens  \n",
       "0             [babe, 'm, back, ..., come, back, ...]  \n",
       "1                                      [competition]  \n",
       "2          [yup, lunch, buffet, .., u, eat, already]  \n",
       "3  [storming, msg, wen, u, lift, phne, u, say, he...  \n",
       "4  [mark, work, tomorrow, get, 5, work, house, me...  "
      ]
     },
     "execution_count": 7,
     "metadata": {},
     "output_type": "execute_result"
    }
   ],
   "source": [
    "# lemmatization\n",
    "from nltk.stem import WordNetLemmatizer\n",
    "\n",
    "lemmatizer = WordNetLemmatizer()\n",
    "df_train['processed_tokens'] = df_train.apply(lambda row : [lemmatizer.lemmatize(w) for w in row['processed_tokens']], axis=1)\n",
    "df_val['processed_tokens'] = df_val.apply(lambda row : [lemmatizer.lemmatize(w) for w in row['processed_tokens']], axis=1)\n",
    "df_test['processed_tokens'] = df_test.apply(lambda row : [lemmatizer.lemmatize(w) for w in row['processed_tokens']], axis=1)\n",
    "df_train.head()"
   ]
  },
  {
   "cell_type": "markdown",
   "metadata": {},
   "source": [
    "## Feature Extraction\n",
    "\n",
    "Feature extraction yang dilakukan ialaha TF-IDF (Term Frequency — Inverse Document Frequency). TF-IDF dilakukan dengan bantuan library sklearn."
   ]
  },
  {
   "cell_type": "code",
   "execution_count": 8,
   "metadata": {},
   "outputs": [],
   "source": [
    "# Feature extraction dengan TF-IDF\n",
    "from sklearn.feature_extraction.text import TfidfVectorizer\n",
    "\n",
    "# Calculate TF-IDF from training data and apply it to the data\n",
    "tfidf = TfidfVectorizer(tokenizer=lambda x: x, preprocessor=lambda x: x, lowercase=False)\n",
    "train_data = tfidf.fit_transform(df_train['processed_tokens'])\n",
    "train_label = df_train['label']\n",
    "\n",
    "# Apply TF-IDF to validation and testing data\n",
    "val_data = tfidf.transform(df_val['processed_tokens'])\n",
    "val_label = df_val['label']\n",
    "test_data = tfidf.transform(df_test['processed_tokens'])\n",
    "test_label = df_test['label']"
   ]
  },
  {
   "cell_type": "markdown",
   "metadata": {},
   "source": [
    "## Classification\n",
    "\n",
    "Implementasi model klasifikasi dengan algoritma Multinomial Naive Bayes, K Nearest Neighbor, dan Multilayer Perceptron. Ketiganya dilakukan dengan bantuan library sklearn."
   ]
  },
  {
   "cell_type": "code",
   "execution_count": 9,
   "metadata": {},
   "outputs": [
    {
     "name": "stdout",
     "output_type": "stream",
     "text": [
      "Accuracy on training data for NB model :  0.9660678642714571\n"
     ]
    }
   ],
   "source": [
    "# Naive Bayes Model Implementation\n",
    "from sklearn.naive_bayes import MultinomialNB\n",
    "from sklearn.metrics import accuracy_score, confusion_matrix\n",
    "\n",
    "# Make and train the model\n",
    "NBclassifier = MultinomialNB()\n",
    "NBclassifier.fit(train_data, train_label)\n",
    "# Predict validation data\n",
    "NBprediction = NBclassifier.predict(val_data)\n",
    "print('Accuracy on training data for NB model : ', accuracy_score(val_label, NBprediction))"
   ]
  },
  {
   "cell_type": "code",
   "execution_count": 10,
   "metadata": {},
   "outputs": [
    {
     "name": "stdout",
     "output_type": "stream",
     "text": [
      "Accuracy on training data for KNN model :  0.9560878243512974\n"
     ]
    }
   ],
   "source": [
    "# KNN Model Implementation\n",
    "from sklearn.neighbors import KNeighborsClassifier\n",
    "\n",
    "# Make and train the model\n",
    "KNclassifier = KNeighborsClassifier(n_neighbors=1)\n",
    "KNclassifier.fit(train_data, train_label)\n",
    "# Predict validation data\n",
    "KNprediction = KNclassifier.predict(val_data)\n",
    "print('Accuracy on training data for KNN model : ', accuracy_score(val_label, KNprediction))"
   ]
  },
  {
   "cell_type": "code",
   "execution_count": 11,
   "metadata": {},
   "outputs": [
    {
     "name": "stdout",
     "output_type": "stream",
     "text": [
      "Accuracy on training data for MLP model :  0.9920159680638723\n"
     ]
    }
   ],
   "source": [
    "# MLP Model Implementation\n",
    "from sklearn.neural_network import MLPClassifier\n",
    "\n",
    "# Make and train the model\n",
    "MLPclassifier = MLPClassifier(random_state=1, max_iter=60)\n",
    "MLPclassifier.fit(train_data, train_label)\n",
    "# Predict validation data\n",
    "MLPprediction = MLPclassifier.predict(val_data)\n",
    "print('Accuracy on training data for MLP model : ', accuracy_score(val_label, MLPprediction))"
   ]
  },
  {
   "cell_type": "markdown",
   "metadata": {},
   "source": [
    "### Accuracy on data test\n",
    "\n",
    "Test ketiga model dengan testing data."
   ]
  },
  {
   "cell_type": "code",
   "execution_count": 12,
   "metadata": {},
   "outputs": [
    {
     "name": "stdout",
     "output_type": "stream",
     "text": [
      "Accuracy on testing data for NB model :  0.9712230215827338\n"
     ]
    },
    {
     "data": {
      "text/plain": [
       "array([[484,   0],\n",
       "       [ 16,  56]], dtype=int64)"
      ]
     },
     "execution_count": 12,
     "metadata": {},
     "output_type": "execute_result"
    }
   ],
   "source": [
    "# Predict testing data with Naive Bayes Model\n",
    "NBpredictTest = NBclassifier.predict(test_data)\n",
    "print('Accuracy on testing data for NB model : ', accuracy_score(test_label, NBpredictTest))\n",
    "confusion_matrix(test_label, NBpredictTest)"
   ]
  },
  {
   "cell_type": "code",
   "execution_count": 13,
   "metadata": {},
   "outputs": [
    {
     "name": "stdout",
     "output_type": "stream",
     "text": [
      "Accuracy on testing data for KNN model :  0.9514388489208633\n"
     ]
    },
    {
     "data": {
      "text/plain": [
       "array([[484,   0],\n",
       "       [ 27,  45]], dtype=int64)"
      ]
     },
     "execution_count": 13,
     "metadata": {},
     "output_type": "execute_result"
    }
   ],
   "source": [
    "# Predict testing data with KNN Model\n",
    "KNpredictTest = KNclassifier.predict(test_data)\n",
    "print('Accuracy on testing data for KNN model : ', accuracy_score(test_label, KNpredictTest))\n",
    "confusion_matrix(test_label, KNpredictTest)"
   ]
  },
  {
   "cell_type": "code",
   "execution_count": 16,
   "metadata": {},
   "outputs": [
    {
     "name": "stdout",
     "output_type": "stream",
     "text": [
      "Accuracy on testing data for MLP model :  0.9838129496402878\n"
     ]
    },
    {
     "data": {
      "text/plain": [
       "array([[484,   0],\n",
       "       [  9,  63]], dtype=int64)"
      ]
     },
     "execution_count": 16,
     "metadata": {},
     "output_type": "execute_result"
    }
   ],
   "source": [
    "# Predict testing data with MLP Model\n",
    "MLPpredictTest = MLPclassifier.predict(test_data)\n",
    "print('Accuracy on testing data for MLP model : ', accuracy_score(test_label, MLPpredictTest))\n",
    "confusion_matrix(test_label, MLPpredictTest)"
   ]
  },
  {
   "cell_type": "code",
   "execution_count": null,
   "metadata": {},
   "outputs": [],
   "source": []
  }
 ],
 "metadata": {
  "kernelspec": {
   "display_name": "Python 3",
   "language": "python",
   "name": "python3"
  },
  "language_info": {
   "codemirror_mode": {
    "name": "ipython",
    "version": 3
   },
   "file_extension": ".py",
   "mimetype": "text/x-python",
   "name": "python",
   "nbconvert_exporter": "python",
   "pygments_lexer": "ipython3",
   "version": "3.7.5"
  }
 },
 "nbformat": 4,
 "nbformat_minor": 2
}
